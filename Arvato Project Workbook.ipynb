{
 "cells": [
  {
   "cell_type": "markdown",
   "metadata": {},
   "source": [
    "# Capstone Project: Create a Customer Segmentation Report for Arvato Financial Services\n",
    "\n",
    "In this project, you will analyze demographics data for customers of a mail-order sales company in Germany, comparing it against demographics information for the general population. You'll use unsupervised learning techniques to perform customer segmentation, identifying the parts of the population that best describe the core customer base of the company. Then, you'll apply what you've learned on a third dataset with demographics information for targets of a marketing campaign for the company, and use a model to predict which individuals are most likely to convert into becoming customers for the company. The data that you will use has been provided by our partners at Bertelsmann Arvato Analytics, and represents a real-life data science task.\n",
    "\n",
    "If you completed the first term of this program, you will be familiar with the first part of this project, from the unsupervised learning project. The versions of those two datasets used in this project will include many more features and has not been pre-cleaned. You are also free to choose whatever approach you'd like to analyzing the data rather than follow pre-determined steps. In your work on this project, make sure that you carefully document your steps and decisions, since your main deliverable for this project will be a blog post reporting your findings."
   ]
  },
  {
   "cell_type": "code",
   "execution_count": 1,
   "metadata": {},
   "outputs": [
    {
     "name": "stdout",
     "output_type": "stream",
     "text": [
      "Collecting cmake\n",
      "\u001b[?25l  Downloading https://files.pythonhosted.org/packages/bb/c5/9a07d851bf8356dba2871f141f3e5e8d390995687be20316041a1e564d4c/cmake-3.18.4.post1-py3-none-manylinux1_x86_64.whl (17.7MB)\n",
      "\u001b[K    100% |████████████████████████████████| 17.7MB 1.7MB/s eta 0:00:01  6% |██                              | 1.1MB 24.9MB/s eta 0:00:01    35% |███████████▌                    | 6.3MB 26.0MB/s eta 0:00:01    50% |████████████████▏               | 8.9MB 28.4MB/s eta 0:00:01    56% |██████████████████              | 10.0MB 27.4MB/s eta 0:00:01    63% |████████████████████▍           | 11.2MB 21.3MB/s eta 0:00:01    84% |███████████████████████████     | 14.9MB 25.4MB/s eta 0:00:01\n",
      "\u001b[?25hInstalling collected packages: cmake\n",
      "Successfully installed cmake-3.18.4.post1\n",
      "Collecting xgboost\n",
      "\u001b[?25l  Downloading https://files.pythonhosted.org/packages/f8/e0/d7c3e7c97d72e48425fda3d7eaa49db40e7122b6c8f7ab210b7167b3302b/xgboost-1.3.3.tar.gz (781kB)\n",
      "\u001b[K    100% |████████████████████████████████| 788kB 4.2MB/s ta 0:00:011\n",
      "\u001b[?25hRequirement already satisfied: numpy in /opt/conda/lib/python3.6/site-packages (from xgboost) (1.12.1)\n",
      "Requirement already satisfied: scipy in /opt/conda/lib/python3.6/site-packages (from xgboost) (1.2.1)\n",
      "Building wheels for collected packages: xgboost\n",
      "  Running setup.py bdist_wheel for xgboost ... \u001b[?25ldone\n",
      "\u001b[?25h  Stored in directory: /root/.cache/pip/wheels/b3/92/d1/3236b795441c26eec7f7cdc2c5aae671789e725fb487d49d96\n",
      "Successfully built xgboost\n",
      "Installing collected packages: xgboost\n",
      "Successfully installed xgboost-1.3.3\n"
     ]
    }
   ],
   "source": [
    "!pip install cmake\n",
    "!pip install xgboost"
   ]
  },
  {
   "cell_type": "code",
   "execution_count": 2,
   "metadata": {},
   "outputs": [],
   "source": [
    "# import libraries here; add more as necessary\n",
    "\n",
    "import numpy as np\n",
    "import pandas as pd\n",
    "import matplotlib.pyplot as plt\n",
    "import seaborn as sns\n",
    "import sklearn\n",
    "\n",
    "from sklearn.preprocessing import Imputer\n",
    "#from sklearn.impute import SimpleImputer\n",
    "from scipy import stats\n",
    "from sklearn.preprocessing import StandardScaler\n",
    "from sklearn.decomposition import PCA\n",
    "from sklearn.cluster import KMeans\n",
    "from sklearn.model_selection import train_test_split\n",
    "from sklearn.metrics import classification_report, roc_curve, roc_auc_score, auc\n",
    "from sklearn.ensemble import RandomForestClassifier\n",
    "import xgboost as xgb\n",
    "from xgboost import plot_importance\n",
    "from sklearn.model_selection import RandomizedSearchCV\n",
    "\n",
    "# magic word for producing visualizations in notebook\n",
    "%matplotlib inline"
   ]
  },
  {
   "cell_type": "markdown",
   "metadata": {},
   "source": [
    "## Part 0: Get to Know the Data\n",
    "\n",
    "There are four data files associated with this project:\n",
    "\n",
    "- `Udacity_AZDIAS_052018.csv`: Demographics data for the general population of Germany; 891 211 persons (rows) x 366 features (columns).\n",
    "- `Udacity_CUSTOMERS_052018.csv`: Demographics data for customers of a mail-order company; 191 652 persons (rows) x 369 features (columns).\n",
    "- `Udacity_MAILOUT_052018_TRAIN.csv`: Demographics data for individuals who were targets of a marketing campaign; 42 982 persons (rows) x 367 (columns).\n",
    "- `Udacity_MAILOUT_052018_TEST.csv`: Demographics data for individuals who were targets of a marketing campaign; 42 833 persons (rows) x 366 (columns).\n",
    "\n",
    "Each row of the demographics files represents a single person, but also includes information outside of individuals, including information about their household, building, and neighborhood. Use the information from the first two files to figure out how customers (\"CUSTOMERS\") are similar to or differ from the general population at large (\"AZDIAS\"), then use your analysis to make predictions on the other two files (\"MAILOUT\"), predicting which recipients are most likely to become a customer for the mail-order company.\n",
    "\n",
    "The \"CUSTOMERS\" file contains three extra columns ('CUSTOMER_GROUP', 'ONLINE_PURCHASE', and 'PRODUCT_GROUP'), which provide broad information about the customers depicted in the file. The original \"MAILOUT\" file included one additional column, \"RESPONSE\", which indicated whether or not each recipient became a customer of the company. For the \"TRAIN\" subset, this column has been retained, but in the \"TEST\" subset it has been removed; it is against that withheld column that your final predictions will be assessed in the Kaggle competition.\n",
    "\n",
    "Otherwise, all of the remaining columns are the same between the three data files. For more information about the columns depicted in the files, you can refer to two Excel spreadsheets provided in the workspace. [One of them](./DIAS Information Levels - Attributes 2017.xlsx) is a top-level list of attributes and descriptions, organized by informational category. [The other](./DIAS Attributes - Values 2017.xlsx) is a detailed mapping of data values for each feature in alphabetical order.\n",
    "\n",
    "In the below cell, we've provided some initial code to load in the first two datasets. Note for all of the `.csv` data files in this project that they're semicolon (`;`) delimited, so an additional argument in the [`read_csv()`](https://pandas.pydata.org/pandas-docs/stable/generated/pandas.read_csv.html) call has been included to read in the data properly. Also, considering the size of the datasets, it may take some time for them to load completely.\n",
    "\n",
    "You'll notice when the data is loaded in that a warning message will immediately pop up. Before you really start digging into the modeling and analysis, you're going to need to perform some cleaning. Take some time to browse the structure of the data and look over the informational spreadsheets to understand the data values. Make some decisions on which features to keep, which features to drop, and if any revisions need to be made on data formats. It'll be a good idea to create a function with pre-processing steps, since you'll need to clean all of the datasets before you work with them."
   ]
  },
  {
   "cell_type": "markdown",
   "metadata": {},
   "source": [
    "### 0.1. Loading data and exploration of the dataframes"
   ]
  },
  {
   "cell_type": "code",
   "execution_count": 3,
   "metadata": {},
   "outputs": [
    {
     "name": "stderr",
     "output_type": "stream",
     "text": [
      "/opt/conda/lib/python3.6/site-packages/IPython/core/interactiveshell.py:2785: DtypeWarning: Columns (18,19) have mixed types. Specify dtype option on import or set low_memory=False.\n",
      "  interactivity=interactivity, compiler=compiler, result=result)\n"
     ]
    }
   ],
   "source": [
    "# load in the data\n",
    "azdias = pd.read_csv('../../data/Term2/capstone/arvato_data/Udacity_AZDIAS_052018.csv', sep=';')"
   ]
  },
  {
   "cell_type": "code",
   "execution_count": 4,
   "metadata": {},
   "outputs": [
    {
     "name": "stderr",
     "output_type": "stream",
     "text": [
      "/opt/conda/lib/python3.6/site-packages/IPython/core/interactiveshell.py:2785: DtypeWarning: Columns (18,19) have mixed types. Specify dtype option on import or set low_memory=False.\n",
      "  interactivity=interactivity, compiler=compiler, result=result)\n"
     ]
    }
   ],
   "source": [
    "customers = pd.read_csv('../../data/Term2/capstone/arvato_data/Udacity_CUSTOMERS_052018.csv', sep=';')"
   ]
  },
  {
   "cell_type": "code",
   "execution_count": 5,
   "metadata": {},
   "outputs": [],
   "source": [
    "level_att = pd.read_excel('./DIAS Information Levels - Attributes 2017.xlsx', )\n",
    "del level_att['Unnamed: 0']"
   ]
  },
  {
   "cell_type": "code",
   "execution_count": 6,
   "metadata": {},
   "outputs": [],
   "source": [
    "# some information about azdias dataframe"
   ]
  },
  {
   "cell_type": "code",
   "execution_count": 5,
   "metadata": {},
   "outputs": [
    {
     "data": {
      "text/html": [
       "<div>\n",
       "<style scoped>\n",
       "    .dataframe tbody tr th:only-of-type {\n",
       "        vertical-align: middle;\n",
       "    }\n",
       "\n",
       "    .dataframe tbody tr th {\n",
       "        vertical-align: top;\n",
       "    }\n",
       "\n",
       "    .dataframe thead th {\n",
       "        text-align: right;\n",
       "    }\n",
       "</style>\n",
       "<table border=\"1\" class=\"dataframe\">\n",
       "  <thead>\n",
       "    <tr style=\"text-align: right;\">\n",
       "      <th></th>\n",
       "      <th>LNR</th>\n",
       "      <th>AGER_TYP</th>\n",
       "      <th>AKT_DAT_KL</th>\n",
       "      <th>ALTER_HH</th>\n",
       "      <th>ALTER_KIND1</th>\n",
       "      <th>ALTER_KIND2</th>\n",
       "      <th>ALTER_KIND3</th>\n",
       "      <th>ALTER_KIND4</th>\n",
       "      <th>ALTERSKATEGORIE_FEIN</th>\n",
       "      <th>ANZ_HAUSHALTE_AKTIV</th>\n",
       "      <th>...</th>\n",
       "      <th>VHN</th>\n",
       "      <th>VK_DHT4A</th>\n",
       "      <th>VK_DISTANZ</th>\n",
       "      <th>VK_ZG11</th>\n",
       "      <th>W_KEIT_KIND_HH</th>\n",
       "      <th>WOHNDAUER_2008</th>\n",
       "      <th>WOHNLAGE</th>\n",
       "      <th>ZABEOTYP</th>\n",
       "      <th>ANREDE_KZ</th>\n",
       "      <th>ALTERSKATEGORIE_GROB</th>\n",
       "    </tr>\n",
       "  </thead>\n",
       "  <tbody>\n",
       "    <tr>\n",
       "      <th>0</th>\n",
       "      <td>910215</td>\n",
       "      <td>-1</td>\n",
       "      <td>NaN</td>\n",
       "      <td>NaN</td>\n",
       "      <td>NaN</td>\n",
       "      <td>NaN</td>\n",
       "      <td>NaN</td>\n",
       "      <td>NaN</td>\n",
       "      <td>NaN</td>\n",
       "      <td>NaN</td>\n",
       "      <td>...</td>\n",
       "      <td>NaN</td>\n",
       "      <td>NaN</td>\n",
       "      <td>NaN</td>\n",
       "      <td>NaN</td>\n",
       "      <td>NaN</td>\n",
       "      <td>NaN</td>\n",
       "      <td>NaN</td>\n",
       "      <td>3</td>\n",
       "      <td>1</td>\n",
       "      <td>2</td>\n",
       "    </tr>\n",
       "    <tr>\n",
       "      <th>1</th>\n",
       "      <td>910220</td>\n",
       "      <td>-1</td>\n",
       "      <td>9.0</td>\n",
       "      <td>0.0</td>\n",
       "      <td>NaN</td>\n",
       "      <td>NaN</td>\n",
       "      <td>NaN</td>\n",
       "      <td>NaN</td>\n",
       "      <td>21.0</td>\n",
       "      <td>11.0</td>\n",
       "      <td>...</td>\n",
       "      <td>4.0</td>\n",
       "      <td>8.0</td>\n",
       "      <td>11.0</td>\n",
       "      <td>10.0</td>\n",
       "      <td>3.0</td>\n",
       "      <td>9.0</td>\n",
       "      <td>4.0</td>\n",
       "      <td>5</td>\n",
       "      <td>2</td>\n",
       "      <td>1</td>\n",
       "    </tr>\n",
       "    <tr>\n",
       "      <th>2</th>\n",
       "      <td>910225</td>\n",
       "      <td>-1</td>\n",
       "      <td>9.0</td>\n",
       "      <td>17.0</td>\n",
       "      <td>NaN</td>\n",
       "      <td>NaN</td>\n",
       "      <td>NaN</td>\n",
       "      <td>NaN</td>\n",
       "      <td>17.0</td>\n",
       "      <td>10.0</td>\n",
       "      <td>...</td>\n",
       "      <td>2.0</td>\n",
       "      <td>9.0</td>\n",
       "      <td>9.0</td>\n",
       "      <td>6.0</td>\n",
       "      <td>3.0</td>\n",
       "      <td>9.0</td>\n",
       "      <td>2.0</td>\n",
       "      <td>5</td>\n",
       "      <td>2</td>\n",
       "      <td>3</td>\n",
       "    </tr>\n",
       "    <tr>\n",
       "      <th>3</th>\n",
       "      <td>910226</td>\n",
       "      <td>2</td>\n",
       "      <td>1.0</td>\n",
       "      <td>13.0</td>\n",
       "      <td>NaN</td>\n",
       "      <td>NaN</td>\n",
       "      <td>NaN</td>\n",
       "      <td>NaN</td>\n",
       "      <td>13.0</td>\n",
       "      <td>1.0</td>\n",
       "      <td>...</td>\n",
       "      <td>0.0</td>\n",
       "      <td>7.0</td>\n",
       "      <td>10.0</td>\n",
       "      <td>11.0</td>\n",
       "      <td>NaN</td>\n",
       "      <td>9.0</td>\n",
       "      <td>7.0</td>\n",
       "      <td>3</td>\n",
       "      <td>2</td>\n",
       "      <td>4</td>\n",
       "    </tr>\n",
       "    <tr>\n",
       "      <th>4</th>\n",
       "      <td>910241</td>\n",
       "      <td>-1</td>\n",
       "      <td>1.0</td>\n",
       "      <td>20.0</td>\n",
       "      <td>NaN</td>\n",
       "      <td>NaN</td>\n",
       "      <td>NaN</td>\n",
       "      <td>NaN</td>\n",
       "      <td>14.0</td>\n",
       "      <td>3.0</td>\n",
       "      <td>...</td>\n",
       "      <td>2.0</td>\n",
       "      <td>3.0</td>\n",
       "      <td>5.0</td>\n",
       "      <td>4.0</td>\n",
       "      <td>2.0</td>\n",
       "      <td>9.0</td>\n",
       "      <td>3.0</td>\n",
       "      <td>4</td>\n",
       "      <td>1</td>\n",
       "      <td>3</td>\n",
       "    </tr>\n",
       "  </tbody>\n",
       "</table>\n",
       "<p>5 rows × 366 columns</p>\n",
       "</div>"
      ],
      "text/plain": [
       "      LNR  AGER_TYP  AKT_DAT_KL  ALTER_HH  ALTER_KIND1  ALTER_KIND2  \\\n",
       "0  910215        -1         NaN       NaN          NaN          NaN   \n",
       "1  910220        -1         9.0       0.0          NaN          NaN   \n",
       "2  910225        -1         9.0      17.0          NaN          NaN   \n",
       "3  910226         2         1.0      13.0          NaN          NaN   \n",
       "4  910241        -1         1.0      20.0          NaN          NaN   \n",
       "\n",
       "   ALTER_KIND3  ALTER_KIND4  ALTERSKATEGORIE_FEIN  ANZ_HAUSHALTE_AKTIV  \\\n",
       "0          NaN          NaN                   NaN                  NaN   \n",
       "1          NaN          NaN                  21.0                 11.0   \n",
       "2          NaN          NaN                  17.0                 10.0   \n",
       "3          NaN          NaN                  13.0                  1.0   \n",
       "4          NaN          NaN                  14.0                  3.0   \n",
       "\n",
       "          ...           VHN  VK_DHT4A  VK_DISTANZ  VK_ZG11  W_KEIT_KIND_HH  \\\n",
       "0         ...           NaN       NaN         NaN      NaN             NaN   \n",
       "1         ...           4.0       8.0        11.0     10.0             3.0   \n",
       "2         ...           2.0       9.0         9.0      6.0             3.0   \n",
       "3         ...           0.0       7.0        10.0     11.0             NaN   \n",
       "4         ...           2.0       3.0         5.0      4.0             2.0   \n",
       "\n",
       "   WOHNDAUER_2008  WOHNLAGE ZABEOTYP ANREDE_KZ ALTERSKATEGORIE_GROB  \n",
       "0             NaN       NaN        3         1                    2  \n",
       "1             9.0       4.0        5         2                    1  \n",
       "2             9.0       2.0        5         2                    3  \n",
       "3             9.0       7.0        3         2                    4  \n",
       "4             9.0       3.0        4         1                    3  \n",
       "\n",
       "[5 rows x 366 columns]"
      ]
     },
     "execution_count": 5,
     "metadata": {},
     "output_type": "execute_result"
    }
   ],
   "source": [
    "azdias.head()"
   ]
  },
  {
   "cell_type": "code",
   "execution_count": 6,
   "metadata": {},
   "outputs": [
    {
     "data": {
      "text/plain": [
       "(891221, 366)"
      ]
     },
     "execution_count": 6,
     "metadata": {},
     "output_type": "execute_result"
    }
   ],
   "source": [
    "azdias.shape"
   ]
  },
  {
   "cell_type": "code",
   "execution_count": 7,
   "metadata": {},
   "outputs": [
    {
     "name": "stdout",
     "output_type": "stream",
     "text": [
      "<class 'pandas.core.frame.DataFrame'>\n",
      "RangeIndex: 891221 entries, 0 to 891220\n",
      "Data columns (total 366 columns):\n",
      "LNR                            891221 non-null int64\n",
      "AGER_TYP                       891221 non-null int64\n",
      "AKT_DAT_KL                     817722 non-null float64\n",
      "ALTER_HH                       817722 non-null float64\n",
      "ALTER_KIND1                    81058 non-null float64\n",
      "ALTER_KIND2                    29499 non-null float64\n",
      "ALTER_KIND3                    6170 non-null float64\n",
      "ALTER_KIND4                    1205 non-null float64\n",
      "ALTERSKATEGORIE_FEIN           628274 non-null float64\n",
      "ANZ_HAUSHALTE_AKTIV            798073 non-null float64\n",
      "ANZ_HH_TITEL                   794213 non-null float64\n",
      "ANZ_KINDER                     817722 non-null float64\n",
      "ANZ_PERSONEN                   817722 non-null float64\n",
      "ANZ_STATISTISCHE_HAUSHALTE     798073 non-null float64\n",
      "ANZ_TITEL                      817722 non-null float64\n",
      "ARBEIT                         794005 non-null float64\n",
      "BALLRAUM                       797481 non-null float64\n",
      "CAMEO_DEU_2015                 792242 non-null object\n",
      "CAMEO_DEUG_2015                792242 non-null object\n",
      "CAMEO_INTL_2015                792242 non-null object\n",
      "CJT_GESAMTTYP                  886367 non-null float64\n",
      "CJT_KATALOGNUTZER              886367 non-null float64\n",
      "CJT_TYP_1                      886367 non-null float64\n",
      "CJT_TYP_2                      886367 non-null float64\n",
      "CJT_TYP_3                      886367 non-null float64\n",
      "CJT_TYP_4                      886367 non-null float64\n",
      "CJT_TYP_5                      886367 non-null float64\n",
      "CJT_TYP_6                      886367 non-null float64\n",
      "D19_BANKEN_ANZ_12              891221 non-null int64\n",
      "D19_BANKEN_ANZ_24              891221 non-null int64\n",
      "D19_BANKEN_DATUM               891221 non-null int64\n",
      "D19_BANKEN_DIREKT              891221 non-null int64\n",
      "D19_BANKEN_GROSS               891221 non-null int64\n",
      "D19_BANKEN_LOKAL               891221 non-null int64\n",
      "D19_BANKEN_OFFLINE_DATUM       891221 non-null int64\n",
      "D19_BANKEN_ONLINE_DATUM        891221 non-null int64\n",
      "D19_BANKEN_ONLINE_QUOTE_12     634108 non-null float64\n",
      "D19_BANKEN_REST                891221 non-null int64\n",
      "D19_BEKLEIDUNG_GEH             891221 non-null int64\n",
      "D19_BEKLEIDUNG_REST            891221 non-null int64\n",
      "D19_BILDUNG                    891221 non-null int64\n",
      "D19_BIO_OEKO                   891221 non-null int64\n",
      "D19_BUCH_CD                    891221 non-null int64\n",
      "D19_DIGIT_SERV                 891221 non-null int64\n",
      "D19_DROGERIEARTIKEL            891221 non-null int64\n",
      "D19_ENERGIE                    891221 non-null int64\n",
      "D19_FREIZEIT                   891221 non-null int64\n",
      "D19_GARTEN                     891221 non-null int64\n",
      "D19_GESAMT_ANZ_12              891221 non-null int64\n",
      "D19_GESAMT_ANZ_24              891221 non-null int64\n",
      "D19_GESAMT_DATUM               891221 non-null int64\n",
      "D19_GESAMT_OFFLINE_DATUM       891221 non-null int64\n",
      "D19_GESAMT_ONLINE_DATUM        891221 non-null int64\n",
      "D19_GESAMT_ONLINE_QUOTE_12     634108 non-null float64\n",
      "D19_HANDWERK                   891221 non-null int64\n",
      "D19_HAUS_DEKO                  891221 non-null int64\n",
      "D19_KINDERARTIKEL              891221 non-null int64\n",
      "D19_KONSUMTYP                  634108 non-null float64\n",
      "D19_KONSUMTYP_MAX              891221 non-null int64\n",
      "D19_KOSMETIK                   891221 non-null int64\n",
      "D19_LEBENSMITTEL               891221 non-null int64\n",
      "D19_LETZTER_KAUF_BRANCHE       634108 non-null object\n",
      "D19_LOTTO                      634108 non-null float64\n",
      "D19_NAHRUNGSERGAENZUNG         891221 non-null int64\n",
      "D19_RATGEBER                   891221 non-null int64\n",
      "D19_REISEN                     891221 non-null int64\n",
      "D19_SAMMELARTIKEL              891221 non-null int64\n",
      "D19_SCHUHE                     891221 non-null int64\n",
      "D19_SONSTIGE                   891221 non-null int64\n",
      "D19_SOZIALES                   634108 non-null float64\n",
      "D19_TECHNIK                    891221 non-null int64\n",
      "D19_TELKO_ANZ_12               891221 non-null int64\n",
      "D19_TELKO_ANZ_24               891221 non-null int64\n",
      "D19_TELKO_DATUM                891221 non-null int64\n",
      "D19_TELKO_MOBILE               891221 non-null int64\n",
      "D19_TELKO_OFFLINE_DATUM        891221 non-null int64\n",
      "D19_TELKO_ONLINE_DATUM         891221 non-null int64\n",
      "D19_TELKO_ONLINE_QUOTE_12      634108 non-null float64\n",
      "D19_TELKO_REST                 891221 non-null int64\n",
      "D19_TIERARTIKEL                891221 non-null int64\n",
      "D19_VERSAND_ANZ_12             891221 non-null int64\n",
      "D19_VERSAND_ANZ_24             891221 non-null int64\n",
      "D19_VERSAND_DATUM              891221 non-null int64\n",
      "D19_VERSAND_OFFLINE_DATUM      891221 non-null int64\n",
      "D19_VERSAND_ONLINE_DATUM       891221 non-null int64\n",
      "D19_VERSAND_ONLINE_QUOTE_12    634108 non-null float64\n",
      "D19_VERSAND_REST               891221 non-null int64\n",
      "D19_VERSI_ANZ_12               891221 non-null int64\n",
      "D19_VERSI_ANZ_24               891221 non-null int64\n",
      "D19_VERSI_DATUM                891221 non-null int64\n",
      "D19_VERSI_OFFLINE_DATUM        891221 non-null int64\n",
      "D19_VERSI_ONLINE_DATUM         891221 non-null int64\n",
      "D19_VERSI_ONLINE_QUOTE_12      634108 non-null float64\n",
      "D19_VERSICHERUNGEN             891221 non-null int64\n",
      "D19_VOLLSORTIMENT              891221 non-null int64\n",
      "D19_WEIN_FEINKOST              891221 non-null int64\n",
      "DSL_FLAG                       798073 non-null float64\n",
      "EINGEFUEGT_AM                  798073 non-null object\n",
      "EINGEZOGENAM_HH_JAHR           817722 non-null float64\n",
      "EWDICHTE                       797481 non-null float64\n",
      "EXTSEL992                      237068 non-null float64\n",
      "FINANZ_ANLEGER                 891221 non-null int64\n",
      "FINANZ_HAUSBAUER               891221 non-null int64\n",
      "FINANZ_MINIMALIST              891221 non-null int64\n",
      "FINANZ_SPARER                  891221 non-null int64\n",
      "FINANZ_UNAUFFAELLIGER          891221 non-null int64\n",
      "FINANZ_VORSORGER               891221 non-null int64\n",
      "FINANZTYP                      891221 non-null int64\n",
      "FIRMENDICHTE                   798066 non-null float64\n",
      "GEBAEUDETYP                    798073 non-null float64\n",
      "GEBAEUDETYP_RASTER             798066 non-null float64\n",
      "GEBURTSJAHR                    891221 non-null int64\n",
      "GEMEINDETYP                    793947 non-null float64\n",
      "GFK_URLAUBERTYP                886367 non-null float64\n",
      "GREEN_AVANTGARDE               891221 non-null int64\n",
      "HEALTH_TYP                     891221 non-null int64\n",
      "HH_DELTA_FLAG                  783619 non-null float64\n",
      "HH_EINKOMMEN_SCORE             872873 non-null float64\n",
      "INNENSTADT                     797481 non-null float64\n",
      "KBA05_ALTER1                   757897 non-null float64\n",
      "KBA05_ALTER2                   757897 non-null float64\n",
      "KBA05_ALTER3                   757897 non-null float64\n",
      "KBA05_ALTER4                   757897 non-null float64\n",
      "KBA05_ANHANG                   757897 non-null float64\n",
      "KBA05_ANTG1                    757897 non-null float64\n",
      "KBA05_ANTG2                    757897 non-null float64\n",
      "KBA05_ANTG3                    757897 non-null float64\n",
      "KBA05_ANTG4                    757897 non-null float64\n",
      "KBA05_AUTOQUOT                 757897 non-null float64\n",
      "KBA05_BAUMAX                   757897 non-null float64\n",
      "KBA05_CCM1                     757897 non-null float64\n",
      "KBA05_CCM2                     757897 non-null float64\n",
      "KBA05_CCM3                     757897 non-null float64\n",
      "KBA05_CCM4                     757897 non-null float64\n",
      "KBA05_DIESEL                   757897 non-null float64\n",
      "KBA05_FRAU                     757897 non-null float64\n",
      "KBA05_GBZ                      757897 non-null float64\n",
      "KBA05_HERST1                   757897 non-null float64\n",
      "KBA05_HERST2                   757897 non-null float64\n",
      "KBA05_HERST3                   757897 non-null float64\n",
      "KBA05_HERST4                   757897 non-null float64\n",
      "KBA05_HERST5                   757897 non-null float64\n",
      "KBA05_HERSTTEMP                798073 non-null float64\n",
      "KBA05_KRSAQUOT                 757897 non-null float64\n",
      "KBA05_KRSHERST1                757897 non-null float64\n",
      "KBA05_KRSHERST2                757897 non-null float64\n",
      "KBA05_KRSHERST3                757897 non-null float64\n",
      "KBA05_KRSKLEIN                 757897 non-null float64\n",
      "KBA05_KRSOBER                  757897 non-null float64\n",
      "KBA05_KRSVAN                   757897 non-null float64\n",
      "KBA05_KRSZUL                   757897 non-null float64\n",
      "KBA05_KW1                      757897 non-null float64\n",
      "KBA05_KW2                      757897 non-null float64\n",
      "KBA05_KW3                      757897 non-null float64\n",
      "KBA05_MAXAH                    757897 non-null float64\n",
      "KBA05_MAXBJ                    757897 non-null float64\n",
      "KBA05_MAXHERST                 757897 non-null float64\n",
      "KBA05_MAXSEG                   757897 non-null float64\n",
      "KBA05_MAXVORB                  757897 non-null float64\n",
      "KBA05_MOD1                     757897 non-null float64\n",
      "KBA05_MOD2                     757897 non-null float64\n",
      "KBA05_MOD3                     757897 non-null float64\n",
      "KBA05_MOD4                     757897 non-null float64\n",
      "KBA05_MOD8                     757897 non-null float64\n",
      "KBA05_MODTEMP                  798073 non-null float64\n",
      "KBA05_MOTOR                    757897 non-null float64\n",
      "KBA05_MOTRAD                   757897 non-null float64\n",
      "KBA05_SEG1                     757897 non-null float64\n",
      "KBA05_SEG10                    757897 non-null float64\n",
      "KBA05_SEG2                     757897 non-null float64\n",
      "KBA05_SEG3                     757897 non-null float64\n",
      "KBA05_SEG4                     757897 non-null float64\n",
      "KBA05_SEG5                     757897 non-null float64\n",
      "KBA05_SEG6                     757897 non-null float64\n",
      "KBA05_SEG7                     757897 non-null float64\n",
      "KBA05_SEG8                     757897 non-null float64\n",
      "KBA05_SEG9                     757897 non-null float64\n",
      "KBA05_VORB0                    757897 non-null float64\n",
      "KBA05_VORB1                    757897 non-null float64\n",
      "KBA05_VORB2                    757897 non-null float64\n",
      "KBA05_ZUL1                     757897 non-null float64\n",
      "KBA05_ZUL2                     757897 non-null float64\n",
      "KBA05_ZUL3                     757897 non-null float64\n",
      "KBA05_ZUL4                     757897 non-null float64\n",
      "KBA13_ALTERHALTER_30           785421 non-null float64\n",
      "KBA13_ALTERHALTER_45           785421 non-null float64\n",
      "KBA13_ALTERHALTER_60           785421 non-null float64\n",
      "KBA13_ALTERHALTER_61           785421 non-null float64\n",
      "KBA13_ANTG1                    785421 non-null float64\n",
      "KBA13_ANTG2                    785421 non-null float64\n",
      "KBA13_ANTG3                    785421 non-null float64\n",
      "KBA13_ANTG4                    785421 non-null float64\n",
      "KBA13_ANZAHL_PKW               785421 non-null float64\n",
      "KBA13_AUDI                     785421 non-null float64\n",
      "KBA13_AUTOQUOTE                785421 non-null float64\n",
      "KBA13_BAUMAX                   785421 non-null float64\n",
      "KBA13_BJ_1999                  785421 non-null float64\n",
      "KBA13_BJ_2000                  785421 non-null float64\n",
      "KBA13_BJ_2004                  785421 non-null float64\n",
      "KBA13_BJ_2006                  785421 non-null float64\n",
      "KBA13_BJ_2008                  785421 non-null float64\n",
      "KBA13_BJ_2009                  785421 non-null float64\n",
      "KBA13_BMW                      785421 non-null float64\n",
      "KBA13_CCM_0_1400               785421 non-null float64\n",
      "KBA13_CCM_1000                 785421 non-null float64\n",
      "KBA13_CCM_1200                 785421 non-null float64\n",
      "KBA13_CCM_1400                 785421 non-null float64\n",
      "KBA13_CCM_1401_2500            785421 non-null float64\n",
      "KBA13_CCM_1500                 785421 non-null float64\n",
      "KBA13_CCM_1600                 785421 non-null float64\n",
      "KBA13_CCM_1800                 785421 non-null float64\n",
      "KBA13_CCM_2000                 785421 non-null float64\n",
      "KBA13_CCM_2500                 785421 non-null float64\n",
      "KBA13_CCM_2501                 785421 non-null float64\n",
      "KBA13_CCM_3000                 785421 non-null float64\n",
      "KBA13_CCM_3001                 785421 non-null float64\n",
      "KBA13_FAB_ASIEN                785421 non-null float64\n",
      "KBA13_FAB_SONSTIGE             785421 non-null float64\n",
      "KBA13_FIAT                     785421 non-null float64\n",
      "KBA13_FORD                     785421 non-null float64\n",
      "KBA13_GBZ                      785421 non-null float64\n",
      "KBA13_HALTER_20                785421 non-null float64\n",
      "KBA13_HALTER_25                785421 non-null float64\n",
      "KBA13_HALTER_30                785421 non-null float64\n",
      "KBA13_HALTER_35                785421 non-null float64\n",
      "KBA13_HALTER_40                785421 non-null float64\n",
      "KBA13_HALTER_45                785421 non-null float64\n",
      "KBA13_HALTER_50                785421 non-null float64\n",
      "KBA13_HALTER_55                785421 non-null float64\n",
      "KBA13_HALTER_60                785421 non-null float64\n",
      "KBA13_HALTER_65                785421 non-null float64\n",
      "KBA13_HALTER_66                785421 non-null float64\n",
      "KBA13_HERST_ASIEN              785421 non-null float64\n",
      "KBA13_HERST_AUDI_VW            785421 non-null float64\n",
      "KBA13_HERST_BMW_BENZ           785421 non-null float64\n",
      "KBA13_HERST_EUROPA             785421 non-null float64\n",
      "KBA13_HERST_FORD_OPEL          785421 non-null float64\n",
      "KBA13_HERST_SONST              785421 non-null float64\n",
      "KBA13_HHZ                      785421 non-null float64\n",
      "KBA13_KMH_0_140                785421 non-null float64\n",
      "KBA13_KMH_110                  785421 non-null float64\n",
      "KBA13_KMH_140                  785421 non-null float64\n",
      "KBA13_KMH_140_210              785421 non-null float64\n",
      "KBA13_KMH_180                  785421 non-null float64\n",
      "KBA13_KMH_210                  785421 non-null float64\n",
      "KBA13_KMH_211                  785421 non-null float64\n",
      "KBA13_KMH_250                  785421 non-null float64\n",
      "KBA13_KMH_251                  785421 non-null float64\n",
      "KBA13_KRSAQUOT                 785421 non-null float64\n",
      "KBA13_KRSHERST_AUDI_VW         785421 non-null float64\n",
      "KBA13_KRSHERST_BMW_BENZ        785421 non-null float64\n",
      "KBA13_KRSHERST_FORD_OPEL       785421 non-null float64\n",
      "KBA13_KRSSEG_KLEIN             785421 non-null float64\n",
      "KBA13_KRSSEG_OBER              785421 non-null float64\n",
      "KBA13_KRSSEG_VAN               785421 non-null float64\n",
      "KBA13_KRSZUL_NEU               785421 non-null float64\n",
      "KBA13_KW_0_60                  785421 non-null float64\n",
      "KBA13_KW_110                   785421 non-null float64\n",
      "KBA13_KW_120                   785421 non-null float64\n",
      "KBA13_KW_121                   785421 non-null float64\n",
      "KBA13_KW_30                    785421 non-null float64\n",
      "KBA13_KW_40                    785421 non-null float64\n",
      "KBA13_KW_50                    785421 non-null float64\n",
      "KBA13_KW_60                    785421 non-null float64\n",
      "KBA13_KW_61_120                785421 non-null float64\n",
      "KBA13_KW_70                    785421 non-null float64\n",
      "KBA13_KW_80                    785421 non-null float64\n",
      "KBA13_KW_90                    785421 non-null float64\n",
      "KBA13_MAZDA                    785421 non-null float64\n",
      "KBA13_MERCEDES                 785421 non-null float64\n",
      "KBA13_MOTOR                    785421 non-null float64\n",
      "KBA13_NISSAN                   785421 non-null float64\n",
      "KBA13_OPEL                     785421 non-null float64\n",
      "KBA13_PEUGEOT                  785421 non-null float64\n",
      "KBA13_RENAULT                  785421 non-null float64\n",
      "KBA13_SEG_GELAENDEWAGEN        785421 non-null float64\n",
      "KBA13_SEG_GROSSRAUMVANS        785421 non-null float64\n",
      "KBA13_SEG_KLEINST              785421 non-null float64\n",
      "KBA13_SEG_KLEINWAGEN           785421 non-null float64\n",
      "KBA13_SEG_KOMPAKTKLASSE        785421 non-null float64\n",
      "KBA13_SEG_MINIVANS             785421 non-null float64\n",
      "KBA13_SEG_MINIWAGEN            785421 non-null float64\n",
      "KBA13_SEG_MITTELKLASSE         785421 non-null float64\n",
      "KBA13_SEG_OBEREMITTELKLASSE    785421 non-null float64\n",
      "KBA13_SEG_OBERKLASSE           785421 non-null float64\n",
      "KBA13_SEG_SONSTIGE             785421 non-null float64\n",
      "KBA13_SEG_SPORTWAGEN           785421 non-null float64\n",
      "KBA13_SEG_UTILITIES            785421 non-null float64\n",
      "KBA13_SEG_VAN                  785421 non-null float64\n",
      "KBA13_SEG_WOHNMOBILE           785421 non-null float64\n",
      "KBA13_SITZE_4                  785421 non-null float64\n",
      "KBA13_SITZE_5                  785421 non-null float64\n",
      "KBA13_SITZE_6                  785421 non-null float64\n",
      "KBA13_TOYOTA                   785421 non-null float64\n",
      "KBA13_VORB_0                   785421 non-null float64\n",
      "KBA13_VORB_1                   785421 non-null float64\n",
      "KBA13_VORB_1_2                 785421 non-null float64\n",
      "KBA13_VORB_2                   785421 non-null float64\n",
      "KBA13_VORB_3                   785421 non-null float64\n",
      "KBA13_VW                       785421 non-null float64\n",
      "KK_KUNDENTYP                   306609 non-null float64\n",
      "KKK                            770025 non-null float64\n",
      "KOMBIALTER                     891221 non-null int64\n",
      "KONSUMNAEHE                    817252 non-null float64\n",
      "KONSUMZELLE                    798066 non-null float64\n",
      "LP_FAMILIE_FEIN                886367 non-null float64\n",
      "LP_FAMILIE_GROB                886367 non-null float64\n",
      "LP_LEBENSPHASE_FEIN            886367 non-null float64\n",
      "LP_LEBENSPHASE_GROB            886367 non-null float64\n",
      "LP_STATUS_FEIN                 886367 non-null float64\n",
      "LP_STATUS_GROB                 886367 non-null float64\n",
      "MIN_GEBAEUDEJAHR               798073 non-null float64\n",
      "MOBI_RASTER                    798073 non-null float64\n",
      "MOBI_REGIO                     757897 non-null float64\n",
      "NATIONALITAET_KZ               891221 non-null int64\n",
      "ONLINE_AFFINITAET              886367 non-null float64\n",
      "ORTSGR_KLS9                    794005 non-null float64\n",
      "OST_WEST_KZ                    798073 non-null object\n",
      "PLZ8_ANTG1                     774706 non-null float64\n",
      "PLZ8_ANTG2                     774706 non-null float64\n",
      "PLZ8_ANTG3                     774706 non-null float64\n",
      "PLZ8_ANTG4                     774706 non-null float64\n",
      "PLZ8_BAUMAX                    774706 non-null float64\n",
      "PLZ8_GBZ                       774706 non-null float64\n",
      "PLZ8_HHZ                       774706 non-null float64\n",
      "PRAEGENDE_JUGENDJAHRE          891221 non-null int64\n",
      "REGIOTYP                       770025 non-null float64\n",
      "RELAT_AB                       794005 non-null float64\n",
      "RETOURTYP_BK_S                 886367 non-null float64\n",
      "RT_KEIN_ANREIZ                 886367 non-null float64\n",
      "RT_SCHNAEPPCHEN                886367 non-null float64\n",
      "RT_UEBERGROESSE                839995 non-null float64\n",
      "SEMIO_DOM                      891221 non-null int64\n",
      "SEMIO_ERL                      891221 non-null int64\n",
      "SEMIO_FAM                      891221 non-null int64\n",
      "SEMIO_KAEM                     891221 non-null int64\n",
      "SEMIO_KRIT                     891221 non-null int64\n",
      "SEMIO_KULT                     891221 non-null int64\n",
      "SEMIO_LUST                     891221 non-null int64\n",
      "SEMIO_MAT                      891221 non-null int64\n",
      "SEMIO_PFLICHT                  891221 non-null int64\n",
      "SEMIO_RAT                      891221 non-null int64\n",
      "SEMIO_REL                      891221 non-null int64\n",
      "SEMIO_SOZ                      891221 non-null int64\n",
      "SEMIO_TRADV                    891221 non-null int64\n",
      "SEMIO_VERT                     891221 non-null int64\n",
      "SHOPPER_TYP                    891221 non-null int64\n",
      "SOHO_KZ                        817722 non-null float64\n",
      "STRUKTURTYP                    793947 non-null float64\n",
      "TITEL_KZ                       817722 non-null float64\n",
      "UMFELD_ALT                     793435 non-null float64\n",
      "UMFELD_JUNG                    793435 non-null float64\n",
      "UNGLEICHENN_FLAG               817722 non-null float64\n",
      "VERDICHTUNGSRAUM               793947 non-null float64\n",
      "VERS_TYP                       891221 non-null int64\n",
      "VHA                            817722 non-null float64\n",
      "VHN                            770025 non-null float64\n",
      "VK_DHT4A                       815304 non-null float64\n",
      "VK_DISTANZ                     815304 non-null float64\n",
      "VK_ZG11                        815304 non-null float64\n",
      "W_KEIT_KIND_HH                 783619 non-null float64\n",
      "WOHNDAUER_2008                 817722 non-null float64\n",
      "WOHNLAGE                       798073 non-null float64\n",
      "ZABEOTYP                       891221 non-null int64\n",
      "ANREDE_KZ                      891221 non-null int64\n",
      "ALTERSKATEGORIE_GROB           891221 non-null int64\n",
      "dtypes: float64(267), int64(93), object(6)\n",
      "memory usage: 2.4+ GB\n"
     ]
    }
   ],
   "source": [
    "azdias.info(verbose=True, null_counts=True)"
   ]
  },
  {
   "cell_type": "code",
   "execution_count": 8,
   "metadata": {},
   "outputs": [],
   "source": [
    "# some information about customer dataframe"
   ]
  },
  {
   "cell_type": "code",
   "execution_count": 9,
   "metadata": {},
   "outputs": [
    {
     "data": {
      "text/html": [
       "<div>\n",
       "<style scoped>\n",
       "    .dataframe tbody tr th:only-of-type {\n",
       "        vertical-align: middle;\n",
       "    }\n",
       "\n",
       "    .dataframe tbody tr th {\n",
       "        vertical-align: top;\n",
       "    }\n",
       "\n",
       "    .dataframe thead th {\n",
       "        text-align: right;\n",
       "    }\n",
       "</style>\n",
       "<table border=\"1\" class=\"dataframe\">\n",
       "  <thead>\n",
       "    <tr style=\"text-align: right;\">\n",
       "      <th></th>\n",
       "      <th>LNR</th>\n",
       "      <th>AGER_TYP</th>\n",
       "      <th>AKT_DAT_KL</th>\n",
       "      <th>ALTER_HH</th>\n",
       "      <th>ALTER_KIND1</th>\n",
       "      <th>ALTER_KIND2</th>\n",
       "      <th>ALTER_KIND3</th>\n",
       "      <th>ALTER_KIND4</th>\n",
       "      <th>ALTERSKATEGORIE_FEIN</th>\n",
       "      <th>ANZ_HAUSHALTE_AKTIV</th>\n",
       "      <th>...</th>\n",
       "      <th>VK_ZG11</th>\n",
       "      <th>W_KEIT_KIND_HH</th>\n",
       "      <th>WOHNDAUER_2008</th>\n",
       "      <th>WOHNLAGE</th>\n",
       "      <th>ZABEOTYP</th>\n",
       "      <th>PRODUCT_GROUP</th>\n",
       "      <th>CUSTOMER_GROUP</th>\n",
       "      <th>ONLINE_PURCHASE</th>\n",
       "      <th>ANREDE_KZ</th>\n",
       "      <th>ALTERSKATEGORIE_GROB</th>\n",
       "    </tr>\n",
       "  </thead>\n",
       "  <tbody>\n",
       "    <tr>\n",
       "      <th>0</th>\n",
       "      <td>9626</td>\n",
       "      <td>2</td>\n",
       "      <td>1.0</td>\n",
       "      <td>10.0</td>\n",
       "      <td>NaN</td>\n",
       "      <td>NaN</td>\n",
       "      <td>NaN</td>\n",
       "      <td>NaN</td>\n",
       "      <td>10.0</td>\n",
       "      <td>1.0</td>\n",
       "      <td>...</td>\n",
       "      <td>2.0</td>\n",
       "      <td>6.0</td>\n",
       "      <td>9.0</td>\n",
       "      <td>7.0</td>\n",
       "      <td>3</td>\n",
       "      <td>COSMETIC_AND_FOOD</td>\n",
       "      <td>MULTI_BUYER</td>\n",
       "      <td>0</td>\n",
       "      <td>1</td>\n",
       "      <td>4</td>\n",
       "    </tr>\n",
       "    <tr>\n",
       "      <th>1</th>\n",
       "      <td>9628</td>\n",
       "      <td>-1</td>\n",
       "      <td>9.0</td>\n",
       "      <td>11.0</td>\n",
       "      <td>NaN</td>\n",
       "      <td>NaN</td>\n",
       "      <td>NaN</td>\n",
       "      <td>NaN</td>\n",
       "      <td>NaN</td>\n",
       "      <td>NaN</td>\n",
       "      <td>...</td>\n",
       "      <td>3.0</td>\n",
       "      <td>0.0</td>\n",
       "      <td>9.0</td>\n",
       "      <td>NaN</td>\n",
       "      <td>3</td>\n",
       "      <td>FOOD</td>\n",
       "      <td>SINGLE_BUYER</td>\n",
       "      <td>0</td>\n",
       "      <td>1</td>\n",
       "      <td>4</td>\n",
       "    </tr>\n",
       "    <tr>\n",
       "      <th>2</th>\n",
       "      <td>143872</td>\n",
       "      <td>-1</td>\n",
       "      <td>1.0</td>\n",
       "      <td>6.0</td>\n",
       "      <td>NaN</td>\n",
       "      <td>NaN</td>\n",
       "      <td>NaN</td>\n",
       "      <td>NaN</td>\n",
       "      <td>0.0</td>\n",
       "      <td>1.0</td>\n",
       "      <td>...</td>\n",
       "      <td>11.0</td>\n",
       "      <td>6.0</td>\n",
       "      <td>9.0</td>\n",
       "      <td>2.0</td>\n",
       "      <td>3</td>\n",
       "      <td>COSMETIC_AND_FOOD</td>\n",
       "      <td>MULTI_BUYER</td>\n",
       "      <td>0</td>\n",
       "      <td>2</td>\n",
       "      <td>4</td>\n",
       "    </tr>\n",
       "    <tr>\n",
       "      <th>3</th>\n",
       "      <td>143873</td>\n",
       "      <td>1</td>\n",
       "      <td>1.0</td>\n",
       "      <td>8.0</td>\n",
       "      <td>NaN</td>\n",
       "      <td>NaN</td>\n",
       "      <td>NaN</td>\n",
       "      <td>NaN</td>\n",
       "      <td>8.0</td>\n",
       "      <td>0.0</td>\n",
       "      <td>...</td>\n",
       "      <td>2.0</td>\n",
       "      <td>NaN</td>\n",
       "      <td>9.0</td>\n",
       "      <td>7.0</td>\n",
       "      <td>1</td>\n",
       "      <td>COSMETIC</td>\n",
       "      <td>MULTI_BUYER</td>\n",
       "      <td>0</td>\n",
       "      <td>1</td>\n",
       "      <td>4</td>\n",
       "    </tr>\n",
       "    <tr>\n",
       "      <th>4</th>\n",
       "      <td>143874</td>\n",
       "      <td>-1</td>\n",
       "      <td>1.0</td>\n",
       "      <td>20.0</td>\n",
       "      <td>NaN</td>\n",
       "      <td>NaN</td>\n",
       "      <td>NaN</td>\n",
       "      <td>NaN</td>\n",
       "      <td>14.0</td>\n",
       "      <td>7.0</td>\n",
       "      <td>...</td>\n",
       "      <td>4.0</td>\n",
       "      <td>2.0</td>\n",
       "      <td>9.0</td>\n",
       "      <td>3.0</td>\n",
       "      <td>1</td>\n",
       "      <td>FOOD</td>\n",
       "      <td>MULTI_BUYER</td>\n",
       "      <td>0</td>\n",
       "      <td>1</td>\n",
       "      <td>3</td>\n",
       "    </tr>\n",
       "  </tbody>\n",
       "</table>\n",
       "<p>5 rows × 369 columns</p>\n",
       "</div>"
      ],
      "text/plain": [
       "      LNR  AGER_TYP  AKT_DAT_KL  ALTER_HH  ALTER_KIND1  ALTER_KIND2  \\\n",
       "0    9626         2         1.0      10.0          NaN          NaN   \n",
       "1    9628        -1         9.0      11.0          NaN          NaN   \n",
       "2  143872        -1         1.0       6.0          NaN          NaN   \n",
       "3  143873         1         1.0       8.0          NaN          NaN   \n",
       "4  143874        -1         1.0      20.0          NaN          NaN   \n",
       "\n",
       "   ALTER_KIND3  ALTER_KIND4  ALTERSKATEGORIE_FEIN  ANZ_HAUSHALTE_AKTIV  \\\n",
       "0          NaN          NaN                  10.0                  1.0   \n",
       "1          NaN          NaN                   NaN                  NaN   \n",
       "2          NaN          NaN                   0.0                  1.0   \n",
       "3          NaN          NaN                   8.0                  0.0   \n",
       "4          NaN          NaN                  14.0                  7.0   \n",
       "\n",
       "          ...           VK_ZG11  W_KEIT_KIND_HH  WOHNDAUER_2008  WOHNLAGE  \\\n",
       "0         ...               2.0             6.0             9.0       7.0   \n",
       "1         ...               3.0             0.0             9.0       NaN   \n",
       "2         ...              11.0             6.0             9.0       2.0   \n",
       "3         ...               2.0             NaN             9.0       7.0   \n",
       "4         ...               4.0             2.0             9.0       3.0   \n",
       "\n",
       "   ZABEOTYP      PRODUCT_GROUP  CUSTOMER_GROUP ONLINE_PURCHASE ANREDE_KZ  \\\n",
       "0         3  COSMETIC_AND_FOOD     MULTI_BUYER               0         1   \n",
       "1         3               FOOD    SINGLE_BUYER               0         1   \n",
       "2         3  COSMETIC_AND_FOOD     MULTI_BUYER               0         2   \n",
       "3         1           COSMETIC     MULTI_BUYER               0         1   \n",
       "4         1               FOOD     MULTI_BUYER               0         1   \n",
       "\n",
       "  ALTERSKATEGORIE_GROB  \n",
       "0                    4  \n",
       "1                    4  \n",
       "2                    4  \n",
       "3                    4  \n",
       "4                    3  \n",
       "\n",
       "[5 rows x 369 columns]"
      ]
     },
     "execution_count": 9,
     "metadata": {},
     "output_type": "execute_result"
    }
   ],
   "source": [
    "customers.head()"
   ]
  },
  {
   "cell_type": "code",
   "execution_count": 10,
   "metadata": {},
   "outputs": [
    {
     "data": {
      "text/plain": [
       "(191652, 369)"
      ]
     },
     "execution_count": 10,
     "metadata": {},
     "output_type": "execute_result"
    }
   ],
   "source": [
    "customers.shape"
   ]
  },
  {
   "cell_type": "code",
   "execution_count": 11,
   "metadata": {},
   "outputs": [
    {
     "name": "stdout",
     "output_type": "stream",
     "text": [
      "<class 'pandas.core.frame.DataFrame'>\n",
      "RangeIndex: 191652 entries, 0 to 191651\n",
      "Data columns (total 369 columns):\n",
      "LNR                            191652 non-null int64\n",
      "AGER_TYP                       191652 non-null int64\n",
      "AKT_DAT_KL                     145056 non-null float64\n",
      "ALTER_HH                       145056 non-null float64\n",
      "ALTER_KIND1                    11766 non-null float64\n",
      "ALTER_KIND2                    5100 non-null float64\n",
      "ALTER_KIND3                    1275 non-null float64\n",
      "ALTER_KIND4                    236 non-null float64\n",
      "ALTERSKATEGORIE_FEIN           139810 non-null float64\n",
      "ANZ_HAUSHALTE_AKTIV            141725 non-null float64\n",
      "ANZ_HH_TITEL                   139542 non-null float64\n",
      "ANZ_KINDER                     145056 non-null float64\n",
      "ANZ_PERSONEN                   145056 non-null float64\n",
      "ANZ_STATISTISCHE_HAUSHALTE     141725 non-null float64\n",
      "ANZ_TITEL                      145056 non-null float64\n",
      "ARBEIT                         141176 non-null float64\n",
      "BALLRAUM                       141693 non-null float64\n",
      "CAMEO_DEU_2015                 141224 non-null object\n",
      "CAMEO_DEUG_2015                141224 non-null object\n",
      "CAMEO_INTL_2015                141224 non-null object\n",
      "CJT_GESAMTTYP                  188439 non-null float64\n",
      "CJT_KATALOGNUTZER              188439 non-null float64\n",
      "CJT_TYP_1                      188439 non-null float64\n",
      "CJT_TYP_2                      188439 non-null float64\n",
      "CJT_TYP_3                      188439 non-null float64\n",
      "CJT_TYP_4                      188439 non-null float64\n",
      "CJT_TYP_5                      188439 non-null float64\n",
      "CJT_TYP_6                      188439 non-null float64\n",
      "D19_BANKEN_ANZ_12              191652 non-null int64\n",
      "D19_BANKEN_ANZ_24              191652 non-null int64\n",
      "D19_BANKEN_DATUM               191652 non-null int64\n",
      "D19_BANKEN_DIREKT              191652 non-null int64\n",
      "D19_BANKEN_GROSS               191652 non-null int64\n",
      "D19_BANKEN_LOKAL               191652 non-null int64\n",
      "D19_BANKEN_OFFLINE_DATUM       191652 non-null int64\n",
      "D19_BANKEN_ONLINE_DATUM        191652 non-null int64\n",
      "D19_BANKEN_ONLINE_QUOTE_12     143955 non-null float64\n",
      "D19_BANKEN_REST                191652 non-null int64\n",
      "D19_BEKLEIDUNG_GEH             191652 non-null int64\n",
      "D19_BEKLEIDUNG_REST            191652 non-null int64\n",
      "D19_BILDUNG                    191652 non-null int64\n",
      "D19_BIO_OEKO                   191652 non-null int64\n",
      "D19_BUCH_CD                    191652 non-null int64\n",
      "D19_DIGIT_SERV                 191652 non-null int64\n",
      "D19_DROGERIEARTIKEL            191652 non-null int64\n",
      "D19_ENERGIE                    191652 non-null int64\n",
      "D19_FREIZEIT                   191652 non-null int64\n",
      "D19_GARTEN                     191652 non-null int64\n",
      "D19_GESAMT_ANZ_12              191652 non-null int64\n",
      "D19_GESAMT_ANZ_24              191652 non-null int64\n",
      "D19_GESAMT_DATUM               191652 non-null int64\n",
      "D19_GESAMT_OFFLINE_DATUM       191652 non-null int64\n",
      "D19_GESAMT_ONLINE_DATUM        191652 non-null int64\n",
      "D19_GESAMT_ONLINE_QUOTE_12     143955 non-null float64\n",
      "D19_HANDWERK                   191652 non-null int64\n",
      "D19_HAUS_DEKO                  191652 non-null int64\n",
      "D19_KINDERARTIKEL              191652 non-null int64\n",
      "D19_KONSUMTYP                  143955 non-null float64\n",
      "D19_KONSUMTYP_MAX              191652 non-null int64\n",
      "D19_KOSMETIK                   191652 non-null int64\n",
      "D19_LEBENSMITTEL               191652 non-null int64\n",
      "D19_LETZTER_KAUF_BRANCHE       143955 non-null object\n",
      "D19_LOTTO                      143955 non-null float64\n",
      "D19_NAHRUNGSERGAENZUNG         191652 non-null int64\n",
      "D19_RATGEBER                   191652 non-null int64\n",
      "D19_REISEN                     191652 non-null int64\n",
      "D19_SAMMELARTIKEL              191652 non-null int64\n",
      "D19_SCHUHE                     191652 non-null int64\n",
      "D19_SONSTIGE                   191652 non-null int64\n",
      "D19_SOZIALES                   143955 non-null float64\n",
      "D19_TECHNIK                    191652 non-null int64\n",
      "D19_TELKO_ANZ_12               191652 non-null int64\n",
      "D19_TELKO_ANZ_24               191652 non-null int64\n",
      "D19_TELKO_DATUM                191652 non-null int64\n",
      "D19_TELKO_MOBILE               191652 non-null int64\n",
      "D19_TELKO_OFFLINE_DATUM        191652 non-null int64\n",
      "D19_TELKO_ONLINE_DATUM         191652 non-null int64\n",
      "D19_TELKO_ONLINE_QUOTE_12      143955 non-null float64\n",
      "D19_TELKO_REST                 191652 non-null int64\n",
      "D19_TIERARTIKEL                191652 non-null int64\n",
      "D19_VERSAND_ANZ_12             191652 non-null int64\n",
      "D19_VERSAND_ANZ_24             191652 non-null int64\n",
      "D19_VERSAND_DATUM              191652 non-null int64\n",
      "D19_VERSAND_OFFLINE_DATUM      191652 non-null int64\n",
      "D19_VERSAND_ONLINE_DATUM       191652 non-null int64\n",
      "D19_VERSAND_ONLINE_QUOTE_12    143955 non-null float64\n",
      "D19_VERSAND_REST               191652 non-null int64\n",
      "D19_VERSI_ANZ_12               191652 non-null int64\n",
      "D19_VERSI_ANZ_24               191652 non-null int64\n",
      "D19_VERSI_DATUM                191652 non-null int64\n",
      "D19_VERSI_OFFLINE_DATUM        191652 non-null int64\n",
      "D19_VERSI_ONLINE_DATUM         191652 non-null int64\n",
      "D19_VERSI_ONLINE_QUOTE_12      143955 non-null float64\n",
      "D19_VERSICHERUNGEN             191652 non-null int64\n",
      "D19_VOLLSORTIMENT              191652 non-null int64\n",
      "D19_WEIN_FEINKOST              191652 non-null int64\n",
      "DSL_FLAG                       141725 non-null float64\n",
      "EINGEFUEGT_AM                  141725 non-null object\n",
      "EINGEZOGENAM_HH_JAHR           145056 non-null float64\n",
      "EWDICHTE                       141693 non-null float64\n",
      "EXTSEL992                      106369 non-null float64\n",
      "FINANZ_ANLEGER                 191652 non-null int64\n",
      "FINANZ_HAUSBAUER               191652 non-null int64\n",
      "FINANZ_MINIMALIST              191652 non-null int64\n",
      "FINANZ_SPARER                  191652 non-null int64\n",
      "FINANZ_UNAUFFAELLIGER          191652 non-null int64\n",
      "FINANZ_VORSORGER               191652 non-null int64\n",
      "FINANZTYP                      191652 non-null int64\n",
      "FIRMENDICHTE                   141725 non-null float64\n",
      "GEBAEUDETYP                    141725 non-null float64\n",
      "GEBAEUDETYP_RASTER             141725 non-null float64\n",
      "GEBURTSJAHR                    191652 non-null int64\n",
      "GEMEINDETYP                    141176 non-null float64\n",
      "GFK_URLAUBERTYP                188439 non-null float64\n",
      "GREEN_AVANTGARDE               191652 non-null int64\n",
      "HEALTH_TYP                     191652 non-null int64\n",
      "HH_DELTA_FLAG                  137910 non-null float64\n",
      "HH_EINKOMMEN_SCORE             188684 non-null float64\n",
      "INNENSTADT                     141693 non-null float64\n",
      "KBA05_ALTER1                   135672 non-null float64\n",
      "KBA05_ALTER2                   135672 non-null float64\n",
      "KBA05_ALTER3                   135672 non-null float64\n",
      "KBA05_ALTER4                   135672 non-null float64\n",
      "KBA05_ANHANG                   135672 non-null float64\n",
      "KBA05_ANTG1                    135672 non-null float64\n",
      "KBA05_ANTG2                    135672 non-null float64\n",
      "KBA05_ANTG3                    135672 non-null float64\n",
      "KBA05_ANTG4                    135672 non-null float64\n",
      "KBA05_AUTOQUOT                 135672 non-null float64\n",
      "KBA05_BAUMAX                   135672 non-null float64\n",
      "KBA05_CCM1                     135672 non-null float64\n",
      "KBA05_CCM2                     135672 non-null float64\n",
      "KBA05_CCM3                     135672 non-null float64\n",
      "KBA05_CCM4                     135672 non-null float64\n",
      "KBA05_DIESEL                   135672 non-null float64\n",
      "KBA05_FRAU                     135672 non-null float64\n",
      "KBA05_GBZ                      135672 non-null float64\n",
      "KBA05_HERST1                   135672 non-null float64\n",
      "KBA05_HERST2                   135672 non-null float64\n",
      "KBA05_HERST3                   135672 non-null float64\n",
      "KBA05_HERST4                   135672 non-null float64\n",
      "KBA05_HERST5                   135672 non-null float64\n",
      "KBA05_HERSTTEMP                141725 non-null float64\n",
      "KBA05_KRSAQUOT                 135672 non-null float64\n",
      "KBA05_KRSHERST1                135672 non-null float64\n",
      "KBA05_KRSHERST2                135672 non-null float64\n",
      "KBA05_KRSHERST3                135672 non-null float64\n",
      "KBA05_KRSKLEIN                 135672 non-null float64\n",
      "KBA05_KRSOBER                  135672 non-null float64\n",
      "KBA05_KRSVAN                   135672 non-null float64\n",
      "KBA05_KRSZUL                   135672 non-null float64\n",
      "KBA05_KW1                      135672 non-null float64\n",
      "KBA05_KW2                      135672 non-null float64\n",
      "KBA05_KW3                      135672 non-null float64\n",
      "KBA05_MAXAH                    135672 non-null float64\n",
      "KBA05_MAXBJ                    135672 non-null float64\n",
      "KBA05_MAXHERST                 135672 non-null float64\n",
      "KBA05_MAXSEG                   135672 non-null float64\n",
      "KBA05_MAXVORB                  135672 non-null float64\n",
      "KBA05_MOD1                     135672 non-null float64\n",
      "KBA05_MOD2                     135672 non-null float64\n",
      "KBA05_MOD3                     135672 non-null float64\n",
      "KBA05_MOD4                     135672 non-null float64\n",
      "KBA05_MOD8                     135672 non-null float64\n",
      "KBA05_MODTEMP                  141725 non-null float64\n",
      "KBA05_MOTOR                    135672 non-null float64\n",
      "KBA05_MOTRAD                   135672 non-null float64\n",
      "KBA05_SEG1                     135672 non-null float64\n",
      "KBA05_SEG10                    135672 non-null float64\n",
      "KBA05_SEG2                     135672 non-null float64\n",
      "KBA05_SEG3                     135672 non-null float64\n",
      "KBA05_SEG4                     135672 non-null float64\n",
      "KBA05_SEG5                     135672 non-null float64\n",
      "KBA05_SEG6                     135672 non-null float64\n",
      "KBA05_SEG7                     135672 non-null float64\n",
      "KBA05_SEG8                     135672 non-null float64\n",
      "KBA05_SEG9                     135672 non-null float64\n",
      "KBA05_VORB0                    135672 non-null float64\n",
      "KBA05_VORB1                    135672 non-null float64\n",
      "KBA05_VORB2                    135672 non-null float64\n",
      "KBA05_ZUL1                     135672 non-null float64\n",
      "KBA05_ZUL2                     135672 non-null float64\n",
      "KBA05_ZUL3                     135672 non-null float64\n",
      "KBA05_ZUL4                     135672 non-null float64\n",
      "KBA13_ALTERHALTER_30           140371 non-null float64\n",
      "KBA13_ALTERHALTER_45           140371 non-null float64\n",
      "KBA13_ALTERHALTER_60           140371 non-null float64\n",
      "KBA13_ALTERHALTER_61           140371 non-null float64\n",
      "KBA13_ANTG1                    140371 non-null float64\n",
      "KBA13_ANTG2                    140371 non-null float64\n",
      "KBA13_ANTG3                    140371 non-null float64\n",
      "KBA13_ANTG4                    140371 non-null float64\n",
      "KBA13_ANZAHL_PKW               140371 non-null float64\n",
      "KBA13_AUDI                     140371 non-null float64\n",
      "KBA13_AUTOQUOTE                140371 non-null float64\n",
      "KBA13_BAUMAX                   140371 non-null float64\n",
      "KBA13_BJ_1999                  140371 non-null float64\n",
      "KBA13_BJ_2000                  140371 non-null float64\n",
      "KBA13_BJ_2004                  140371 non-null float64\n",
      "KBA13_BJ_2006                  140371 non-null float64\n",
      "KBA13_BJ_2008                  140371 non-null float64\n",
      "KBA13_BJ_2009                  140371 non-null float64\n",
      "KBA13_BMW                      140371 non-null float64\n",
      "KBA13_CCM_0_1400               140371 non-null float64\n",
      "KBA13_CCM_1000                 140371 non-null float64\n",
      "KBA13_CCM_1200                 140371 non-null float64\n",
      "KBA13_CCM_1400                 140371 non-null float64\n",
      "KBA13_CCM_1401_2500            140371 non-null float64\n",
      "KBA13_CCM_1500                 140371 non-null float64\n",
      "KBA13_CCM_1600                 140371 non-null float64\n",
      "KBA13_CCM_1800                 140371 non-null float64\n",
      "KBA13_CCM_2000                 140371 non-null float64\n",
      "KBA13_CCM_2500                 140371 non-null float64\n",
      "KBA13_CCM_2501                 140371 non-null float64\n",
      "KBA13_CCM_3000                 140371 non-null float64\n",
      "KBA13_CCM_3001                 140371 non-null float64\n",
      "KBA13_FAB_ASIEN                140371 non-null float64\n",
      "KBA13_FAB_SONSTIGE             140371 non-null float64\n",
      "KBA13_FIAT                     140371 non-null float64\n",
      "KBA13_FORD                     140371 non-null float64\n",
      "KBA13_GBZ                      140371 non-null float64\n",
      "KBA13_HALTER_20                140371 non-null float64\n",
      "KBA13_HALTER_25                140371 non-null float64\n",
      "KBA13_HALTER_30                140371 non-null float64\n",
      "KBA13_HALTER_35                140371 non-null float64\n",
      "KBA13_HALTER_40                140371 non-null float64\n",
      "KBA13_HALTER_45                140371 non-null float64\n",
      "KBA13_HALTER_50                140371 non-null float64\n",
      "KBA13_HALTER_55                140371 non-null float64\n",
      "KBA13_HALTER_60                140371 non-null float64\n",
      "KBA13_HALTER_65                140371 non-null float64\n",
      "KBA13_HALTER_66                140371 non-null float64\n",
      "KBA13_HERST_ASIEN              140371 non-null float64\n",
      "KBA13_HERST_AUDI_VW            140371 non-null float64\n",
      "KBA13_HERST_BMW_BENZ           140371 non-null float64\n",
      "KBA13_HERST_EUROPA             140371 non-null float64\n",
      "KBA13_HERST_FORD_OPEL          140371 non-null float64\n",
      "KBA13_HERST_SONST              140371 non-null float64\n",
      "KBA13_HHZ                      140371 non-null float64\n",
      "KBA13_KMH_0_140                140371 non-null float64\n",
      "KBA13_KMH_110                  140371 non-null float64\n",
      "KBA13_KMH_140                  140371 non-null float64\n",
      "KBA13_KMH_140_210              140371 non-null float64\n",
      "KBA13_KMH_180                  140371 non-null float64\n",
      "KBA13_KMH_210                  140371 non-null float64\n",
      "KBA13_KMH_211                  140371 non-null float64\n",
      "KBA13_KMH_250                  140371 non-null float64\n",
      "KBA13_KMH_251                  140371 non-null float64\n",
      "KBA13_KRSAQUOT                 140371 non-null float64\n",
      "KBA13_KRSHERST_AUDI_VW         140371 non-null float64\n",
      "KBA13_KRSHERST_BMW_BENZ        140371 non-null float64\n",
      "KBA13_KRSHERST_FORD_OPEL       140371 non-null float64\n",
      "KBA13_KRSSEG_KLEIN             140371 non-null float64\n",
      "KBA13_KRSSEG_OBER              140371 non-null float64\n",
      "KBA13_KRSSEG_VAN               140371 non-null float64\n",
      "KBA13_KRSZUL_NEU               140371 non-null float64\n",
      "KBA13_KW_0_60                  140371 non-null float64\n",
      "KBA13_KW_110                   140371 non-null float64\n",
      "KBA13_KW_120                   140371 non-null float64\n",
      "KBA13_KW_121                   140371 non-null float64\n",
      "KBA13_KW_30                    140371 non-null float64\n",
      "KBA13_KW_40                    140371 non-null float64\n",
      "KBA13_KW_50                    140371 non-null float64\n",
      "KBA13_KW_60                    140371 non-null float64\n",
      "KBA13_KW_61_120                140371 non-null float64\n",
      "KBA13_KW_70                    140371 non-null float64\n",
      "KBA13_KW_80                    140371 non-null float64\n",
      "KBA13_KW_90                    140371 non-null float64\n",
      "KBA13_MAZDA                    140371 non-null float64\n",
      "KBA13_MERCEDES                 140371 non-null float64\n",
      "KBA13_MOTOR                    140371 non-null float64\n",
      "KBA13_NISSAN                   140371 non-null float64\n",
      "KBA13_OPEL                     140371 non-null float64\n",
      "KBA13_PEUGEOT                  140371 non-null float64\n",
      "KBA13_RENAULT                  140371 non-null float64\n",
      "KBA13_SEG_GELAENDEWAGEN        140371 non-null float64\n",
      "KBA13_SEG_GROSSRAUMVANS        140371 non-null float64\n",
      "KBA13_SEG_KLEINST              140371 non-null float64\n",
      "KBA13_SEG_KLEINWAGEN           140371 non-null float64\n",
      "KBA13_SEG_KOMPAKTKLASSE        140371 non-null float64\n",
      "KBA13_SEG_MINIVANS             140371 non-null float64\n",
      "KBA13_SEG_MINIWAGEN            140371 non-null float64\n",
      "KBA13_SEG_MITTELKLASSE         140371 non-null float64\n",
      "KBA13_SEG_OBEREMITTELKLASSE    140371 non-null float64\n",
      "KBA13_SEG_OBERKLASSE           140371 non-null float64\n",
      "KBA13_SEG_SONSTIGE             140371 non-null float64\n",
      "KBA13_SEG_SPORTWAGEN           140371 non-null float64\n",
      "KBA13_SEG_UTILITIES            140371 non-null float64\n",
      "KBA13_SEG_VAN                  140371 non-null float64\n",
      "KBA13_SEG_WOHNMOBILE           140371 non-null float64\n",
      "KBA13_SITZE_4                  140371 non-null float64\n",
      "KBA13_SITZE_5                  140371 non-null float64\n",
      "KBA13_SITZE_6                  140371 non-null float64\n",
      "KBA13_TOYOTA                   140371 non-null float64\n",
      "KBA13_VORB_0                   140371 non-null float64\n",
      "KBA13_VORB_1                   140371 non-null float64\n",
      "KBA13_VORB_1_2                 140371 non-null float64\n",
      "KBA13_VORB_2                   140371 non-null float64\n",
      "KBA13_VORB_3                   140371 non-null float64\n",
      "KBA13_VW                       140371 non-null float64\n",
      "KK_KUNDENTYP                   79715 non-null float64\n",
      "KKK                            137392 non-null float64\n",
      "KOMBIALTER                     191652 non-null int64\n",
      "KONSUMNAEHE                    145001 non-null float64\n",
      "KONSUMZELLE                    141725 non-null float64\n",
      "LP_FAMILIE_FEIN                188439 non-null float64\n",
      "LP_FAMILIE_GROB                188439 non-null float64\n",
      "LP_LEBENSPHASE_FEIN            188439 non-null float64\n",
      "LP_LEBENSPHASE_GROB            188439 non-null float64\n",
      "LP_STATUS_FEIN                 188439 non-null float64\n",
      "LP_STATUS_GROB                 188439 non-null float64\n",
      "MIN_GEBAEUDEJAHR               141725 non-null float64\n",
      "MOBI_RASTER                    141725 non-null float64\n",
      "MOBI_REGIO                     135672 non-null float64\n",
      "NATIONALITAET_KZ               191652 non-null int64\n",
      "ONLINE_AFFINITAET              188439 non-null float64\n",
      "ORTSGR_KLS9                    141176 non-null float64\n",
      "OST_WEST_KZ                    141725 non-null object\n",
      "PLZ8_ANTG1                     138888 non-null float64\n",
      "PLZ8_ANTG2                     138888 non-null float64\n",
      "PLZ8_ANTG3                     138888 non-null float64\n",
      "PLZ8_ANTG4                     138888 non-null float64\n",
      "PLZ8_BAUMAX                    138888 non-null float64\n",
      "PLZ8_GBZ                       138888 non-null float64\n",
      "PLZ8_HHZ                       138888 non-null float64\n",
      "PRAEGENDE_JUGENDJAHRE          191652 non-null int64\n",
      "REGIOTYP                       137392 non-null float64\n",
      "RELAT_AB                       141176 non-null float64\n",
      "RETOURTYP_BK_S                 188439 non-null float64\n",
      "RT_KEIN_ANREIZ                 188439 non-null float64\n",
      "RT_SCHNAEPPCHEN                188439 non-null float64\n",
      "RT_UEBERGROESSE                147460 non-null float64\n",
      "SEMIO_DOM                      191652 non-null int64\n",
      "SEMIO_ERL                      191652 non-null int64\n",
      "SEMIO_FAM                      191652 non-null int64\n",
      "SEMIO_KAEM                     191652 non-null int64\n",
      "SEMIO_KRIT                     191652 non-null int64\n",
      "SEMIO_KULT                     191652 non-null int64\n",
      "SEMIO_LUST                     191652 non-null int64\n",
      "SEMIO_MAT                      191652 non-null int64\n",
      "SEMIO_PFLICHT                  191652 non-null int64\n",
      "SEMIO_RAT                      191652 non-null int64\n",
      "SEMIO_REL                      191652 non-null int64\n",
      "SEMIO_SOZ                      191652 non-null int64\n",
      "SEMIO_TRADV                    191652 non-null int64\n",
      "SEMIO_VERT                     191652 non-null int64\n",
      "SHOPPER_TYP                    191652 non-null int64\n",
      "SOHO_KZ                        145056 non-null float64\n",
      "STRUKTURTYP                    141176 non-null float64\n",
      "TITEL_KZ                       145056 non-null float64\n",
      "UMFELD_ALT                     141204 non-null float64\n",
      "UMFELD_JUNG                    141204 non-null float64\n",
      "UNGLEICHENN_FLAG               145056 non-null float64\n",
      "VERDICHTUNGSRAUM               141176 non-null float64\n",
      "VERS_TYP                       191652 non-null int64\n",
      "VHA                            145056 non-null float64\n",
      "VHN                            137392 non-null float64\n",
      "VK_DHT4A                       143781 non-null float64\n",
      "VK_DISTANZ                     143781 non-null float64\n",
      "VK_ZG11                        143781 non-null float64\n",
      "W_KEIT_KIND_HH                 137910 non-null float64\n",
      "WOHNDAUER_2008                 145056 non-null float64\n",
      "WOHNLAGE                       141725 non-null float64\n",
      "ZABEOTYP                       191652 non-null int64\n",
      "PRODUCT_GROUP                  191652 non-null object\n",
      "CUSTOMER_GROUP                 191652 non-null object\n",
      "ONLINE_PURCHASE                191652 non-null int64\n",
      "ANREDE_KZ                      191652 non-null int64\n",
      "ALTERSKATEGORIE_GROB           191652 non-null int64\n",
      "dtypes: float64(267), int64(94), object(8)\n",
      "memory usage: 539.5+ MB\n"
     ]
    }
   ],
   "source": [
    "customers.info(verbose=True, null_counts=True)"
   ]
  },
  {
   "cell_type": "code",
   "execution_count": 6,
   "metadata": {},
   "outputs": [],
   "source": [
    "# some information about value_att dataframe"
   ]
  },
  {
   "cell_type": "code",
   "execution_count": 8,
   "metadata": {},
   "outputs": [
    {
     "data": {
      "text/html": [
       "<div>\n",
       "<style scoped>\n",
       "    .dataframe tbody tr th:only-of-type {\n",
       "        vertical-align: middle;\n",
       "    }\n",
       "\n",
       "    .dataframe tbody tr th {\n",
       "        vertical-align: top;\n",
       "    }\n",
       "\n",
       "    .dataframe thead th {\n",
       "        text-align: right;\n",
       "    }\n",
       "</style>\n",
       "<table border=\"1\" class=\"dataframe\">\n",
       "  <thead>\n",
       "    <tr style=\"text-align: right;\">\n",
       "      <th></th>\n",
       "      <th>Information level</th>\n",
       "      <th>Attribute</th>\n",
       "      <th>Description</th>\n",
       "      <th>Additional notes</th>\n",
       "    </tr>\n",
       "  </thead>\n",
       "  <tbody>\n",
       "    <tr>\n",
       "      <th>0</th>\n",
       "      <td>NaN</td>\n",
       "      <td>AGER_TYP</td>\n",
       "      <td>best-ager typology</td>\n",
       "      <td>in cooperation with Kantar TNS; the informatio...</td>\n",
       "    </tr>\n",
       "    <tr>\n",
       "      <th>1</th>\n",
       "      <td>Person</td>\n",
       "      <td>ALTERSKATEGORIE_GROB</td>\n",
       "      <td>age through prename analysis</td>\n",
       "      <td>modelled on millions of first name-age-referen...</td>\n",
       "    </tr>\n",
       "    <tr>\n",
       "      <th>2</th>\n",
       "      <td>NaN</td>\n",
       "      <td>ANREDE_KZ</td>\n",
       "      <td>gender</td>\n",
       "      <td>NaN</td>\n",
       "    </tr>\n",
       "    <tr>\n",
       "      <th>3</th>\n",
       "      <td>NaN</td>\n",
       "      <td>CJT_GESAMTTYP</td>\n",
       "      <td>Customer-Journey-Typology relating to the pref...</td>\n",
       "      <td>relating to the preferred information, marketi...</td>\n",
       "    </tr>\n",
       "    <tr>\n",
       "      <th>4</th>\n",
       "      <td>NaN</td>\n",
       "      <td>FINANZ_MINIMALIST</td>\n",
       "      <td>financial typology: low financial interest</td>\n",
       "      <td>Gfk-Typology based on a representative househo...</td>\n",
       "    </tr>\n",
       "  </tbody>\n",
       "</table>\n",
       "</div>"
      ],
      "text/plain": [
       "  Information level             Attribute  \\\n",
       "0               NaN              AGER_TYP   \n",
       "1            Person  ALTERSKATEGORIE_GROB   \n",
       "2               NaN             ANREDE_KZ   \n",
       "3               NaN         CJT_GESAMTTYP   \n",
       "4               NaN     FINANZ_MINIMALIST   \n",
       "\n",
       "                                         Description  \\\n",
       "0                                 best-ager typology   \n",
       "1                      age through prename analysis    \n",
       "2                                             gender   \n",
       "3  Customer-Journey-Typology relating to the pref...   \n",
       "4         financial typology: low financial interest   \n",
       "\n",
       "                                    Additional notes  \n",
       "0  in cooperation with Kantar TNS; the informatio...  \n",
       "1  modelled on millions of first name-age-referen...  \n",
       "2                                                NaN  \n",
       "3  relating to the preferred information, marketi...  \n",
       "4  Gfk-Typology based on a representative househo...  "
      ]
     },
     "execution_count": 8,
     "metadata": {},
     "output_type": "execute_result"
    }
   ],
   "source": [
    "level_att.head()"
   ]
  },
  {
   "cell_type": "markdown",
   "metadata": {},
   "source": [
    "In value_att dataframe, we can find description and meaning of each attribute. We can use them in further steps."
   ]
  },
  {
   "cell_type": "markdown",
   "metadata": {},
   "source": [
    "### 0.2.The difference between columns of azdias and customers dataframes"
   ]
  },
  {
   "cell_type": "code",
   "execution_count": 12,
   "metadata": {},
   "outputs": [],
   "source": [
    "# columns in customers not in azdias\n",
    "diff_cust_azdias=np.setdiff1d(customers.columns, azdias.columns)"
   ]
  },
  {
   "cell_type": "code",
   "execution_count": 13,
   "metadata": {},
   "outputs": [
    {
     "data": {
      "text/plain": [
       "array(['CUSTOMER_GROUP', 'ONLINE_PURCHASE', 'PRODUCT_GROUP'], dtype=object)"
      ]
     },
     "execution_count": 13,
     "metadata": {},
     "output_type": "execute_result"
    }
   ],
   "source": [
    "diff_cust_azdias"
   ]
  },
  {
   "cell_type": "code",
   "execution_count": 14,
   "metadata": {},
   "outputs": [
    {
     "data": {
      "text/plain": [
       "array([], dtype=object)"
      ]
     },
     "execution_count": 14,
     "metadata": {},
     "output_type": "execute_result"
    }
   ],
   "source": [
    "# columns in azdias not in customers\n",
    "np.setdiff1d(azdias.columns, customers.columns)"
   ]
  },
  {
   "cell_type": "markdown",
   "metadata": {},
   "source": [
    "### 0.3. Exploration of null values in azdias dataframe"
   ]
  },
  {
   "cell_type": "code",
   "execution_count": 69,
   "metadata": {},
   "outputs": [],
   "source": [
    "azdias_nan_mean=azdias.isnull().mean()"
   ]
  },
  {
   "cell_type": "code",
   "execution_count": 70,
   "metadata": {},
   "outputs": [
    {
     "data": {
      "text/plain": [
       "ALTER_KIND4                    0.998648\n",
       "ALTER_KIND3                    0.993077\n",
       "ALTER_KIND2                    0.966900\n",
       "ALTER_KIND1                    0.909048\n",
       "EXTSEL992                      0.733996\n",
       "KK_KUNDENTYP                   0.655967\n",
       "ALTERSKATEGORIE_FEIN           0.295041\n",
       "D19_LETZTER_KAUF_BRANCHE       0.288495\n",
       "D19_LOTTO                      0.288495\n",
       "D19_VERSI_ONLINE_QUOTE_12      0.288495\n",
       "D19_BANKEN_ONLINE_QUOTE_12     0.288495\n",
       "D19_SOZIALES                   0.288495\n",
       "D19_GESAMT_ONLINE_QUOTE_12     0.288495\n",
       "D19_KONSUMTYP                  0.288495\n",
       "D19_TELKO_ONLINE_QUOTE_12      0.288495\n",
       "D19_VERSAND_ONLINE_QUOTE_12    0.288495\n",
       "KBA05_MOTOR                    0.149597\n",
       "KBA05_MOD8                     0.149597\n",
       "KBA05_MOD4                     0.149597\n",
       "KBA05_MOD3                     0.149597\n",
       "KBA05_MOD2                     0.149597\n",
       "KBA05_SEG1                     0.149597\n",
       "KBA05_MOD1                     0.149597\n",
       "KBA05_MAXVORB                  0.149597\n",
       "KBA05_MAXSEG                   0.149597\n",
       "KBA05_MAXHERST                 0.149597\n",
       "KBA05_MAXBJ                    0.149597\n",
       "KBA05_MAXAH                    0.149597\n",
       "KBA05_KW3                      0.149597\n",
       "KBA05_MOTRAD                   0.149597\n",
       "                                 ...   \n",
       "D19_RATGEBER                   0.000000\n",
       "FINANZ_ANLEGER                 0.000000\n",
       "D19_REISEN                     0.000000\n",
       "D19_SAMMELARTIKEL              0.000000\n",
       "D19_SCHUHE                     0.000000\n",
       "D19_SONSTIGE                   0.000000\n",
       "D19_TECHNIK                    0.000000\n",
       "D19_TELKO_ANZ_12               0.000000\n",
       "D19_TELKO_ANZ_24               0.000000\n",
       "D19_TELKO_DATUM                0.000000\n",
       "D19_TELKO_MOBILE               0.000000\n",
       "D19_TELKO_OFFLINE_DATUM        0.000000\n",
       "D19_TELKO_ONLINE_DATUM         0.000000\n",
       "D19_TELKO_REST                 0.000000\n",
       "D19_TIERARTIKEL                0.000000\n",
       "D19_VERSAND_ANZ_12             0.000000\n",
       "D19_VERSAND_ANZ_24             0.000000\n",
       "D19_VERSAND_DATUM              0.000000\n",
       "D19_VERSAND_OFFLINE_DATUM      0.000000\n",
       "D19_VERSAND_ONLINE_DATUM       0.000000\n",
       "D19_VERSAND_REST               0.000000\n",
       "D19_VERSI_ANZ_12               0.000000\n",
       "D19_VERSI_ANZ_24               0.000000\n",
       "D19_VERSI_DATUM                0.000000\n",
       "D19_VERSI_OFFLINE_DATUM        0.000000\n",
       "D19_VERSI_ONLINE_DATUM         0.000000\n",
       "D19_VERSICHERUNGEN             0.000000\n",
       "D19_VOLLSORTIMENT              0.000000\n",
       "D19_WEIN_FEINKOST              0.000000\n",
       "LNR                            0.000000\n",
       "Length: 366, dtype: float64"
      ]
     },
     "execution_count": 70,
     "metadata": {},
     "output_type": "execute_result"
    }
   ],
   "source": [
    "azdias_nan_mean.sort_values(ascending=False)"
   ]
  },
  {
   "cell_type": "code",
   "execution_count": 71,
   "metadata": {},
   "outputs": [
    {
     "data": {
      "text/plain": [
       "Text(0,0.5,'Proportion of missing value in column')"
      ]
     },
     "execution_count": 71,
     "metadata": {},
     "output_type": "execute_result"
    },
    {
     "data": {
      "image/png": "[encoded data removed]",
      "text/plain": [
       "<matplotlib.figure.Figure at 0x7f63560bb5c0>"
      ]
     },
     "metadata": {
      "needs_background": "light"
     },
     "output_type": "display_data"
    }
   ],
   "source": [
    "azdias_nan_mean.sort_values(ascending=False)[:100].plot(kind=\"bar\", figsize=[20,10])\n",
    "\n",
    "plt.title(\"Proportion of missing values in first 100 columns\")\n",
    "plt.xlabel(\"Name of column\")\n",
    "plt.ylabel(\"Proportion of missing value in column\")"
   ]
  },
  {
   "cell_type": "markdown",
   "metadata": {},
   "source": [
    "ALTER_KIND4, ALTER_KIND3, ALTER_KIND2, ALTER_KIND1, KK_KUNDENTYP, EXTSEL992 are the columns which includes highest amounts of NaN values. They have more than 60% missing values."
   ]
  },
  {
   "cell_type": "code",
   "execution_count": 72,
   "metadata": {},
   "outputs": [
    {
     "data": {
      "text/plain": [
       "Text(0,0.5,'Number of columns')"
      ]
     },
     "execution_count": 72,
     "metadata": {},
     "output_type": "execute_result"
    },
    {
     "data": {
      "image/png": "[encoded data removed]",
      "text/plain": [
       "<matplotlib.figure.Figure at 0x7f63593e66d8>"
      ]
     },
     "metadata": {
      "needs_background": "light"
     },
     "output_type": "display_data"
    }
   ],
   "source": [
    "plt.hist(azdias_nan_mean, bins=20)\n",
    "\n",
    "plt.title(\"Number of columns vs proportion of missing values\")\n",
    "plt.xlabel(\"Proportion of missing value in column\")\n",
    "plt.ylabel(\"Number of columns\")"
   ]
  },
  {
   "cell_type": "markdown",
   "metadata": {},
   "source": [
    "In the histogram, we can see that missing values in most of the columns less than 20%. There are few columns whose proportion of missing values more than 60%."
   ]
  },
  {
   "cell_type": "markdown",
   "metadata": {},
   "source": [
    "When we look at the rows:"
   ]
  },
  {
   "cell_type": "code",
   "execution_count": 73,
   "metadata": {},
   "outputs": [],
   "source": [
    "azdias_row_nan_mean=azdias.isnull().mean(axis=1)"
   ]
  },
  {
   "cell_type": "code",
   "execution_count": 74,
   "metadata": {},
   "outputs": [
    {
     "data": {
      "text/plain": [
       "55664     0.707650\n",
       "537799    0.707650\n",
       "350182    0.707650\n",
       "373501    0.707650\n",
       "826869    0.707650\n",
       "739769    0.704918\n",
       "475330    0.704918\n",
       "5099      0.704918\n",
       "140317    0.704918\n",
       "522174    0.704918\n",
       "629707    0.704918\n",
       "716386    0.704918\n",
       "57866     0.704918\n",
       "23667     0.704918\n",
       "332962    0.704918\n",
       "347712    0.704918\n",
       "255742    0.704918\n",
       "228624    0.699454\n",
       "376576    0.691257\n",
       "376536    0.691257\n",
       "376578    0.691257\n",
       "376534    0.691257\n",
       "766507    0.691257\n",
       "376523    0.691257\n",
       "851362    0.691257\n",
       "851358    0.691257\n",
       "376506    0.691257\n",
       "376499    0.691257\n",
       "376490    0.691257\n",
       "376586    0.691257\n",
       "            ...   \n",
       "145368    0.000000\n",
       "711806    0.000000\n",
       "85307     0.000000\n",
       "89844     0.000000\n",
       "19457     0.000000\n",
       "677298    0.000000\n",
       "594450    0.000000\n",
       "730082    0.000000\n",
       "48547     0.000000\n",
       "33736     0.000000\n",
       "555614    0.000000\n",
       "837125    0.000000\n",
       "54129     0.000000\n",
       "436519    0.000000\n",
       "415359    0.000000\n",
       "856386    0.000000\n",
       "377279    0.000000\n",
       "193782    0.000000\n",
       "664563    0.000000\n",
       "617078    0.000000\n",
       "642237    0.000000\n",
       "346347    0.000000\n",
       "815174    0.000000\n",
       "299382    0.000000\n",
       "791473    0.000000\n",
       "66430     0.000000\n",
       "763105    0.000000\n",
       "730037    0.000000\n",
       "829956    0.000000\n",
       "301178    0.000000\n",
       "Length: 891221, dtype: float64"
      ]
     },
     "execution_count": 74,
     "metadata": {},
     "output_type": "execute_result"
    }
   ],
   "source": [
    "azdias_row_nan_mean.sort_values(ascending=False)"
   ]
  },
  {
   "cell_type": "code",
   "execution_count": 75,
   "metadata": {},
   "outputs": [
    {
     "data": {
      "text/plain": [
       "Text(0,0.5,'Number of rows')"
      ]
     },
     "execution_count": 75,
     "metadata": {},
     "output_type": "execute_result"
    },
    {
     "data": {
      "image/png": "[encoded data removed]",
      "text/plain": [
       "<matplotlib.figure.Figure at 0x7f6357d52da0>"
      ]
     },
     "metadata": {
      "needs_background": "light"
     },
     "output_type": "display_data"
    }
   ],
   "source": [
    "plt.hist(azdias_row_nan_mean, bins=20)\n",
    "\n",
    "plt.title(\"Number of rows vs proportion of missing values\")\n",
    "plt.xlabel(\"Proportion of missing value in row\")\n",
    "plt.ylabel(\"Number of rows\")"
   ]
  },
  {
   "cell_type": "markdown",
   "metadata": {},
   "source": [
    "According to the histogram, around 800,000 rows have missing values less than 10% of them. There are around 100,000 rows whose missing value percent is more than 60%."
   ]
  },
  {
   "cell_type": "markdown",
   "metadata": {},
   "source": [
    "#### Remove missing values"
   ]
  },
  {
   "cell_type": "code",
   "execution_count": 76,
   "metadata": {},
   "outputs": [],
   "source": [
    "# We need to find out which columns and rows to drop"
   ]
  },
  {
   "cell_type": "code",
   "execution_count": 77,
   "metadata": {},
   "outputs": [],
   "source": [
    "# columns"
   ]
  },
  {
   "cell_type": "code",
   "execution_count": 78,
   "metadata": {},
   "outputs": [
    {
     "data": {
      "text/plain": [
       "ALTER_KIND1     0.909048\n",
       "ALTER_KIND2     0.966900\n",
       "ALTER_KIND3     0.993077\n",
       "ALTER_KIND4     0.998648\n",
       "EXTSEL992       0.733996\n",
       "KK_KUNDENTYP    0.655967\n",
       "dtype: float64"
      ]
     },
     "execution_count": 78,
     "metadata": {},
     "output_type": "execute_result"
    }
   ],
   "source": [
    "azdias_nan_mean[azdias_nan_mean>0.3]"
   ]
  },
  {
   "cell_type": "code",
   "execution_count": 79,
   "metadata": {},
   "outputs": [],
   "source": [
    "columns_to_drop=azdias_nan_mean[azdias_nan_mean>0.3].index"
   ]
  },
  {
   "cell_type": "code",
   "execution_count": 80,
   "metadata": {},
   "outputs": [
    {
     "data": {
      "text/plain": [
       "Index(['ALTER_KIND1', 'ALTER_KIND2', 'ALTER_KIND3', 'ALTER_KIND4', 'EXTSEL992',\n",
       "       'KK_KUNDENTYP'],\n",
       "      dtype='object')"
      ]
     },
     "execution_count": 80,
     "metadata": {},
     "output_type": "execute_result"
    }
   ],
   "source": [
    "columns_to_drop"
   ]
  },
  {
   "cell_type": "code",
   "execution_count": 81,
   "metadata": {},
   "outputs": [],
   "source": [
    "# getting copy azdias\n",
    "azdias_clean=azdias.copy()"
   ]
  },
  {
   "cell_type": "code",
   "execution_count": 82,
   "metadata": {},
   "outputs": [],
   "source": [
    "# dropping columns to drop\n",
    "azdias_clean.drop(columns=columns_to_drop, inplace=True)"
   ]
  },
  {
   "cell_type": "code",
   "execution_count": 83,
   "metadata": {},
   "outputs": [],
   "source": [
    "# rows"
   ]
  },
  {
   "cell_type": "code",
   "execution_count": 84,
   "metadata": {},
   "outputs": [
    {
     "data": {
      "text/plain": [
       "0         0.688525\n",
       "11        0.691257\n",
       "14        0.691257\n",
       "17        0.691257\n",
       "24        0.691257\n",
       "26        0.543716\n",
       "30        0.644809\n",
       "35        0.688525\n",
       "46        0.644809\n",
       "48        0.691257\n",
       "53        0.688525\n",
       "54        0.691257\n",
       "61        0.688525\n",
       "62        0.688525\n",
       "69        0.691257\n",
       "75        0.691257\n",
       "76        0.688525\n",
       "81        0.688525\n",
       "83        0.688525\n",
       "90        0.644809\n",
       "97        0.691257\n",
       "99        0.691257\n",
       "103       0.691257\n",
       "106       0.688525\n",
       "108       0.691257\n",
       "109       0.688525\n",
       "112       0.691257\n",
       "133       0.691257\n",
       "137       0.691257\n",
       "138       0.603825\n",
       "            ...   \n",
       "891021    0.688525\n",
       "891027    0.688525\n",
       "891044    0.691257\n",
       "891049    0.691257\n",
       "891055    0.620219\n",
       "891061    0.688525\n",
       "891062    0.546448\n",
       "891063    0.688525\n",
       "891064    0.691257\n",
       "891069    0.554645\n",
       "891072    0.691257\n",
       "891074    0.644809\n",
       "891092    0.691257\n",
       "891095    0.691257\n",
       "891100    0.614754\n",
       "891117    0.546448\n",
       "891119    0.568306\n",
       "891120    0.535519\n",
       "891130    0.612022\n",
       "891137    0.617486\n",
       "891140    0.617486\n",
       "891159    0.688525\n",
       "891164    0.688525\n",
       "891170    0.543716\n",
       "891171    0.644809\n",
       "891172    0.524590\n",
       "891173    0.549180\n",
       "891175    0.691257\n",
       "891185    0.691257\n",
       "891187    0.691257\n",
       "Length: 99231, dtype: float64"
      ]
     },
     "execution_count": 84,
     "metadata": {},
     "output_type": "execute_result"
    }
   ],
   "source": [
    "azdias_row_nan_mean[azdias_row_nan_mean>0.5]"
   ]
  },
  {
   "cell_type": "code",
   "execution_count": 85,
   "metadata": {},
   "outputs": [
    {
     "data": {
      "text/plain": [
       "99231"
      ]
     },
     "execution_count": 85,
     "metadata": {},
     "output_type": "execute_result"
    }
   ],
   "source": [
    "len(azdias_row_nan_mean[azdias_row_nan_mean>0.5])"
   ]
  },
  {
   "cell_type": "code",
   "execution_count": 86,
   "metadata": {},
   "outputs": [],
   "source": [
    "rows_to_drop=azdias_row_nan_mean[azdias_row_nan_mean>0.5].index"
   ]
  },
  {
   "cell_type": "code",
   "execution_count": 87,
   "metadata": {},
   "outputs": [
    {
     "data": {
      "text/plain": [
       "Int64Index([     0,     11,     14,     17,     24,     26,     30,     35,\n",
       "                46,     48,\n",
       "            ...\n",
       "            891140, 891159, 891164, 891170, 891171, 891172, 891173, 891175,\n",
       "            891185, 891187],\n",
       "           dtype='int64', length=99231)"
      ]
     },
     "execution_count": 87,
     "metadata": {},
     "output_type": "execute_result"
    }
   ],
   "source": [
    "rows_to_drop"
   ]
  },
  {
   "cell_type": "code",
   "execution_count": 88,
   "metadata": {},
   "outputs": [],
   "source": [
    "# dropping rows\n",
    "azdias_clean.drop(rows_to_drop, inplace=True)"
   ]
  },
  {
   "cell_type": "code",
   "execution_count": 89,
   "metadata": {},
   "outputs": [
    {
     "name": "stdout",
     "output_type": "stream",
     "text": [
      "shape before cleaning:  (891221, 366)\n",
      "shape after cleaning:  (791990, 360)\n"
     ]
    }
   ],
   "source": [
    "print(\"shape before cleaning: \", azdias.shape)\n",
    "print(\"shape after cleaning: \", azdias_clean.shape)"
   ]
  },
  {
   "cell_type": "markdown",
   "metadata": {},
   "source": [
    "### 0.4. Remove the categorical columns which involve too many variables"
   ]
  },
  {
   "cell_type": "markdown",
   "metadata": {},
   "source": [
    "If a categorical column has too many variables it might be a problem when we convert it to dummy variables. It will increase the number of columns that are already too many. So, I decided to drop some of them if we have this kind of column."
   ]
  },
  {
   "cell_type": "code",
   "execution_count": 90,
   "metadata": {},
   "outputs": [],
   "source": [
    "# checking feature counts and types of the columns\n",
    "too_many_feat=[]\n",
    "for col in azdias_clean.columns:\n",
    "    if azdias_clean[col].nunique()>25:\n",
    "        too_many_feat.append((col, azdias_clean[col].nunique(), azdias_clean[col].dtypes))"
   ]
  },
  {
   "cell_type": "code",
   "execution_count": 91,
   "metadata": {},
   "outputs": [
    {
     "data": {
      "text/plain": [
       "[('LNR', 791990, dtype('int64')),\n",
       " ('ALTERSKATEGORIE_FEIN', 26, dtype('float64')),\n",
       " ('ANZ_HAUSHALTE_AKTIV', 292, dtype('float64')),\n",
       " ('ANZ_PERSONEN', 29, dtype('float64')),\n",
       " ('ANZ_STATISTISCHE_HAUSHALTE', 268, dtype('float64')),\n",
       " ('CAMEO_DEU_2015', 45, dtype('O')),\n",
       " ('CAMEO_INTL_2015', 43, dtype('O')),\n",
       " ('D19_LETZTER_KAUF_BRANCHE', 35, dtype('O')),\n",
       " ('EINGEFUEGT_AM', 4474, dtype('O')),\n",
       " ('EINGEZOGENAM_HH_JAHR', 37, dtype('float64')),\n",
       " ('GEBURTSJAHR', 117, dtype('int64')),\n",
       " ('KBA13_ANZAHL_PKW', 1261, dtype('float64')),\n",
       " ('LP_LEBENSPHASE_FEIN', 41, dtype('float64')),\n",
       " ('MIN_GEBAEUDEJAHR', 29, dtype('float64')),\n",
       " ('VERDICHTUNGSRAUM', 46, dtype('float64'))]"
      ]
     },
     "execution_count": 91,
     "metadata": {},
     "output_type": "execute_result"
    }
   ],
   "source": [
    "too_many_feat"
   ]
  },
  {
   "cell_type": "markdown",
   "metadata": {},
   "source": [
    "Some of these columns look problematic.\n",
    "1. LNR column has so many unique value bu it is ID column. So, we will keep it.\n",
    "2. CAMEO_DEU_2015, CAMEO_INTL_2015, D19_LETZTER_KAUF_BRANCHE and are categorical columns which have too many features.\n",
    "3. EINGEFUEGT_AM column seems to a categorical column and it should be in datetime type."
   ]
  },
  {
   "cell_type": "code",
   "execution_count": 92,
   "metadata": {},
   "outputs": [],
   "source": [
    "# change dtype of EINGEFUEGT_AM column from object to datetime\n",
    "azdias_clean[\"EINGEFUEGT_AM\"]=pd.to_datetime(azdias_clean[\"EINGEFUEGT_AM\"])"
   ]
  },
  {
   "cell_type": "code",
   "execution_count": 93,
   "metadata": {},
   "outputs": [],
   "source": [
    "# extract only year\n",
    "azdias_clean[\"EINGEFUEGT_AM\"]=pd.DatetimeIndex(azdias_clean[\"EINGEFUEGT_AM\"]).year"
   ]
  },
  {
   "cell_type": "code",
   "execution_count": 94,
   "metadata": {},
   "outputs": [
    {
     "data": {
      "text/plain": [
       "1    1992\n",
       "2    1992\n",
       "3    1997\n",
       "4    1992\n",
       "5    1992\n",
       "Name: EINGEFUEGT_AM, dtype: int64"
      ]
     },
     "execution_count": 94,
     "metadata": {},
     "output_type": "execute_result"
    }
   ],
   "source": [
    "azdias_clean[\"EINGEFUEGT_AM\"].head()"
   ]
  },
  {
   "cell_type": "code",
   "execution_count": 95,
   "metadata": {},
   "outputs": [],
   "source": [
    "# dropping columns that have too many features and id column\n",
    "azdias_clean.drop(columns=[\"CAMEO_DEU_2015\", \"CAMEO_INTL_2015\", \"D19_LETZTER_KAUF_BRANCHE\"], inplace=True)"
   ]
  },
  {
   "cell_type": "code",
   "execution_count": 96,
   "metadata": {},
   "outputs": [
    {
     "data": {
      "text/plain": [
       "(791990, 357)"
      ]
     },
     "execution_count": 96,
     "metadata": {},
     "output_type": "execute_result"
    }
   ],
   "source": [
    "azdias_clean.shape"
   ]
  },
  {
   "cell_type": "markdown",
   "metadata": {},
   "source": [
    "### 0.5. Convert remaining categorical columns to encoded and dummy variables"
   ]
  },
  {
   "cell_type": "code",
   "execution_count": 43,
   "metadata": {},
   "outputs": [],
   "source": [
    "# Finding categorical columns"
   ]
  },
  {
   "cell_type": "code",
   "execution_count": 97,
   "metadata": {
    "scrolled": true
   },
   "outputs": [
    {
     "data": {
      "text/plain": [
       "[('CAMEO_DEUG_2015', 19), ('OST_WEST_KZ', 2)]"
      ]
     },
     "execution_count": 97,
     "metadata": {},
     "output_type": "execute_result"
    }
   ],
   "source": [
    "categorical_cols=[]\n",
    "for col in azdias_clean.columns:\n",
    "    if azdias_clean[col].dtypes==\"object\":\n",
    "        categorical_cols.append((col, azdias_clean[col].nunique()))\n",
    "categorical_cols"
   ]
  },
  {
   "cell_type": "code",
   "execution_count": 98,
   "metadata": {},
   "outputs": [],
   "source": [
    "# CAMEO_DEUG_2015 column has too many features so converting encoded instead dummies seems better\n",
    "azdias_clean[\"CAMEO_DEUG_2015\"]=pd.factorize(azdias_clean[\"CAMEO_DEUG_2015\"])[0]"
   ]
  },
  {
   "cell_type": "code",
   "execution_count": 99,
   "metadata": {},
   "outputs": [],
   "source": [
    "# getting dummy column for OST_WEST_KZ\n",
    "azdias_clean=pd.get_dummies(azdias_clean, drop_first=True)"
   ]
  },
  {
   "cell_type": "code",
   "execution_count": 100,
   "metadata": {},
   "outputs": [
    {
     "data": {
      "text/plain": [
       "(791990, 357)"
      ]
     },
     "execution_count": 100,
     "metadata": {},
     "output_type": "execute_result"
    }
   ],
   "source": [
    "azdias_clean.shape"
   ]
  },
  {
   "cell_type": "markdown",
   "metadata": {},
   "source": [
    "### 0.6. Complete missing values"
   ]
  },
  {
   "cell_type": "markdown",
   "metadata": {},
   "source": [
    "In this step, we impute the missing values by using mode values for each column."
   ]
  },
  {
   "cell_type": "code",
   "execution_count": 101,
   "metadata": {},
   "outputs": [
    {
     "name": "stdout",
     "output_type": "stream",
     "text": [
      "number of missing values in azdias before imputing:  4952737\n"
     ]
    }
   ],
   "source": [
    "print(\"number of missing values in azdias before imputing: \", azdias_clean.isnull().sum().sum())"
   ]
  },
  {
   "cell_type": "code",
   "execution_count": 102,
   "metadata": {},
   "outputs": [],
   "source": [
    "# impute Nan values by using sklern impute function by using mode strategy\n",
    "\n",
    "imputer = Imputer(strategy='most_frequent')"
   ]
  },
  {
   "cell_type": "code",
   "execution_count": 103,
   "metadata": {},
   "outputs": [],
   "source": [
    "# fit and transform of imputer on dataframe\n",
    "\n",
    "azdias_clean=pd.DataFrame(imputer.fit_transform(azdias_clean), columns = azdias_clean.columns)"
   ]
  },
  {
   "cell_type": "code",
   "execution_count": 104,
   "metadata": {},
   "outputs": [
    {
     "name": "stdout",
     "output_type": "stream",
     "text": [
      "number of missing values in azdias after imputing:  0\n"
     ]
    }
   ],
   "source": [
    "print(\"number of missing values in azdias after imputing: \", azdias_clean.isnull().sum().sum())"
   ]
  },
  {
   "cell_type": "markdown",
   "metadata": {},
   "source": [
    "### 0.7. Identify and remove correlated features"
   ]
  },
  {
   "cell_type": "markdown",
   "metadata": {},
   "source": [
    "If we have highly correlated features, we think about getting rid of them. They might cause overfitting and also we have still too many features."
   ]
  },
  {
   "cell_type": "code",
   "execution_count": 105,
   "metadata": {},
   "outputs": [],
   "source": [
    "# getting absolute value correlation matrix by using corr from pandas\n",
    "corr_fet = azdias_clean.corr().abs()"
   ]
  },
  {
   "cell_type": "code",
   "execution_count": 106,
   "metadata": {},
   "outputs": [
    {
     "data": {
      "text/html": [
       "<div>\n",
       "<style scoped>\n",
       "    .dataframe tbody tr th:only-of-type {\n",
       "        vertical-align: middle;\n",
       "    }\n",
       "\n",
       "    .dataframe tbody tr th {\n",
       "        vertical-align: top;\n",
       "    }\n",
       "\n",
       "    .dataframe thead th {\n",
       "        text-align: right;\n",
       "    }\n",
       "</style>\n",
       "<table border=\"1\" class=\"dataframe\">\n",
       "  <thead>\n",
       "    <tr style=\"text-align: right;\">\n",
       "      <th></th>\n",
       "      <th>LNR</th>\n",
       "      <th>AGER_TYP</th>\n",
       "      <th>AKT_DAT_KL</th>\n",
       "      <th>ALTER_HH</th>\n",
       "      <th>ALTERSKATEGORIE_FEIN</th>\n",
       "      <th>ANZ_HAUSHALTE_AKTIV</th>\n",
       "      <th>ANZ_HH_TITEL</th>\n",
       "      <th>ANZ_KINDER</th>\n",
       "      <th>ANZ_PERSONEN</th>\n",
       "      <th>ANZ_STATISTISCHE_HAUSHALTE</th>\n",
       "      <th>...</th>\n",
       "      <th>VK_DHT4A</th>\n",
       "      <th>VK_DISTANZ</th>\n",
       "      <th>VK_ZG11</th>\n",
       "      <th>W_KEIT_KIND_HH</th>\n",
       "      <th>WOHNDAUER_2008</th>\n",
       "      <th>WOHNLAGE</th>\n",
       "      <th>ZABEOTYP</th>\n",
       "      <th>ANREDE_KZ</th>\n",
       "      <th>ALTERSKATEGORIE_GROB</th>\n",
       "      <th>OST_WEST_KZ_W</th>\n",
       "    </tr>\n",
       "  </thead>\n",
       "  <tbody>\n",
       "    <tr>\n",
       "      <th>LNR</th>\n",
       "      <td>1.000000</td>\n",
       "      <td>0.019696</td>\n",
       "      <td>0.005084</td>\n",
       "      <td>0.011712</td>\n",
       "      <td>0.004099</td>\n",
       "      <td>0.051198</td>\n",
       "      <td>0.009621</td>\n",
       "      <td>0.022324</td>\n",
       "      <td>0.025062</td>\n",
       "      <td>0.054921</td>\n",
       "      <td>...</td>\n",
       "      <td>0.021967</td>\n",
       "      <td>0.066103</td>\n",
       "      <td>0.103859</td>\n",
       "      <td>0.019138</td>\n",
       "      <td>0.002809</td>\n",
       "      <td>0.059260</td>\n",
       "      <td>0.038243</td>\n",
       "      <td>0.004174</td>\n",
       "      <td>0.000164</td>\n",
       "      <td>0.707126</td>\n",
       "    </tr>\n",
       "    <tr>\n",
       "      <th>AGER_TYP</th>\n",
       "      <td>0.019696</td>\n",
       "      <td>1.000000</td>\n",
       "      <td>0.281603</td>\n",
       "      <td>0.002101</td>\n",
       "      <td>0.405207</td>\n",
       "      <td>0.025516</td>\n",
       "      <td>0.001925</td>\n",
       "      <td>0.132502</td>\n",
       "      <td>0.014562</td>\n",
       "      <td>0.020573</td>\n",
       "      <td>...</td>\n",
       "      <td>0.051294</td>\n",
       "      <td>0.189732</td>\n",
       "      <td>0.289147</td>\n",
       "      <td>0.239132</td>\n",
       "      <td>0.143615</td>\n",
       "      <td>0.012730</td>\n",
       "      <td>0.154369</td>\n",
       "      <td>0.014680</td>\n",
       "      <td>0.340526</td>\n",
       "      <td>0.021134</td>\n",
       "    </tr>\n",
       "    <tr>\n",
       "      <th>AKT_DAT_KL</th>\n",
       "      <td>0.005084</td>\n",
       "      <td>0.281603</td>\n",
       "      <td>1.000000</td>\n",
       "      <td>0.177541</td>\n",
       "      <td>0.298895</td>\n",
       "      <td>0.119516</td>\n",
       "      <td>0.028476</td>\n",
       "      <td>0.077344</td>\n",
       "      <td>0.142287</td>\n",
       "      <td>0.120605</td>\n",
       "      <td>...</td>\n",
       "      <td>0.374296</td>\n",
       "      <td>0.410785</td>\n",
       "      <td>0.384257</td>\n",
       "      <td>0.000127</td>\n",
       "      <td>0.043381</td>\n",
       "      <td>0.036304</td>\n",
       "      <td>0.179195</td>\n",
       "      <td>0.040862</td>\n",
       "      <td>0.196882</td>\n",
       "      <td>0.009064</td>\n",
       "    </tr>\n",
       "    <tr>\n",
       "      <th>ALTER_HH</th>\n",
       "      <td>0.011712</td>\n",
       "      <td>0.002101</td>\n",
       "      <td>0.177541</td>\n",
       "      <td>1.000000</td>\n",
       "      <td>0.301095</td>\n",
       "      <td>0.076373</td>\n",
       "      <td>0.042730</td>\n",
       "      <td>0.180002</td>\n",
       "      <td>0.331046</td>\n",
       "      <td>0.082307</td>\n",
       "      <td>...</td>\n",
       "      <td>0.395162</td>\n",
       "      <td>0.316018</td>\n",
       "      <td>0.196415</td>\n",
       "      <td>0.275779</td>\n",
       "      <td>0.050558</td>\n",
       "      <td>0.026028</td>\n",
       "      <td>0.089730</td>\n",
       "      <td>0.016196</td>\n",
       "      <td>0.158987</td>\n",
       "      <td>0.020931</td>\n",
       "    </tr>\n",
       "    <tr>\n",
       "      <th>ALTERSKATEGORIE_FEIN</th>\n",
       "      <td>0.004099</td>\n",
       "      <td>0.405207</td>\n",
       "      <td>0.298895</td>\n",
       "      <td>0.301095</td>\n",
       "      <td>1.000000</td>\n",
       "      <td>0.016916</td>\n",
       "      <td>0.022308</td>\n",
       "      <td>0.182173</td>\n",
       "      <td>0.042611</td>\n",
       "      <td>0.008105</td>\n",
       "      <td>...</td>\n",
       "      <td>0.139947</td>\n",
       "      <td>0.020063</td>\n",
       "      <td>0.157347</td>\n",
       "      <td>0.316126</td>\n",
       "      <td>0.220822</td>\n",
       "      <td>0.008741</td>\n",
       "      <td>0.161351</td>\n",
       "      <td>0.018834</td>\n",
       "      <td>0.437378</td>\n",
       "      <td>0.001677</td>\n",
       "    </tr>\n",
       "  </tbody>\n",
       "</table>\n",
       "<p>5 rows × 357 columns</p>\n",
       "</div>"
      ],
      "text/plain": [
       "                           LNR  AGER_TYP  AKT_DAT_KL  ALTER_HH  \\\n",
       "LNR                   1.000000  0.019696    0.005084  0.011712   \n",
       "AGER_TYP              0.019696  1.000000    0.281603  0.002101   \n",
       "AKT_DAT_KL            0.005084  0.281603    1.000000  0.177541   \n",
       "ALTER_HH              0.011712  0.002101    0.177541  1.000000   \n",
       "ALTERSKATEGORIE_FEIN  0.004099  0.405207    0.298895  0.301095   \n",
       "\n",
       "                      ALTERSKATEGORIE_FEIN  ANZ_HAUSHALTE_AKTIV  ANZ_HH_TITEL  \\\n",
       "LNR                               0.004099             0.051198      0.009621   \n",
       "AGER_TYP                          0.405207             0.025516      0.001925   \n",
       "AKT_DAT_KL                        0.298895             0.119516      0.028476   \n",
       "ALTER_HH                          0.301095             0.076373      0.042730   \n",
       "ALTERSKATEGORIE_FEIN              1.000000             0.016916      0.022308   \n",
       "\n",
       "                      ANZ_KINDER  ANZ_PERSONEN  ANZ_STATISTISCHE_HAUSHALTE  \\\n",
       "LNR                     0.022324      0.025062                    0.054921   \n",
       "AGER_TYP                0.132502      0.014562                    0.020573   \n",
       "AKT_DAT_KL              0.077344      0.142287                    0.120605   \n",
       "ALTER_HH                0.180002      0.331046                    0.082307   \n",
       "ALTERSKATEGORIE_FEIN    0.182173      0.042611                    0.008105   \n",
       "\n",
       "                          ...        VK_DHT4A  VK_DISTANZ   VK_ZG11  \\\n",
       "LNR                       ...        0.021967    0.066103  0.103859   \n",
       "AGER_TYP                  ...        0.051294    0.189732  0.289147   \n",
       "AKT_DAT_KL                ...        0.374296    0.410785  0.384257   \n",
       "ALTER_HH                  ...        0.395162    0.316018  0.196415   \n",
       "ALTERSKATEGORIE_FEIN      ...        0.139947    0.020063  0.157347   \n",
       "\n",
       "                      W_KEIT_KIND_HH  WOHNDAUER_2008  WOHNLAGE  ZABEOTYP  \\\n",
       "LNR                         0.019138        0.002809  0.059260  0.038243   \n",
       "AGER_TYP                    0.239132        0.143615  0.012730  0.154369   \n",
       "AKT_DAT_KL                  0.000127        0.043381  0.036304  0.179195   \n",
       "ALTER_HH                    0.275779        0.050558  0.026028  0.089730   \n",
       "ALTERSKATEGORIE_FEIN        0.316126        0.220822  0.008741  0.161351   \n",
       "\n",
       "                      ANREDE_KZ  ALTERSKATEGORIE_GROB  OST_WEST_KZ_W  \n",
       "LNR                    0.004174              0.000164       0.707126  \n",
       "AGER_TYP               0.014680              0.340526       0.021134  \n",
       "AKT_DAT_KL             0.040862              0.196882       0.009064  \n",
       "ALTER_HH               0.016196              0.158987       0.020931  \n",
       "ALTERSKATEGORIE_FEIN   0.018834              0.437378       0.001677  \n",
       "\n",
       "[5 rows x 357 columns]"
      ]
     },
     "execution_count": 106,
     "metadata": {},
     "output_type": "execute_result"
    }
   ],
   "source": [
    "corr_fet.head()"
   ]
  },
  {
   "cell_type": "code",
   "execution_count": 107,
   "metadata": {},
   "outputs": [
    {
     "data": {
      "text/html": [
       "<div>\n",
       "<style scoped>\n",
       "    .dataframe tbody tr th:only-of-type {\n",
       "        vertical-align: middle;\n",
       "    }\n",
       "\n",
       "    .dataframe tbody tr th {\n",
       "        vertical-align: top;\n",
       "    }\n",
       "\n",
       "    .dataframe thead th {\n",
       "        text-align: right;\n",
       "    }\n",
       "</style>\n",
       "<table border=\"1\" class=\"dataframe\">\n",
       "  <thead>\n",
       "    <tr style=\"text-align: right;\">\n",
       "      <th></th>\n",
       "      <th>LNR</th>\n",
       "      <th>AGER_TYP</th>\n",
       "      <th>AKT_DAT_KL</th>\n",
       "      <th>ALTER_HH</th>\n",
       "      <th>ALTERSKATEGORIE_FEIN</th>\n",
       "      <th>ANZ_HAUSHALTE_AKTIV</th>\n",
       "      <th>ANZ_HH_TITEL</th>\n",
       "      <th>ANZ_KINDER</th>\n",
       "      <th>ANZ_PERSONEN</th>\n",
       "      <th>ANZ_STATISTISCHE_HAUSHALTE</th>\n",
       "      <th>...</th>\n",
       "      <th>VK_DHT4A</th>\n",
       "      <th>VK_DISTANZ</th>\n",
       "      <th>VK_ZG11</th>\n",
       "      <th>W_KEIT_KIND_HH</th>\n",
       "      <th>WOHNDAUER_2008</th>\n",
       "      <th>WOHNLAGE</th>\n",
       "      <th>ZABEOTYP</th>\n",
       "      <th>ANREDE_KZ</th>\n",
       "      <th>ALTERSKATEGORIE_GROB</th>\n",
       "      <th>OST_WEST_KZ_W</th>\n",
       "    </tr>\n",
       "  </thead>\n",
       "  <tbody>\n",
       "    <tr>\n",
       "      <th>LNR</th>\n",
       "      <td>NaN</td>\n",
       "      <td>0.019696</td>\n",
       "      <td>0.005084</td>\n",
       "      <td>0.011712</td>\n",
       "      <td>0.004099</td>\n",
       "      <td>0.051198</td>\n",
       "      <td>0.009621</td>\n",
       "      <td>0.022324</td>\n",
       "      <td>0.025062</td>\n",
       "      <td>0.054921</td>\n",
       "      <td>...</td>\n",
       "      <td>0.021967</td>\n",
       "      <td>0.066103</td>\n",
       "      <td>0.103859</td>\n",
       "      <td>0.019138</td>\n",
       "      <td>0.002809</td>\n",
       "      <td>0.059260</td>\n",
       "      <td>0.038243</td>\n",
       "      <td>0.004174</td>\n",
       "      <td>0.000164</td>\n",
       "      <td>0.707126</td>\n",
       "    </tr>\n",
       "    <tr>\n",
       "      <th>AGER_TYP</th>\n",
       "      <td>NaN</td>\n",
       "      <td>NaN</td>\n",
       "      <td>0.281603</td>\n",
       "      <td>0.002101</td>\n",
       "      <td>0.405207</td>\n",
       "      <td>0.025516</td>\n",
       "      <td>0.001925</td>\n",
       "      <td>0.132502</td>\n",
       "      <td>0.014562</td>\n",
       "      <td>0.020573</td>\n",
       "      <td>...</td>\n",
       "      <td>0.051294</td>\n",
       "      <td>0.189732</td>\n",
       "      <td>0.289147</td>\n",
       "      <td>0.239132</td>\n",
       "      <td>0.143615</td>\n",
       "      <td>0.012730</td>\n",
       "      <td>0.154369</td>\n",
       "      <td>0.014680</td>\n",
       "      <td>0.340526</td>\n",
       "      <td>0.021134</td>\n",
       "    </tr>\n",
       "    <tr>\n",
       "      <th>AKT_DAT_KL</th>\n",
       "      <td>NaN</td>\n",
       "      <td>NaN</td>\n",
       "      <td>NaN</td>\n",
       "      <td>0.177541</td>\n",
       "      <td>0.298895</td>\n",
       "      <td>0.119516</td>\n",
       "      <td>0.028476</td>\n",
       "      <td>0.077344</td>\n",
       "      <td>0.142287</td>\n",
       "      <td>0.120605</td>\n",
       "      <td>...</td>\n",
       "      <td>0.374296</td>\n",
       "      <td>0.410785</td>\n",
       "      <td>0.384257</td>\n",
       "      <td>0.000127</td>\n",
       "      <td>0.043381</td>\n",
       "      <td>0.036304</td>\n",
       "      <td>0.179195</td>\n",
       "      <td>0.040862</td>\n",
       "      <td>0.196882</td>\n",
       "      <td>0.009064</td>\n",
       "    </tr>\n",
       "    <tr>\n",
       "      <th>ALTER_HH</th>\n",
       "      <td>NaN</td>\n",
       "      <td>NaN</td>\n",
       "      <td>NaN</td>\n",
       "      <td>NaN</td>\n",
       "      <td>0.301095</td>\n",
       "      <td>0.076373</td>\n",
       "      <td>0.042730</td>\n",
       "      <td>0.180002</td>\n",
       "      <td>0.331046</td>\n",
       "      <td>0.082307</td>\n",
       "      <td>...</td>\n",
       "      <td>0.395162</td>\n",
       "      <td>0.316018</td>\n",
       "      <td>0.196415</td>\n",
       "      <td>0.275779</td>\n",
       "      <td>0.050558</td>\n",
       "      <td>0.026028</td>\n",
       "      <td>0.089730</td>\n",
       "      <td>0.016196</td>\n",
       "      <td>0.158987</td>\n",
       "      <td>0.020931</td>\n",
       "    </tr>\n",
       "    <tr>\n",
       "      <th>ALTERSKATEGORIE_FEIN</th>\n",
       "      <td>NaN</td>\n",
       "      <td>NaN</td>\n",
       "      <td>NaN</td>\n",
       "      <td>NaN</td>\n",
       "      <td>NaN</td>\n",
       "      <td>0.016916</td>\n",
       "      <td>0.022308</td>\n",
       "      <td>0.182173</td>\n",
       "      <td>0.042611</td>\n",
       "      <td>0.008105</td>\n",
       "      <td>...</td>\n",
       "      <td>0.139947</td>\n",
       "      <td>0.020063</td>\n",
       "      <td>0.157347</td>\n",
       "      <td>0.316126</td>\n",
       "      <td>0.220822</td>\n",
       "      <td>0.008741</td>\n",
       "      <td>0.161351</td>\n",
       "      <td>0.018834</td>\n",
       "      <td>0.437378</td>\n",
       "      <td>0.001677</td>\n",
       "    </tr>\n",
       "  </tbody>\n",
       "</table>\n",
       "<p>5 rows × 357 columns</p>\n",
       "</div>"
      ],
      "text/plain": [
       "                      LNR  AGER_TYP  AKT_DAT_KL  ALTER_HH  \\\n",
       "LNR                   NaN  0.019696    0.005084  0.011712   \n",
       "AGER_TYP              NaN       NaN    0.281603  0.002101   \n",
       "AKT_DAT_KL            NaN       NaN         NaN  0.177541   \n",
       "ALTER_HH              NaN       NaN         NaN       NaN   \n",
       "ALTERSKATEGORIE_FEIN  NaN       NaN         NaN       NaN   \n",
       "\n",
       "                      ALTERSKATEGORIE_FEIN  ANZ_HAUSHALTE_AKTIV  ANZ_HH_TITEL  \\\n",
       "LNR                               0.004099             0.051198      0.009621   \n",
       "AGER_TYP                          0.405207             0.025516      0.001925   \n",
       "AKT_DAT_KL                        0.298895             0.119516      0.028476   \n",
       "ALTER_HH                          0.301095             0.076373      0.042730   \n",
       "ALTERSKATEGORIE_FEIN                   NaN             0.016916      0.022308   \n",
       "\n",
       "                      ANZ_KINDER  ANZ_PERSONEN  ANZ_STATISTISCHE_HAUSHALTE  \\\n",
       "LNR                     0.022324      0.025062                    0.054921   \n",
       "AGER_TYP                0.132502      0.014562                    0.020573   \n",
       "AKT_DAT_KL              0.077344      0.142287                    0.120605   \n",
       "ALTER_HH                0.180002      0.331046                    0.082307   \n",
       "ALTERSKATEGORIE_FEIN    0.182173      0.042611                    0.008105   \n",
       "\n",
       "                          ...        VK_DHT4A  VK_DISTANZ   VK_ZG11  \\\n",
       "LNR                       ...        0.021967    0.066103  0.103859   \n",
       "AGER_TYP                  ...        0.051294    0.189732  0.289147   \n",
       "AKT_DAT_KL                ...        0.374296    0.410785  0.384257   \n",
       "ALTER_HH                  ...        0.395162    0.316018  0.196415   \n",
       "ALTERSKATEGORIE_FEIN      ...        0.139947    0.020063  0.157347   \n",
       "\n",
       "                      W_KEIT_KIND_HH  WOHNDAUER_2008  WOHNLAGE  ZABEOTYP  \\\n",
       "LNR                         0.019138        0.002809  0.059260  0.038243   \n",
       "AGER_TYP                    0.239132        0.143615  0.012730  0.154369   \n",
       "AKT_DAT_KL                  0.000127        0.043381  0.036304  0.179195   \n",
       "ALTER_HH                    0.275779        0.050558  0.026028  0.089730   \n",
       "ALTERSKATEGORIE_FEIN        0.316126        0.220822  0.008741  0.161351   \n",
       "\n",
       "                      ANREDE_KZ  ALTERSKATEGORIE_GROB  OST_WEST_KZ_W  \n",
       "LNR                    0.004174              0.000164       0.707126  \n",
       "AGER_TYP               0.014680              0.340526       0.021134  \n",
       "AKT_DAT_KL             0.040862              0.196882       0.009064  \n",
       "ALTER_HH               0.016196              0.158987       0.020931  \n",
       "ALTERSKATEGORIE_FEIN   0.018834              0.437378       0.001677  \n",
       "\n",
       "[5 rows x 357 columns]"
      ]
     },
     "execution_count": 107,
     "metadata": {},
     "output_type": "execute_result"
    }
   ],
   "source": [
    "# upper triangle of correlation matrix\n",
    "upper = corr_fet.where(np.triu(np.ones(corr_fet.shape), k=1).astype(np.bool))\n",
    "upper.head()"
   ]
  },
  {
   "cell_type": "code",
   "execution_count": 113,
   "metadata": {},
   "outputs": [],
   "source": [
    "threshold=0.85"
   ]
  },
  {
   "cell_type": "code",
   "execution_count": 114,
   "metadata": {},
   "outputs": [
    {
     "data": {
      "text/plain": [
       "['ANZ_STATISTISCHE_HAUSHALTE',\n",
       " 'CJT_TYP_2',\n",
       " 'D19_BANKEN_ONLINE_DATUM',\n",
       " 'D19_BANKEN_ONLINE_QUOTE_12',\n",
       " 'D19_GESAMT_ANZ_24',\n",
       " 'D19_GESAMT_DATUM',\n",
       " 'D19_GESAMT_ONLINE_DATUM',\n",
       " 'D19_GESAMT_ONLINE_QUOTE_12',\n",
       " 'D19_KONSUMTYP_MAX',\n",
       " 'D19_VERSAND_ANZ_12',\n",
       " 'D19_VERSAND_ANZ_24',\n",
       " 'D19_VERSAND_DATUM',\n",
       " 'D19_VERSAND_ONLINE_DATUM',\n",
       " 'D19_VERSAND_ONLINE_QUOTE_12',\n",
       " 'KBA05_KRSAQUOT',\n",
       " 'KBA05_KRSHERST1',\n",
       " 'KBA05_KRSHERST2',\n",
       " 'KBA05_KRSHERST3',\n",
       " 'KBA05_SEG2',\n",
       " 'KBA05_SEG5',\n",
       " 'KBA05_SEG6',\n",
       " 'KBA05_SEG9',\n",
       " 'KBA05_ZUL4',\n",
       " 'KBA13_HALTER_40',\n",
       " 'KBA13_HALTER_55',\n",
       " 'KBA13_HALTER_66',\n",
       " 'KBA13_HERST_SONST',\n",
       " 'KBA13_KMH_250',\n",
       " 'KBA13_SITZE_5',\n",
       " 'KBA13_VW',\n",
       " 'LP_FAMILIE_GROB',\n",
       " 'LP_LEBENSPHASE_FEIN',\n",
       " 'LP_LEBENSPHASE_GROB',\n",
       " 'LP_STATUS_GROB',\n",
       " 'MIN_GEBAEUDEJAHR',\n",
       " 'ORTSGR_KLS9',\n",
       " 'PLZ8_ANTG1',\n",
       " 'PLZ8_ANTG3',\n",
       " 'PLZ8_ANTG4',\n",
       " 'PLZ8_BAUMAX',\n",
       " 'PLZ8_GBZ',\n",
       " 'PLZ8_HHZ',\n",
       " 'VK_DISTANZ',\n",
       " 'VK_ZG11',\n",
       " 'ANREDE_KZ']"
      ]
     },
     "execution_count": 114,
     "metadata": {},
     "output_type": "execute_result"
    }
   ],
   "source": [
    "# Selecting columns whose correlation above the threshold\n",
    "cols_to_drop = [column for column in upper.columns if any(upper[column] > threshold)]\n",
    "\n",
    "cols_to_drop"
   ]
  },
  {
   "cell_type": "code",
   "execution_count": 115,
   "metadata": {},
   "outputs": [
    {
     "data": {
      "text/plain": [
       "45"
      ]
     },
     "execution_count": 115,
     "metadata": {},
     "output_type": "execute_result"
    }
   ],
   "source": [
    "len(cols_to_drop)"
   ]
  },
  {
   "cell_type": "code",
   "execution_count": 119,
   "metadata": {},
   "outputs": [],
   "source": [
    "# dropping most correlated columns (>0.85)\n",
    "azdias_clean.drop(columns=cols_to_drop, inplace=True)"
   ]
  },
  {
   "cell_type": "code",
   "execution_count": 120,
   "metadata": {},
   "outputs": [
    {
     "data": {
      "text/plain": [
       "(791990, 312)"
      ]
     },
     "execution_count": 120,
     "metadata": {},
     "output_type": "execute_result"
    }
   ],
   "source": [
    "azdias_clean.shape"
   ]
  },
  {
   "cell_type": "markdown",
   "metadata": {},
   "source": [
    "### 0.8. Remove outliers"
   ]
  },
  {
   "cell_type": "markdown",
   "metadata": {},
   "source": [
    "I use sciPy stats.zscore() function to detect outliers in the dataset. It returns the z-score which standardized by mean and standard deviation of the input. I keep the values that z-score<6 for all values in a row and that drops more than 100,000 rows in this step."
   ]
  },
  {
   "cell_type": "code",
   "execution_count": 121,
   "metadata": {},
   "outputs": [],
   "source": [
    "# calculate z score for each value in dataset\n",
    "z = np.abs(stats.zscore(azdias_clean))"
   ]
  },
  {
   "cell_type": "code",
   "execution_count": 122,
   "metadata": {},
   "outputs": [],
   "source": [
    "# filter all rows whose z score less than 6\n",
    "azdias_clean = azdias_clean[(z < 6).all(axis=1)]"
   ]
  },
  {
   "cell_type": "code",
   "execution_count": 123,
   "metadata": {},
   "outputs": [],
   "source": [
    "# reset index for new dataframe\n",
    "azdias_clean.reset_index(drop=True, inplace=True)"
   ]
  },
  {
   "cell_type": "code",
   "execution_count": 124,
   "metadata": {},
   "outputs": [
    {
     "data": {
      "text/plain": [
       "(688713, 312)"
      ]
     },
     "execution_count": 124,
     "metadata": {},
     "output_type": "execute_result"
    }
   ],
   "source": [
    "azdias_clean.shape"
   ]
  },
  {
   "cell_type": "markdown",
   "metadata": {},
   "source": [
    "### 0.9. Scale the dataset"
   ]
  },
  {
   "cell_type": "markdown",
   "metadata": {},
   "source": [
    "Our next step is dimensionality reduction by using PCA and normalization is important for it because PCA is about maximizing variance. \n",
    "In this step, sklearn StandardScaler() is used for the normalization of the dataset."
   ]
  },
  {
   "cell_type": "code",
   "execution_count": 125,
   "metadata": {},
   "outputs": [],
   "source": [
    "# define scaler by using StandardScaler from sklearn, which standardize features by removing the mean and scaling to unit variance\n",
    "scaler = StandardScaler()"
   ]
  },
  {
   "cell_type": "code",
   "execution_count": 126,
   "metadata": {},
   "outputs": [],
   "source": [
    "# to keep LNR column same we need to copy it\n",
    "lnr=azdias_clean['LNR']"
   ]
  },
  {
   "cell_type": "code",
   "execution_count": 127,
   "metadata": {},
   "outputs": [],
   "source": [
    "# fit and transform of scaler on dataframe\n",
    "azdias_clean=pd.DataFrame(scaler.fit_transform(azdias_clean), columns = azdias_clean.columns)"
   ]
  },
  {
   "cell_type": "code",
   "execution_count": 128,
   "metadata": {},
   "outputs": [],
   "source": [
    "# get back LNR column again\n",
    "azdias_clean['LNR']=lnr\n",
    "\n",
    "# set index LNR column\n",
    "azdias_clean.set_index(\"LNR\", inplace=True)"
   ]
  },
  {
   "cell_type": "code",
   "execution_count": 129,
   "metadata": {},
   "outputs": [
    {
     "data": {
      "text/html": [
       "<div>\n",
       "<style scoped>\n",
       "    .dataframe tbody tr th:only-of-type {\n",
       "        vertical-align: middle;\n",
       "    }\n",
       "\n",
       "    .dataframe tbody tr th {\n",
       "        vertical-align: top;\n",
       "    }\n",
       "\n",
       "    .dataframe thead th {\n",
       "        text-align: right;\n",
       "    }\n",
       "</style>\n",
       "<table border=\"1\" class=\"dataframe\">\n",
       "  <thead>\n",
       "    <tr style=\"text-align: right;\">\n",
       "      <th></th>\n",
       "      <th>AGER_TYP</th>\n",
       "      <th>AKT_DAT_KL</th>\n",
       "      <th>ALTER_HH</th>\n",
       "      <th>ALTERSKATEGORIE_FEIN</th>\n",
       "      <th>ANZ_HAUSHALTE_AKTIV</th>\n",
       "      <th>ANZ_HH_TITEL</th>\n",
       "      <th>ANZ_KINDER</th>\n",
       "      <th>ANZ_PERSONEN</th>\n",
       "      <th>ANZ_TITEL</th>\n",
       "      <th>ARBEIT</th>\n",
       "      <th>...</th>\n",
       "      <th>VERS_TYP</th>\n",
       "      <th>VHA</th>\n",
       "      <th>VHN</th>\n",
       "      <th>VK_DHT4A</th>\n",
       "      <th>W_KEIT_KIND_HH</th>\n",
       "      <th>WOHNDAUER_2008</th>\n",
       "      <th>WOHNLAGE</th>\n",
       "      <th>ZABEOTYP</th>\n",
       "      <th>ALTERSKATEGORIE_GROB</th>\n",
       "      <th>OST_WEST_KZ_W</th>\n",
       "    </tr>\n",
       "    <tr>\n",
       "      <th>LNR</th>\n",
       "      <th></th>\n",
       "      <th></th>\n",
       "      <th></th>\n",
       "      <th></th>\n",
       "      <th></th>\n",
       "      <th></th>\n",
       "      <th></th>\n",
       "      <th></th>\n",
       "      <th></th>\n",
       "      <th></th>\n",
       "      <th></th>\n",
       "      <th></th>\n",
       "      <th></th>\n",
       "      <th></th>\n",
       "      <th></th>\n",
       "      <th></th>\n",
       "      <th></th>\n",
       "      <th></th>\n",
       "      <th></th>\n",
       "      <th></th>\n",
       "      <th></th>\n",
       "    </tr>\n",
       "  </thead>\n",
       "  <tbody>\n",
       "    <tr>\n",
       "      <th>910225.0</th>\n",
       "      <td>-0.572573</td>\n",
       "      <td>1.222088</td>\n",
       "      <td>0.835070</td>\n",
       "      <td>0.684332</td>\n",
       "      <td>0.242362</td>\n",
       "      <td>-0.147496</td>\n",
       "      <td>-0.295067</td>\n",
       "      <td>-0.611189</td>\n",
       "      <td>0.0</td>\n",
       "      <td>-0.178999</td>\n",
       "      <td>...</td>\n",
       "      <td>-0.557781</td>\n",
       "      <td>-0.375764</td>\n",
       "      <td>-0.357962</td>\n",
       "      <td>0.996437</td>\n",
       "      <td>-0.626223</td>\n",
       "      <td>0.551127</td>\n",
       "      <td>-1.067185</td>\n",
       "      <td>1.130249</td>\n",
       "      <td>0.162732</td>\n",
       "      <td>0.50669</td>\n",
       "    </tr>\n",
       "    <tr>\n",
       "      <th>910226.0</th>\n",
       "      <td>1.851919</td>\n",
       "      <td>-0.959254</td>\n",
       "      <td>0.309388</td>\n",
       "      <td>-0.202169</td>\n",
       "      <td>-0.628346</td>\n",
       "      <td>-0.147496</td>\n",
       "      <td>-0.295067</td>\n",
       "      <td>-1.523856</td>\n",
       "      <td>0.0</td>\n",
       "      <td>-1.183259</td>\n",
       "      <td>...</td>\n",
       "      <td>-0.557781</td>\n",
       "      <td>0.517486</td>\n",
       "      <td>-2.098319</td>\n",
       "      <td>0.284947</td>\n",
       "      <td>0.967550</td>\n",
       "      <td>0.551127</td>\n",
       "      <td>1.554442</td>\n",
       "      <td>-0.294103</td>\n",
       "      <td>1.088797</td>\n",
       "      <td>0.50669</td>\n",
       "    </tr>\n",
       "    <tr>\n",
       "      <th>910244.0</th>\n",
       "      <td>2.660083</td>\n",
       "      <td>-0.959254</td>\n",
       "      <td>-0.084874</td>\n",
       "      <td>-0.867045</td>\n",
       "      <td>-0.241365</td>\n",
       "      <td>-0.147496</td>\n",
       "      <td>-0.295067</td>\n",
       "      <td>-0.611189</td>\n",
       "      <td>0.0</td>\n",
       "      <td>-1.183259</td>\n",
       "      <td>...</td>\n",
       "      <td>0.825610</td>\n",
       "      <td>-0.375764</td>\n",
       "      <td>-0.357962</td>\n",
       "      <td>1.352182</td>\n",
       "      <td>0.967550</td>\n",
       "      <td>0.551127</td>\n",
       "      <td>1.554442</td>\n",
       "      <td>0.418073</td>\n",
       "      <td>-1.689396</td>\n",
       "      <td>0.50669</td>\n",
       "    </tr>\n",
       "    <tr>\n",
       "      <th>910248.0</th>\n",
       "      <td>-0.572573</td>\n",
       "      <td>1.222088</td>\n",
       "      <td>-1.399080</td>\n",
       "      <td>0.241081</td>\n",
       "      <td>-0.338110</td>\n",
       "      <td>-0.147496</td>\n",
       "      <td>-0.295067</td>\n",
       "      <td>-0.611189</td>\n",
       "      <td>0.0</td>\n",
       "      <td>0.825261</td>\n",
       "      <td>...</td>\n",
       "      <td>-0.557781</td>\n",
       "      <td>-0.375764</td>\n",
       "      <td>-0.357962</td>\n",
       "      <td>0.284947</td>\n",
       "      <td>-0.626223</td>\n",
       "      <td>0.551127</td>\n",
       "      <td>0.505791</td>\n",
       "      <td>0.418073</td>\n",
       "      <td>-0.763332</td>\n",
       "      <td>0.50669</td>\n",
       "    </tr>\n",
       "    <tr>\n",
       "      <th>910261.0</th>\n",
       "      <td>-0.572573</td>\n",
       "      <td>-0.959254</td>\n",
       "      <td>0.440808</td>\n",
       "      <td>0.019456</td>\n",
       "      <td>-0.144619</td>\n",
       "      <td>-0.147496</td>\n",
       "      <td>-0.295067</td>\n",
       "      <td>-0.611189</td>\n",
       "      <td>0.0</td>\n",
       "      <td>-1.183259</td>\n",
       "      <td>...</td>\n",
       "      <td>-0.557781</td>\n",
       "      <td>-0.375764</td>\n",
       "      <td>-0.357962</td>\n",
       "      <td>1.352182</td>\n",
       "      <td>0.436293</td>\n",
       "      <td>0.551127</td>\n",
       "      <td>-1.591510</td>\n",
       "      <td>-1.718455</td>\n",
       "      <td>-1.689396</td>\n",
       "      <td>0.50669</td>\n",
       "    </tr>\n",
       "  </tbody>\n",
       "</table>\n",
       "<p>5 rows × 311 columns</p>\n",
       "</div>"
      ],
      "text/plain": [
       "          AGER_TYP  AKT_DAT_KL  ALTER_HH  ALTERSKATEGORIE_FEIN  \\\n",
       "LNR                                                              \n",
       "910225.0 -0.572573    1.222088  0.835070              0.684332   \n",
       "910226.0  1.851919   -0.959254  0.309388             -0.202169   \n",
       "910244.0  2.660083   -0.959254 -0.084874             -0.867045   \n",
       "910248.0 -0.572573    1.222088 -1.399080              0.241081   \n",
       "910261.0 -0.572573   -0.959254  0.440808              0.019456   \n",
       "\n",
       "          ANZ_HAUSHALTE_AKTIV  ANZ_HH_TITEL  ANZ_KINDER  ANZ_PERSONEN  \\\n",
       "LNR                                                                     \n",
       "910225.0             0.242362     -0.147496   -0.295067     -0.611189   \n",
       "910226.0            -0.628346     -0.147496   -0.295067     -1.523856   \n",
       "910244.0            -0.241365     -0.147496   -0.295067     -0.611189   \n",
       "910248.0            -0.338110     -0.147496   -0.295067     -0.611189   \n",
       "910261.0            -0.144619     -0.147496   -0.295067     -0.611189   \n",
       "\n",
       "          ANZ_TITEL    ARBEIT      ...        VERS_TYP       VHA       VHN  \\\n",
       "LNR                                ...                                       \n",
       "910225.0        0.0 -0.178999      ...       -0.557781 -0.375764 -0.357962   \n",
       "910226.0        0.0 -1.183259      ...       -0.557781  0.517486 -2.098319   \n",
       "910244.0        0.0 -1.183259      ...        0.825610 -0.375764 -0.357962   \n",
       "910248.0        0.0  0.825261      ...       -0.557781 -0.375764 -0.357962   \n",
       "910261.0        0.0 -1.183259      ...       -0.557781 -0.375764 -0.357962   \n",
       "\n",
       "          VK_DHT4A  W_KEIT_KIND_HH  WOHNDAUER_2008  WOHNLAGE  ZABEOTYP  \\\n",
       "LNR                                                                      \n",
       "910225.0  0.996437       -0.626223        0.551127 -1.067185  1.130249   \n",
       "910226.0  0.284947        0.967550        0.551127  1.554442 -0.294103   \n",
       "910244.0  1.352182        0.967550        0.551127  1.554442  0.418073   \n",
       "910248.0  0.284947       -0.626223        0.551127  0.505791  0.418073   \n",
       "910261.0  1.352182        0.436293        0.551127 -1.591510 -1.718455   \n",
       "\n",
       "          ALTERSKATEGORIE_GROB  OST_WEST_KZ_W  \n",
       "LNR                                            \n",
       "910225.0              0.162732        0.50669  \n",
       "910226.0              1.088797        0.50669  \n",
       "910244.0             -1.689396        0.50669  \n",
       "910248.0             -0.763332        0.50669  \n",
       "910261.0             -1.689396        0.50669  \n",
       "\n",
       "[5 rows x 311 columns]"
      ]
     },
     "execution_count": 129,
     "metadata": {},
     "output_type": "execute_result"
    }
   ],
   "source": [
    "azdias_clean.head()"
   ]
  },
  {
   "cell_type": "markdown",
   "metadata": {},
   "source": [
    "### 0.10. Create ETL pipline"
   ]
  },
  {
   "cell_type": "markdown",
   "metadata": {},
   "source": [
    "We create ETL pipline that includes all the steps above. These steps are removing most of the null values, converting categegorical columns to encoded, removing outliers then scaling the dataset."
   ]
  },
  {
   "cell_type": "code",
   "execution_count": 66,
   "metadata": {},
   "outputs": [],
   "source": [
    "def data_preprocessing (df, df_name = None):\n",
    "    \"\"\"\n",
    "    Perform cleaning of demographics dataset by dropping missing columns and rows, reencoding, \n",
    "    completing missing values, and dropping correlated features\n",
    "    \n",
    "    Input: \n",
    "    df: Demographic dataset (DataFrame)\n",
    "    df_name: Name of dataframe (str)\n",
    "    \n",
    "    Output:\n",
    "    df_clean: Cleaned dataset (DataFrame)\n",
    "    \"\"\"\n",
    "    # Get copy of df\n",
    "    df_clean=df.copy()\n",
    "    \n",
    "    # Drop columns from customer dataset, which are not found in azdias dataset \n",
    "    if df_name=='customers':\n",
    "        df_clean.drop(columns= ['CUSTOMER_GROUP', 'ONLINE_PURCHASE', 'PRODUCT_GROUP'], inplace=True)\n",
    "        \n",
    "    # Drop columns which involve too many missing values\n",
    "    df_clean.drop(columns= ['ALTER_KIND1', 'ALTER_KIND2', 'ALTER_KIND3', 'ALTER_KIND4', 'EXTSEL992','KK_KUNDENTYP'], \n",
    "                  inplace=True)\n",
    "    \n",
    "    # Find the rows that include too many missing values and drop them if ratio of missing values more than 0.5\n",
    "    df_row_nan_mean=df_clean.isnull().mean(axis=1)\n",
    "    rows_to_drop=df_row_nan_mean[df_row_nan_mean>0.5].index\n",
    "    df_clean.drop(rows_to_drop, inplace=True)\n",
    "    \n",
    "    # Remove the columns which involve too many features\n",
    "    df_clean.drop(columns=[\"CAMEO_DEU_2015\", \"CAMEO_INTL_2015\", \"D19_LETZTER_KAUF_BRANCHE\"], inplace=True)\n",
    "    \n",
    "    # Change dtype of EINGEFUEGT_AM column from object to datetime and extract only year\n",
    "    df_clean[\"EINGEFUEGT_AM\"]=pd.to_datetime(df_clean[\"EINGEFUEGT_AM\"])\n",
    "    df_clean[\"EINGEFUEGT_AM\"]=pd.DatetimeIndex(df_clean[\"EINGEFUEGT_AM\"]).year\n",
    "    \n",
    "    # Convert categorical column to encoded\n",
    "    df_clean[\"CAMEO_DEUG_2015\"]=pd.factorize(df_clean[\"CAMEO_DEUG_2015\"])[0]\n",
    "    \n",
    "    # Convert categorical column to encoded\n",
    "    df_clean=pd.get_dummies(df_clean, drop_first=True)\n",
    "        \n",
    "    # Impute missing values with mode value\n",
    "    imputer = Imputer(strategy='most_frequent')\n",
    "    df_clean=pd.DataFrame(imputer.fit_transform(df_clean), columns = df_clean.columns)\n",
    "    \n",
    "    # Identify and remove 45 correlated features\n",
    "    \n",
    "    df_clean.drop(columns=['ANZ_STATISTISCHE_HAUSHALTE', 'CJT_TYP_2', 'D19_BANKEN_ONLINE_DATUM', 'D19_BANKEN_ONLINE_QUOTE_12',\n",
    "    'D19_GESAMT_ANZ_24', 'D19_GESAMT_DATUM', 'D19_GESAMT_ONLINE_DATUM', 'D19_GESAMT_ONLINE_QUOTE_12',\n",
    "    'D19_KONSUMTYP_MAX', 'D19_VERSAND_ANZ_12', 'D19_VERSAND_ANZ_24', 'D19_VERSAND_DATUM', 'D19_VERSAND_ONLINE_DATUM',\n",
    "    'D19_VERSAND_ONLINE_QUOTE_12', 'KBA05_KRSAQUOT', 'KBA05_KRSHERST1', 'KBA05_KRSHERST2', 'KBA05_KRSHERST3',\n",
    "    'KBA05_SEG2', 'KBA05_SEG5', 'KBA05_SEG6', 'KBA05_SEG9', 'KBA05_ZUL4', 'KBA13_HALTER_40', 'KBA13_HALTER_55',\n",
    "    'KBA13_HALTER_66', 'KBA13_HERST_SONST', 'KBA13_KMH_250', 'KBA13_SITZE_5', 'KBA13_VW', 'LP_FAMILIE_GROB',\n",
    "    'LP_LEBENSPHASE_FEIN', 'LP_LEBENSPHASE_GROB', 'LP_STATUS_GROB', 'MIN_GEBAEUDEJAHR', 'ORTSGR_KLS9', 'PLZ8_ANTG1',\n",
    "    'PLZ8_ANTG3', 'PLZ8_ANTG4', 'PLZ8_BAUMAX', 'PLZ8_GBZ', 'PLZ8_HHZ', 'VK_DISTANZ', 'VK_ZG11', 'ANREDE_KZ'], inplace=True)\n",
    "    \n",
    "    # Remove outliers from dataset by using z score\n",
    "    z = np.abs(stats.zscore(df_clean))\n",
    "    df_clean = df_clean[(z < 6).all(axis=1)]\n",
    "    df_clean.reset_index(drop=True, inplace=True)\n",
    "\n",
    "    # Standardization of dataset\n",
    "    lnr=df_clean['LNR']\n",
    "    scaler = StandardScaler()\n",
    "    df_clean=pd.DataFrame(scaler.fit_transform(df_clean), columns = df_clean.columns)\n",
    "    df_clean['LNR']=lnr\n",
    "   \n",
    "    # set index LNR column\n",
    "    df_clean.set_index(\"LNR\", inplace=True)\n",
    "\n",
    "    return df_clean\n"
   ]
  },
  {
   "cell_type": "markdown",
   "metadata": {},
   "source": [
    "Lets apply the function to customer dataset"
   ]
  },
  {
   "cell_type": "code",
   "execution_count": 67,
   "metadata": {},
   "outputs": [],
   "source": [
    "customer_clean = data_preprocessing (customers, df_name = \"customers\")"
   ]
  },
  {
   "cell_type": "code",
   "execution_count": 68,
   "metadata": {},
   "outputs": [
    {
     "data": {
      "text/plain": [
       "(121955, 311)"
      ]
     },
     "execution_count": 68,
     "metadata": {},
     "output_type": "execute_result"
    }
   ],
   "source": [
    "customer_clean.shape"
   ]
  },
  {
   "cell_type": "code",
   "execution_count": 131,
   "metadata": {},
   "outputs": [
    {
     "data": {
      "text/html": [
       "<div>\n",
       "<style scoped>\n",
       "    .dataframe tbody tr th:only-of-type {\n",
       "        vertical-align: middle;\n",
       "    }\n",
       "\n",
       "    .dataframe tbody tr th {\n",
       "        vertical-align: top;\n",
       "    }\n",
       "\n",
       "    .dataframe thead th {\n",
       "        text-align: right;\n",
       "    }\n",
       "</style>\n",
       "<table border=\"1\" class=\"dataframe\">\n",
       "  <thead>\n",
       "    <tr style=\"text-align: right;\">\n",
       "      <th></th>\n",
       "      <th>AGER_TYP</th>\n",
       "      <th>AKT_DAT_KL</th>\n",
       "      <th>ALTER_HH</th>\n",
       "      <th>ALTERSKATEGORIE_FEIN</th>\n",
       "      <th>ANZ_HAUSHALTE_AKTIV</th>\n",
       "      <th>ANZ_HH_TITEL</th>\n",
       "      <th>ANZ_KINDER</th>\n",
       "      <th>ANZ_PERSONEN</th>\n",
       "      <th>ANZ_TITEL</th>\n",
       "      <th>ARBEIT</th>\n",
       "      <th>...</th>\n",
       "      <th>VERS_TYP</th>\n",
       "      <th>VHA</th>\n",
       "      <th>VHN</th>\n",
       "      <th>VK_DHT4A</th>\n",
       "      <th>W_KEIT_KIND_HH</th>\n",
       "      <th>WOHNDAUER_2008</th>\n",
       "      <th>WOHNLAGE</th>\n",
       "      <th>ZABEOTYP</th>\n",
       "      <th>ALTERSKATEGORIE_GROB</th>\n",
       "      <th>OST_WEST_KZ_W</th>\n",
       "    </tr>\n",
       "    <tr>\n",
       "      <th>LNR</th>\n",
       "      <th></th>\n",
       "      <th></th>\n",
       "      <th></th>\n",
       "      <th></th>\n",
       "      <th></th>\n",
       "      <th></th>\n",
       "      <th></th>\n",
       "      <th></th>\n",
       "      <th></th>\n",
       "      <th></th>\n",
       "      <th></th>\n",
       "      <th></th>\n",
       "      <th></th>\n",
       "      <th></th>\n",
       "      <th></th>\n",
       "      <th></th>\n",
       "      <th></th>\n",
       "      <th></th>\n",
       "      <th></th>\n",
       "      <th></th>\n",
       "      <th></th>\n",
       "    </tr>\n",
       "  </thead>\n",
       "  <tbody>\n",
       "    <tr>\n",
       "      <th>9626.0</th>\n",
       "      <td>0.915373</td>\n",
       "      <td>-0.370541</td>\n",
       "      <td>-0.190000</td>\n",
       "      <td>-0.059776</td>\n",
       "      <td>-0.412169</td>\n",
       "      <td>-0.136245</td>\n",
       "      <td>-0.270606</td>\n",
       "      <td>-0.152386</td>\n",
       "      <td>0.0</td>\n",
       "      <td>-1.818756</td>\n",
       "      <td>...</td>\n",
       "      <td>-0.819812</td>\n",
       "      <td>-0.654783</td>\n",
       "      <td>0.510790</td>\n",
       "      <td>0.187028</td>\n",
       "      <td>0.848655</td>\n",
       "      <td>0.28177</td>\n",
       "      <td>1.582809</td>\n",
       "      <td>0.449888</td>\n",
       "      <td>0.691006</td>\n",
       "      <td>0.288339</td>\n",
       "    </tr>\n",
       "    <tr>\n",
       "      <th>143872.0</th>\n",
       "      <td>-1.356372</td>\n",
       "      <td>-0.370541</td>\n",
       "      <td>-0.835552</td>\n",
       "      <td>-2.540954</td>\n",
       "      <td>-0.412169</td>\n",
       "      <td>-0.136245</td>\n",
       "      <td>-0.270606</td>\n",
       "      <td>-0.893326</td>\n",
       "      <td>0.0</td>\n",
       "      <td>0.170530</td>\n",
       "      <td>...</td>\n",
       "      <td>0.942325</td>\n",
       "      <td>-0.654783</td>\n",
       "      <td>1.392021</td>\n",
       "      <td>1.887010</td>\n",
       "      <td>0.848655</td>\n",
       "      <td>0.28177</td>\n",
       "      <td>-0.830905</td>\n",
       "      <td>0.449888</td>\n",
       "      <td>0.691006</td>\n",
       "      <td>0.288339</td>\n",
       "    </tr>\n",
       "    <tr>\n",
       "      <th>143873.0</th>\n",
       "      <td>0.158125</td>\n",
       "      <td>-0.370541</td>\n",
       "      <td>-0.512776</td>\n",
       "      <td>-0.556011</td>\n",
       "      <td>-0.541721</td>\n",
       "      <td>-0.136245</td>\n",
       "      <td>-0.270606</td>\n",
       "      <td>-1.634266</td>\n",
       "      <td>0.0</td>\n",
       "      <td>-1.818756</td>\n",
       "      <td>...</td>\n",
       "      <td>-0.819812</td>\n",
       "      <td>-0.654783</td>\n",
       "      <td>-0.370442</td>\n",
       "      <td>0.527024</td>\n",
       "      <td>0.848655</td>\n",
       "      <td>0.28177</td>\n",
       "      <td>1.582809</td>\n",
       "      <td>-1.089565</td>\n",
       "      <td>0.691006</td>\n",
       "      <td>0.288339</td>\n",
       "    </tr>\n",
       "    <tr>\n",
       "      <th>143874.0</th>\n",
       "      <td>-1.356372</td>\n",
       "      <td>-0.370541</td>\n",
       "      <td>1.423880</td>\n",
       "      <td>0.932696</td>\n",
       "      <td>0.365142</td>\n",
       "      <td>-0.136245</td>\n",
       "      <td>-0.270606</td>\n",
       "      <td>1.329494</td>\n",
       "      <td>0.0</td>\n",
       "      <td>0.170530</td>\n",
       "      <td>...</td>\n",
       "      <td>0.942325</td>\n",
       "      <td>-0.654783</td>\n",
       "      <td>1.392021</td>\n",
       "      <td>-0.492965</td>\n",
       "      <td>-1.283352</td>\n",
       "      <td>0.28177</td>\n",
       "      <td>-0.348162</td>\n",
       "      <td>-1.089565</td>\n",
       "      <td>-0.714950</td>\n",
       "      <td>0.288339</td>\n",
       "    </tr>\n",
       "    <tr>\n",
       "      <th>143888.0</th>\n",
       "      <td>0.158125</td>\n",
       "      <td>-0.370541</td>\n",
       "      <td>-0.028612</td>\n",
       "      <td>-0.059776</td>\n",
       "      <td>-0.412169</td>\n",
       "      <td>-0.136245</td>\n",
       "      <td>-0.270606</td>\n",
       "      <td>-0.152386</td>\n",
       "      <td>0.0</td>\n",
       "      <td>0.170530</td>\n",
       "      <td>...</td>\n",
       "      <td>0.942325</td>\n",
       "      <td>3.160434</td>\n",
       "      <td>1.392021</td>\n",
       "      <td>-1.172957</td>\n",
       "      <td>0.848655</td>\n",
       "      <td>0.28177</td>\n",
       "      <td>-1.313648</td>\n",
       "      <td>-0.319838</td>\n",
       "      <td>-0.714950</td>\n",
       "      <td>0.288339</td>\n",
       "    </tr>\n",
       "  </tbody>\n",
       "</table>\n",
       "<p>5 rows × 311 columns</p>\n",
       "</div>"
      ],
      "text/plain": [
       "          AGER_TYP  AKT_DAT_KL  ALTER_HH  ALTERSKATEGORIE_FEIN  \\\n",
       "LNR                                                              \n",
       "9626.0    0.915373   -0.370541 -0.190000             -0.059776   \n",
       "143872.0 -1.356372   -0.370541 -0.835552             -2.540954   \n",
       "143873.0  0.158125   -0.370541 -0.512776             -0.556011   \n",
       "143874.0 -1.356372   -0.370541  1.423880              0.932696   \n",
       "143888.0  0.158125   -0.370541 -0.028612             -0.059776   \n",
       "\n",
       "          ANZ_HAUSHALTE_AKTIV  ANZ_HH_TITEL  ANZ_KINDER  ANZ_PERSONEN  \\\n",
       "LNR                                                                     \n",
       "9626.0              -0.412169     -0.136245   -0.270606     -0.152386   \n",
       "143872.0            -0.412169     -0.136245   -0.270606     -0.893326   \n",
       "143873.0            -0.541721     -0.136245   -0.270606     -1.634266   \n",
       "143874.0             0.365142     -0.136245   -0.270606      1.329494   \n",
       "143888.0            -0.412169     -0.136245   -0.270606     -0.152386   \n",
       "\n",
       "          ANZ_TITEL    ARBEIT      ...        VERS_TYP       VHA       VHN  \\\n",
       "LNR                                ...                                       \n",
       "9626.0          0.0 -1.818756      ...       -0.819812 -0.654783  0.510790   \n",
       "143872.0        0.0  0.170530      ...        0.942325 -0.654783  1.392021   \n",
       "143873.0        0.0 -1.818756      ...       -0.819812 -0.654783 -0.370442   \n",
       "143874.0        0.0  0.170530      ...        0.942325 -0.654783  1.392021   \n",
       "143888.0        0.0  0.170530      ...        0.942325  3.160434  1.392021   \n",
       "\n",
       "          VK_DHT4A  W_KEIT_KIND_HH  WOHNDAUER_2008  WOHNLAGE  ZABEOTYP  \\\n",
       "LNR                                                                      \n",
       "9626.0    0.187028        0.848655         0.28177  1.582809  0.449888   \n",
       "143872.0  1.887010        0.848655         0.28177 -0.830905  0.449888   \n",
       "143873.0  0.527024        0.848655         0.28177  1.582809 -1.089565   \n",
       "143874.0 -0.492965       -1.283352         0.28177 -0.348162 -1.089565   \n",
       "143888.0 -1.172957        0.848655         0.28177 -1.313648 -0.319838   \n",
       "\n",
       "          ALTERSKATEGORIE_GROB  OST_WEST_KZ_W  \n",
       "LNR                                            \n",
       "9626.0                0.691006       0.288339  \n",
       "143872.0              0.691006       0.288339  \n",
       "143873.0              0.691006       0.288339  \n",
       "143874.0             -0.714950       0.288339  \n",
       "143888.0             -0.714950       0.288339  \n",
       "\n",
       "[5 rows x 311 columns]"
      ]
     },
     "execution_count": 131,
     "metadata": {},
     "output_type": "execute_result"
    }
   ],
   "source": [
    "customer_clean.head()"
   ]
  },
  {
   "cell_type": "markdown",
   "metadata": {},
   "source": [
    "customer_clean and azdias clean dataframes have same columns."
   ]
  },
  {
   "cell_type": "code",
   "execution_count": 9,
   "metadata": {},
   "outputs": [],
   "source": [
    "azdias_clean = data_preprocessing (azdias, df_name = \"azdias\")"
   ]
  },
  {
   "cell_type": "code",
   "execution_count": 10,
   "metadata": {},
   "outputs": [
    {
     "data": {
      "text/plain": [
       "(688741, 311)"
      ]
     },
     "execution_count": 10,
     "metadata": {},
     "output_type": "execute_result"
    }
   ],
   "source": [
    "azdias_clean.shape"
   ]
  },
  {
   "cell_type": "code",
   "execution_count": 57,
   "metadata": {},
   "outputs": [
    {
     "data": {
      "text/html": [
       "<div>\n",
       "<style scoped>\n",
       "    .dataframe tbody tr th:only-of-type {\n",
       "        vertical-align: middle;\n",
       "    }\n",
       "\n",
       "    .dataframe tbody tr th {\n",
       "        vertical-align: top;\n",
       "    }\n",
       "\n",
       "    .dataframe thead th {\n",
       "        text-align: right;\n",
       "    }\n",
       "</style>\n",
       "<table border=\"1\" class=\"dataframe\">\n",
       "  <thead>\n",
       "    <tr style=\"text-align: right;\">\n",
       "      <th></th>\n",
       "      <th>AGER_TYP</th>\n",
       "      <th>AKT_DAT_KL</th>\n",
       "      <th>ALTER_HH</th>\n",
       "      <th>ALTERSKATEGORIE_FEIN</th>\n",
       "      <th>ANZ_HAUSHALTE_AKTIV</th>\n",
       "      <th>ANZ_HH_TITEL</th>\n",
       "      <th>ANZ_KINDER</th>\n",
       "      <th>ANZ_PERSONEN</th>\n",
       "      <th>ANZ_TITEL</th>\n",
       "      <th>ARBEIT</th>\n",
       "      <th>...</th>\n",
       "      <th>VERS_TYP</th>\n",
       "      <th>VHA</th>\n",
       "      <th>VHN</th>\n",
       "      <th>VK_DHT4A</th>\n",
       "      <th>W_KEIT_KIND_HH</th>\n",
       "      <th>WOHNDAUER_2008</th>\n",
       "      <th>WOHNLAGE</th>\n",
       "      <th>ZABEOTYP</th>\n",
       "      <th>ALTERSKATEGORIE_GROB</th>\n",
       "      <th>OST_WEST_KZ_W</th>\n",
       "    </tr>\n",
       "    <tr>\n",
       "      <th>LNR</th>\n",
       "      <th></th>\n",
       "      <th></th>\n",
       "      <th></th>\n",
       "      <th></th>\n",
       "      <th></th>\n",
       "      <th></th>\n",
       "      <th></th>\n",
       "      <th></th>\n",
       "      <th></th>\n",
       "      <th></th>\n",
       "      <th></th>\n",
       "      <th></th>\n",
       "      <th></th>\n",
       "      <th></th>\n",
       "      <th></th>\n",
       "      <th></th>\n",
       "      <th></th>\n",
       "      <th></th>\n",
       "      <th></th>\n",
       "      <th></th>\n",
       "      <th></th>\n",
       "    </tr>\n",
       "  </thead>\n",
       "  <tbody>\n",
       "    <tr>\n",
       "      <th>NaN</th>\n",
       "      <td>-0.572580</td>\n",
       "      <td>1.222098</td>\n",
       "      <td>0.835052</td>\n",
       "      <td>0.684323</td>\n",
       "      <td>0.242382</td>\n",
       "      <td>-0.147493</td>\n",
       "      <td>-0.295068</td>\n",
       "      <td>-0.611188</td>\n",
       "      <td>0.0</td>\n",
       "      <td>-0.178981</td>\n",
       "      <td>...</td>\n",
       "      <td>-0.557780</td>\n",
       "      <td>-0.375764</td>\n",
       "      <td>-0.357962</td>\n",
       "      <td>0.996448</td>\n",
       "      <td>-0.626228</td>\n",
       "      <td>0.551158</td>\n",
       "      <td>-1.067186</td>\n",
       "      <td>1.130244</td>\n",
       "      <td>0.162719</td>\n",
       "      <td>0.506686</td>\n",
       "    </tr>\n",
       "    <tr>\n",
       "      <th>910225.0</th>\n",
       "      <td>1.851903</td>\n",
       "      <td>-0.959256</td>\n",
       "      <td>0.309366</td>\n",
       "      <td>-0.202173</td>\n",
       "      <td>-0.628336</td>\n",
       "      <td>-0.147493</td>\n",
       "      <td>-0.295068</td>\n",
       "      <td>-1.523867</td>\n",
       "      <td>0.0</td>\n",
       "      <td>-1.183232</td>\n",
       "      <td>...</td>\n",
       "      <td>-0.557780</td>\n",
       "      <td>0.517492</td>\n",
       "      <td>-2.098315</td>\n",
       "      <td>0.284958</td>\n",
       "      <td>0.967544</td>\n",
       "      <td>0.551158</td>\n",
       "      <td>1.554406</td>\n",
       "      <td>-0.294099</td>\n",
       "      <td>1.088764</td>\n",
       "      <td>0.506686</td>\n",
       "    </tr>\n",
       "    <tr>\n",
       "      <th>910226.0</th>\n",
       "      <td>2.660064</td>\n",
       "      <td>-0.959256</td>\n",
       "      <td>-0.084899</td>\n",
       "      <td>-0.867044</td>\n",
       "      <td>-0.241350</td>\n",
       "      <td>-0.147493</td>\n",
       "      <td>-0.295068</td>\n",
       "      <td>-0.611188</td>\n",
       "      <td>0.0</td>\n",
       "      <td>-1.183232</td>\n",
       "      <td>...</td>\n",
       "      <td>0.825615</td>\n",
       "      <td>-0.375764</td>\n",
       "      <td>-0.357962</td>\n",
       "      <td>1.352193</td>\n",
       "      <td>0.967544</td>\n",
       "      <td>0.551158</td>\n",
       "      <td>1.554406</td>\n",
       "      <td>0.418073</td>\n",
       "      <td>-1.689372</td>\n",
       "      <td>0.506686</td>\n",
       "    </tr>\n",
       "    <tr>\n",
       "      <th>NaN</th>\n",
       "      <td>-0.572580</td>\n",
       "      <td>1.222098</td>\n",
       "      <td>-1.399114</td>\n",
       "      <td>0.241075</td>\n",
       "      <td>-0.338097</td>\n",
       "      <td>-0.147493</td>\n",
       "      <td>-0.295068</td>\n",
       "      <td>-0.611188</td>\n",
       "      <td>0.0</td>\n",
       "      <td>0.825269</td>\n",
       "      <td>...</td>\n",
       "      <td>-0.557780</td>\n",
       "      <td>-0.375764</td>\n",
       "      <td>-0.357962</td>\n",
       "      <td>0.284958</td>\n",
       "      <td>-0.626228</td>\n",
       "      <td>0.551158</td>\n",
       "      <td>0.505769</td>\n",
       "      <td>0.418073</td>\n",
       "      <td>-0.763327</td>\n",
       "      <td>0.506686</td>\n",
       "    </tr>\n",
       "    <tr>\n",
       "      <th>910244.0</th>\n",
       "      <td>-0.572580</td>\n",
       "      <td>-0.959256</td>\n",
       "      <td>0.440787</td>\n",
       "      <td>0.019451</td>\n",
       "      <td>-0.144604</td>\n",
       "      <td>-0.147493</td>\n",
       "      <td>-0.295068</td>\n",
       "      <td>-0.611188</td>\n",
       "      <td>0.0</td>\n",
       "      <td>-1.183232</td>\n",
       "      <td>...</td>\n",
       "      <td>-0.557780</td>\n",
       "      <td>-0.375764</td>\n",
       "      <td>-0.357962</td>\n",
       "      <td>1.352193</td>\n",
       "      <td>0.436287</td>\n",
       "      <td>0.551158</td>\n",
       "      <td>-1.591505</td>\n",
       "      <td>-1.718442</td>\n",
       "      <td>-1.689372</td>\n",
       "      <td>0.506686</td>\n",
       "    </tr>\n",
       "  </tbody>\n",
       "</table>\n",
       "<p>5 rows × 311 columns</p>\n",
       "</div>"
      ],
      "text/plain": [
       "           AGER_TYP  AKT_DAT_KL  ALTER_HH  ALTERSKATEGORIE_FEIN  \\\n",
       "LNR                                                               \n",
       "NaN       -0.572580    1.222098  0.835052              0.684323   \n",
       " 910225.0  1.851903   -0.959256  0.309366             -0.202173   \n",
       " 910226.0  2.660064   -0.959256 -0.084899             -0.867044   \n",
       "NaN       -0.572580    1.222098 -1.399114              0.241075   \n",
       " 910244.0 -0.572580   -0.959256  0.440787              0.019451   \n",
       "\n",
       "           ANZ_HAUSHALTE_AKTIV  ANZ_HH_TITEL  ANZ_KINDER  ANZ_PERSONEN  \\\n",
       "LNR                                                                      \n",
       "NaN                   0.242382     -0.147493   -0.295068     -0.611188   \n",
       " 910225.0            -0.628336     -0.147493   -0.295068     -1.523867   \n",
       " 910226.0            -0.241350     -0.147493   -0.295068     -0.611188   \n",
       "NaN                  -0.338097     -0.147493   -0.295068     -0.611188   \n",
       " 910244.0            -0.144604     -0.147493   -0.295068     -0.611188   \n",
       "\n",
       "           ANZ_TITEL    ARBEIT      ...        VERS_TYP       VHA       VHN  \\\n",
       "LNR                                 ...                                       \n",
       "NaN              0.0 -0.178981      ...       -0.557780 -0.375764 -0.357962   \n",
       " 910225.0        0.0 -1.183232      ...       -0.557780  0.517492 -2.098315   \n",
       " 910226.0        0.0 -1.183232      ...        0.825615 -0.375764 -0.357962   \n",
       "NaN              0.0  0.825269      ...       -0.557780 -0.375764 -0.357962   \n",
       " 910244.0        0.0 -1.183232      ...       -0.557780 -0.375764 -0.357962   \n",
       "\n",
       "           VK_DHT4A  W_KEIT_KIND_HH  WOHNDAUER_2008  WOHNLAGE  ZABEOTYP  \\\n",
       "LNR                                                                       \n",
       "NaN        0.996448       -0.626228        0.551158 -1.067186  1.130244   \n",
       " 910225.0  0.284958        0.967544        0.551158  1.554406 -0.294099   \n",
       " 910226.0  1.352193        0.967544        0.551158  1.554406  0.418073   \n",
       "NaN        0.284958       -0.626228        0.551158  0.505769  0.418073   \n",
       " 910244.0  1.352193        0.436287        0.551158 -1.591505 -1.718442   \n",
       "\n",
       "           ALTERSKATEGORIE_GROB  OST_WEST_KZ_W  \n",
       "LNR                                             \n",
       "NaN                    0.162719       0.506686  \n",
       " 910225.0              1.088764       0.506686  \n",
       " 910226.0             -1.689372       0.506686  \n",
       "NaN                   -0.763327       0.506686  \n",
       " 910244.0             -1.689372       0.506686  \n",
       "\n",
       "[5 rows x 311 columns]"
      ]
     },
     "execution_count": 57,
     "metadata": {},
     "output_type": "execute_result"
    }
   ],
   "source": [
    "azdias_clean.head()"
   ]
  },
  {
   "cell_type": "markdown",
   "metadata": {},
   "source": [
    "## Part 1: Customer Segmentation Report\n",
    "\n",
    "The main bulk of your analysis will come in this part of the project. Here, you should use unsupervised learning techniques to describe the relationship between the demographics of the company's existing customers and the general population of Germany. By the end of this part, you should be able to describe parts of the general population that are more likely to be part of the mail-order company's main customer base, and which parts of the general population are less so."
   ]
  },
  {
   "cell_type": "markdown",
   "metadata": {},
   "source": [
    "### 1.1. Reduction of dimensionality "
   ]
  },
  {
   "cell_type": "markdown",
   "metadata": {},
   "source": [
    "Use Principal component analysis from (PCA) from sklearn."
   ]
  },
  {
   "cell_type": "code",
   "execution_count": 15,
   "metadata": {},
   "outputs": [],
   "source": [
    "pca = PCA().fit(azdias_clean)"
   ]
  },
  {
   "cell_type": "code",
   "execution_count": 16,
   "metadata": {},
   "outputs": [
    {
     "data": {
      "image/png": "[encoded data removed]",
      "text/plain": [
       "<matplotlib.figure.Figure at 0x7f647555aa58>"
      ]
     },
     "metadata": {
      "needs_background": "light"
     },
     "output_type": "display_data"
    }
   ],
   "source": [
    "plt.figure(figsize=(20,10))\n",
    "plt.plot(np.cumsum(pca.explained_variance_ratio_))\n",
    "plt.xlabel('number of components')\n",
    "plt.ylabel('cumulative explained variance ratio')\n",
    "\n",
    "plt.axhline(y=0.95, color='r')\n",
    "plt.text(0.5, 0.9, '95% threshold', color = 'red', fontsize=16)\n",
    "\n",
    "plt.grid(axis='x')\n"
   ]
  },
  {
   "cell_type": "markdown",
   "metadata": {},
   "source": [
    "According the graph above, number of component for 95% threshold is around 215."
   ]
  },
  {
   "cell_type": "markdown",
   "metadata": {},
   "source": [
    "#### 1.1.1. Dimension reduction function"
   ]
  },
  {
   "cell_type": "code",
   "execution_count": 11,
   "metadata": {},
   "outputs": [],
   "source": [
    "def pca_reduction(df, n_components):\n",
    "    \"\"\"\n",
    "    Perform PCA dimension reduction to dataset\n",
    "    \n",
    "    Input: \n",
    "    df: Demographic dataset (DataFrame)\n",
    "    n_components: Number of components for PCA\n",
    "    \n",
    "    Output:\n",
    "    df_reduced: PCA applied dataset (DataFrame)\n",
    "    pca: PCA object\n",
    "    \"\"\"\n",
    "    # PCA\n",
    "    pca = PCA(n_components=n_components)\n",
    "    # fit and transform of PCA\n",
    "    df_reduced = pd.DataFrame(pca.fit_transform(df), columns=[\"PC\"+str(i) for i in range(n_components)])\n",
    "    \n",
    "    return df_reduced, pca"
   ]
  },
  {
   "cell_type": "code",
   "execution_count": 12,
   "metadata": {},
   "outputs": [],
   "source": [
    "azdias_reduced, azdias_pca = pca_reduction(azdias_clean, 215)"
   ]
  },
  {
   "cell_type": "code",
   "execution_count": 13,
   "metadata": {},
   "outputs": [
    {
     "data": {
      "text/plain": [
       "(688741, 215)"
      ]
     },
     "execution_count": 13,
     "metadata": {},
     "output_type": "execute_result"
    }
   ],
   "source": [
    "azdias_reduced.shape"
   ]
  },
  {
   "cell_type": "code",
   "execution_count": 14,
   "metadata": {},
   "outputs": [],
   "source": [
    "customer_reduced, customer_pca = pca_reduction(customer_clean, 215)"
   ]
  },
  {
   "cell_type": "code",
   "execution_count": 15,
   "metadata": {},
   "outputs": [
    {
     "data": {
      "text/plain": [
       "(121955, 215)"
      ]
     },
     "execution_count": 15,
     "metadata": {},
     "output_type": "execute_result"
    }
   ],
   "source": [
    "customer_reduced.shape"
   ]
  },
  {
   "cell_type": "markdown",
   "metadata": {},
   "source": [
    "#### 1.1.2. PCA plot function"
   ]
  },
  {
   "cell_type": "code",
   "execution_count": 16,
   "metadata": {},
   "outputs": [],
   "source": [
    "def pca_plot(pca, threshold=0.95):\n",
    "\n",
    "    \"\"\"\n",
    "    Perform cumulative sum of PCA explained_variance_ratio_ then plot\n",
    "    cumulative explained variance ratio vs number of components\n",
    "    \n",
    "    Input: \n",
    "    pca: PCA object\n",
    "    threshold: threshold for cumulative explained variance ratio (int, default=0.95)\n",
    "    \n",
    "    Output:\n",
    "    return None\n",
    "    \"\"\"\n",
    "    \n",
    "    plt.figure(figsize=(16,8))\n",
    "    plt.plot(np.cumsum(pca.explained_variance_ratio_))\n",
    "    plt.xlabel('number of components')\n",
    "    plt.ylabel('cumulative explained variance ratio')\n",
    "\n",
    "    plt.axhline(y=threshold, color='r')\n",
    "    plt.text(0.5, threshold-0.05, str(threshold*100)+'% threshold', color = 'red', fontsize=16)\n",
    "\n",
    "    plt.grid(axis='x')"
   ]
  },
  {
   "cell_type": "code",
   "execution_count": 17,
   "metadata": {},
   "outputs": [
    {
     "data": {
      "image/png": "[encoded data removed]",
      "text/plain": [
       "<matplotlib.figure.Figure at 0x7f6358f24a58>"
      ]
     },
     "metadata": {
      "needs_background": "light"
     },
     "output_type": "display_data"
    }
   ],
   "source": [
    "pca_plot(azdias_pca)"
   ]
  },
  {
   "cell_type": "code",
   "execution_count": 18,
   "metadata": {},
   "outputs": [
    {
     "data": {
      "image/png": "[encoded data removed]",
      "text/plain": [
       "<matplotlib.figure.Figure at 0x7f63583f8240>"
      ]
     },
     "metadata": {
      "needs_background": "light"
     },
     "output_type": "display_data"
    }
   ],
   "source": [
    "pca_plot(customer_pca)"
   ]
  },
  {
   "cell_type": "markdown",
   "metadata": {},
   "source": [
    "By using the plots above, we can see that our dimensions are enough for the threshold which 95%."
   ]
  },
  {
   "cell_type": "markdown",
   "metadata": {},
   "source": [
    "#### 1.1.3. PCA feature importance"
   ]
  },
  {
   "cell_type": "markdown",
   "metadata": {},
   "source": [
    "PCA is also important to determine the feature importance. I prepared functions. One of them creates a matrix which shows feature weights for each principal components. \n",
    "<br>In the final dataframe, principal components are sorted according to importance. So, PC 0 is the most important one."
   ]
  },
  {
   "cell_type": "code",
   "execution_count": 26,
   "metadata": {},
   "outputs": [],
   "source": [
    "def pca_feature_importance(pca, df):\n",
    "\n",
    "    \"\"\"\n",
    "    Create a matrix which involves feature weights for every principal components\n",
    "    \n",
    "    Input: \n",
    "    pca: PCA object for df\n",
    "    df: Demographic dataset (DataFrame)\n",
    "    \n",
    "    Output:\n",
    "    fet_import_matrix: feature importance for each principal component matrix (DataFrame)\n",
    "    \n",
    "    \"\"\"\n",
    "    # number of components\n",
    "    n_comp= pca.n_components_\n",
    "    \n",
    "    # index column of dataframe\n",
    "    idx=[\"PC\"+str(i) for i in range(n_comp)]\n",
    "    \n",
    "    # create dataframe\n",
    "    fet_import_matrix=pd.DataFrame((pca.components_), columns=df.columns, index=idx)\n",
    "    \n",
    "    return fet_import_matrix"
   ]
  },
  {
   "cell_type": "code",
   "execution_count": 27,
   "metadata": {},
   "outputs": [],
   "source": [
    "azdias_pca_feature_importance = pca_feature_importance(azdias_pca, azdias_clean)"
   ]
  },
  {
   "cell_type": "code",
   "execution_count": 28,
   "metadata": {},
   "outputs": [
    {
     "data": {
      "text/plain": [
       "(215, 311)"
      ]
     },
     "execution_count": 28,
     "metadata": {},
     "output_type": "execute_result"
    }
   ],
   "source": [
    "azdias_pca_feature_importance.shape"
   ]
  },
  {
   "cell_type": "code",
   "execution_count": 29,
   "metadata": {},
   "outputs": [
    {
     "data": {
      "text/html": [
       "<div>\n",
       "<style scoped>\n",
       "    .dataframe tbody tr th:only-of-type {\n",
       "        vertical-align: middle;\n",
       "    }\n",
       "\n",
       "    .dataframe tbody tr th {\n",
       "        vertical-align: top;\n",
       "    }\n",
       "\n",
       "    .dataframe thead th {\n",
       "        text-align: right;\n",
       "    }\n",
       "</style>\n",
       "<table border=\"1\" class=\"dataframe\">\n",
       "  <thead>\n",
       "    <tr style=\"text-align: right;\">\n",
       "      <th></th>\n",
       "      <th>AGER_TYP</th>\n",
       "      <th>AKT_DAT_KL</th>\n",
       "      <th>ALTER_HH</th>\n",
       "      <th>ALTERSKATEGORIE_FEIN</th>\n",
       "      <th>ANZ_HAUSHALTE_AKTIV</th>\n",
       "      <th>ANZ_HH_TITEL</th>\n",
       "      <th>ANZ_KINDER</th>\n",
       "      <th>ANZ_PERSONEN</th>\n",
       "      <th>ANZ_TITEL</th>\n",
       "      <th>ARBEIT</th>\n",
       "      <th>...</th>\n",
       "      <th>VERS_TYP</th>\n",
       "      <th>VHA</th>\n",
       "      <th>VHN</th>\n",
       "      <th>VK_DHT4A</th>\n",
       "      <th>W_KEIT_KIND_HH</th>\n",
       "      <th>WOHNDAUER_2008</th>\n",
       "      <th>WOHNLAGE</th>\n",
       "      <th>ZABEOTYP</th>\n",
       "      <th>ALTERSKATEGORIE_GROB</th>\n",
       "      <th>OST_WEST_KZ_W</th>\n",
       "    </tr>\n",
       "  </thead>\n",
       "  <tbody>\n",
       "    <tr>\n",
       "      <th>PC0</th>\n",
       "      <td>0.042823</td>\n",
       "      <td>-0.072772</td>\n",
       "      <td>0.027583</td>\n",
       "      <td>-0.040640</td>\n",
       "      <td>-0.108187</td>\n",
       "      <td>-0.021802</td>\n",
       "      <td>0.023589</td>\n",
       "      <td>0.072847</td>\n",
       "      <td>-2.646978e-23</td>\n",
       "      <td>-0.108179</td>\n",
       "      <td>...</td>\n",
       "      <td>0.004563</td>\n",
       "      <td>0.048427</td>\n",
       "      <td>-0.037194</td>\n",
       "      <td>-0.080613</td>\n",
       "      <td>-0.033730</td>\n",
       "      <td>0.032988</td>\n",
       "      <td>0.046203</td>\n",
       "      <td>-0.096628</td>\n",
       "      <td>0.051987</td>\n",
       "      <td>0.057270</td>\n",
       "    </tr>\n",
       "    <tr>\n",
       "      <th>PC1</th>\n",
       "      <td>-0.027390</td>\n",
       "      <td>0.029917</td>\n",
       "      <td>-0.007878</td>\n",
       "      <td>0.022467</td>\n",
       "      <td>0.031184</td>\n",
       "      <td>0.026655</td>\n",
       "      <td>-0.002052</td>\n",
       "      <td>-0.021882</td>\n",
       "      <td>2.710505e-20</td>\n",
       "      <td>-0.032407</td>\n",
       "      <td>...</td>\n",
       "      <td>-0.001117</td>\n",
       "      <td>-0.030673</td>\n",
       "      <td>0.044826</td>\n",
       "      <td>0.023989</td>\n",
       "      <td>0.005340</td>\n",
       "      <td>-0.021003</td>\n",
       "      <td>-0.084542</td>\n",
       "      <td>0.009952</td>\n",
       "      <td>-0.032816</td>\n",
       "      <td>0.108505</td>\n",
       "    </tr>\n",
       "    <tr>\n",
       "      <th>PC2</th>\n",
       "      <td>-0.130382</td>\n",
       "      <td>0.031102</td>\n",
       "      <td>0.101887</td>\n",
       "      <td>0.165785</td>\n",
       "      <td>-0.022632</td>\n",
       "      <td>-0.011388</td>\n",
       "      <td>0.079798</td>\n",
       "      <td>0.062512</td>\n",
       "      <td>0.000000e+00</td>\n",
       "      <td>-0.032339</td>\n",
       "      <td>...</td>\n",
       "      <td>-0.002931</td>\n",
       "      <td>0.003530</td>\n",
       "      <td>-0.023759</td>\n",
       "      <td>-0.098751</td>\n",
       "      <td>-0.118191</td>\n",
       "      <td>-0.064426</td>\n",
       "      <td>0.033618</td>\n",
       "      <td>0.041679</td>\n",
       "      <td>-0.181126</td>\n",
       "      <td>0.013248</td>\n",
       "    </tr>\n",
       "    <tr>\n",
       "      <th>PC3</th>\n",
       "      <td>0.069525</td>\n",
       "      <td>-0.118861</td>\n",
       "      <td>0.090880</td>\n",
       "      <td>-0.014189</td>\n",
       "      <td>0.036146</td>\n",
       "      <td>0.017183</td>\n",
       "      <td>0.046273</td>\n",
       "      <td>0.121131</td>\n",
       "      <td>8.673617e-19</td>\n",
       "      <td>0.091098</td>\n",
       "      <td>...</td>\n",
       "      <td>0.031745</td>\n",
       "      <td>0.092245</td>\n",
       "      <td>0.018726</td>\n",
       "      <td>-0.177369</td>\n",
       "      <td>-0.047469</td>\n",
       "      <td>0.001218</td>\n",
       "      <td>-0.082396</td>\n",
       "      <td>-0.044307</td>\n",
       "      <td>0.036686</td>\n",
       "      <td>-0.066458</td>\n",
       "    </tr>\n",
       "    <tr>\n",
       "      <th>PC4</th>\n",
       "      <td>-0.027918</td>\n",
       "      <td>0.035545</td>\n",
       "      <td>-0.014693</td>\n",
       "      <td>0.024659</td>\n",
       "      <td>0.011580</td>\n",
       "      <td>0.009584</td>\n",
       "      <td>-0.008832</td>\n",
       "      <td>-0.034159</td>\n",
       "      <td>1.387779e-17</td>\n",
       "      <td>0.076806</td>\n",
       "      <td>...</td>\n",
       "      <td>0.001455</td>\n",
       "      <td>-0.016778</td>\n",
       "      <td>-0.033662</td>\n",
       "      <td>0.025275</td>\n",
       "      <td>0.003468</td>\n",
       "      <td>-0.012622</td>\n",
       "      <td>-0.023086</td>\n",
       "      <td>0.019593</td>\n",
       "      <td>-0.038462</td>\n",
       "      <td>-0.163040</td>\n",
       "    </tr>\n",
       "  </tbody>\n",
       "</table>\n",
       "<p>5 rows × 311 columns</p>\n",
       "</div>"
      ],
      "text/plain": [
       "     AGER_TYP  AKT_DAT_KL  ALTER_HH  ALTERSKATEGORIE_FEIN  \\\n",
       "PC0  0.042823   -0.072772  0.027583             -0.040640   \n",
       "PC1 -0.027390    0.029917 -0.007878              0.022467   \n",
       "PC2 -0.130382    0.031102  0.101887              0.165785   \n",
       "PC3  0.069525   -0.118861  0.090880             -0.014189   \n",
       "PC4 -0.027918    0.035545 -0.014693              0.024659   \n",
       "\n",
       "     ANZ_HAUSHALTE_AKTIV  ANZ_HH_TITEL  ANZ_KINDER  ANZ_PERSONEN  \\\n",
       "PC0            -0.108187     -0.021802    0.023589      0.072847   \n",
       "PC1             0.031184      0.026655   -0.002052     -0.021882   \n",
       "PC2            -0.022632     -0.011388    0.079798      0.062512   \n",
       "PC3             0.036146      0.017183    0.046273      0.121131   \n",
       "PC4             0.011580      0.009584   -0.008832     -0.034159   \n",
       "\n",
       "        ANZ_TITEL    ARBEIT      ...        VERS_TYP       VHA       VHN  \\\n",
       "PC0 -2.646978e-23 -0.108179      ...        0.004563  0.048427 -0.037194   \n",
       "PC1  2.710505e-20 -0.032407      ...       -0.001117 -0.030673  0.044826   \n",
       "PC2  0.000000e+00 -0.032339      ...       -0.002931  0.003530 -0.023759   \n",
       "PC3  8.673617e-19  0.091098      ...        0.031745  0.092245  0.018726   \n",
       "PC4  1.387779e-17  0.076806      ...        0.001455 -0.016778 -0.033662   \n",
       "\n",
       "     VK_DHT4A  W_KEIT_KIND_HH  WOHNDAUER_2008  WOHNLAGE  ZABEOTYP  \\\n",
       "PC0 -0.080613       -0.033730        0.032988  0.046203 -0.096628   \n",
       "PC1  0.023989        0.005340       -0.021003 -0.084542  0.009952   \n",
       "PC2 -0.098751       -0.118191       -0.064426  0.033618  0.041679   \n",
       "PC3 -0.177369       -0.047469        0.001218 -0.082396 -0.044307   \n",
       "PC4  0.025275        0.003468       -0.012622 -0.023086  0.019593   \n",
       "\n",
       "     ALTERSKATEGORIE_GROB  OST_WEST_KZ_W  \n",
       "PC0              0.051987       0.057270  \n",
       "PC1             -0.032816       0.108505  \n",
       "PC2             -0.181126       0.013248  \n",
       "PC3              0.036686      -0.066458  \n",
       "PC4             -0.038462      -0.163040  \n",
       "\n",
       "[5 rows x 311 columns]"
      ]
     },
     "execution_count": 29,
     "metadata": {},
     "output_type": "execute_result"
    }
   ],
   "source": [
    "azdias_pca_feature_importance.head()"
   ]
  },
  {
   "cell_type": "markdown",
   "metadata": {},
   "source": [
    "Second function creates a dataframe involves top feature weights with feature description for spesific principal component."
   ]
  },
  {
   "cell_type": "code",
   "execution_count": 36,
   "metadata": {},
   "outputs": [],
   "source": [
    "def most_important_features(pca_feature_importance_matrix, df, df_attribute, component_number):\n",
    "    \"\"\"\n",
    "    Create a dataframe involves top feature weights with feature description for spesific principal component\n",
    "    \n",
    "    Input: \n",
    "    pca_feature_importance_matrix: pca_feature_importance_matrix: PCA feature importance for \n",
    "                                    each principal component matrix (DataFrame)\n",
    "    df: Demographic dataset (DataFrame)\n",
    "    df_attribute: Dataset which includes descriptions and meanings of features\n",
    "    component_number: number of the component (int)\n",
    "    \n",
    "    Output:\n",
    "    pc_tops: top 3 positive and negative features with description and meaning for principal component given\n",
    "    \n",
    "    \"\"\"\n",
    "    # select top 3 and bottom 3 features from pca_feature_importance_matrix\n",
    "    pc_tops=pd.DataFrame(pca_feature_importance_matrix.iloc[component_number].sort_values(ascending=False).iloc[[0,1,2,-3,-2,-1]])\n",
    "    \n",
    "    # merge pc_tops with attributes dataset\n",
    "    pc_tops = pd.merge(left=pc_tops, right=df_attribute, how='left', left_on=pc_tops.index, right_on='Attribute')\n",
    "    \n",
    "    # set index attribute column\n",
    "    pc_tops=pc_tops.set_index(\"Attribute\").drop(columns=[\"Information level\"])\n",
    "    \n",
    "    return pc_tops"
   ]
  },
  {
   "cell_type": "code",
   "execution_count": 37,
   "metadata": {},
   "outputs": [
    {
     "data": {
      "text/html": [
       "<div>\n",
       "<style scoped>\n",
       "    .dataframe tbody tr th:only-of-type {\n",
       "        vertical-align: middle;\n",
       "    }\n",
       "\n",
       "    .dataframe tbody tr th {\n",
       "        vertical-align: top;\n",
       "    }\n",
       "\n",
       "    .dataframe thead th {\n",
       "        text-align: right;\n",
       "    }\n",
       "</style>\n",
       "<table border=\"1\" class=\"dataframe\">\n",
       "  <thead>\n",
       "    <tr style=\"text-align: right;\">\n",
       "      <th></th>\n",
       "      <th>PC0</th>\n",
       "      <th>Description</th>\n",
       "      <th>Additional notes</th>\n",
       "    </tr>\n",
       "    <tr>\n",
       "      <th>Attribute</th>\n",
       "      <th></th>\n",
       "      <th></th>\n",
       "      <th></th>\n",
       "    </tr>\n",
       "  </thead>\n",
       "  <tbody>\n",
       "    <tr>\n",
       "      <th>KBA13_ANTG1</th>\n",
       "      <td>0.152924</td>\n",
       "      <td>NaN</td>\n",
       "      <td>NaN</td>\n",
       "    </tr>\n",
       "    <tr>\n",
       "      <th>MOBI_REGIO</th>\n",
       "      <td>0.152100</td>\n",
       "      <td>moving patterns</td>\n",
       "      <td>NaN</td>\n",
       "    </tr>\n",
       "    <tr>\n",
       "      <th>LP_STATUS_FEIN</th>\n",
       "      <td>0.149898</td>\n",
       "      <td>social status fine</td>\n",
       "      <td>NaN</td>\n",
       "    </tr>\n",
       "    <tr>\n",
       "      <th>KBA13_BAUMAX</th>\n",
       "      <td>-0.145598</td>\n",
       "      <td>NaN</td>\n",
       "      <td>NaN</td>\n",
       "    </tr>\n",
       "    <tr>\n",
       "      <th>HH_EINKOMMEN_SCORE</th>\n",
       "      <td>-0.148534</td>\n",
       "      <td>estimated household_net_income</td>\n",
       "      <td>modelled on different AZ DIAS data</td>\n",
       "    </tr>\n",
       "    <tr>\n",
       "      <th>KBA13_ANTG3</th>\n",
       "      <td>-0.151954</td>\n",
       "      <td>NaN</td>\n",
       "      <td>NaN</td>\n",
       "    </tr>\n",
       "  </tbody>\n",
       "</table>\n",
       "</div>"
      ],
      "text/plain": [
       "                         PC0                      Description  \\\n",
       "Attribute                                                       \n",
       "KBA13_ANTG1         0.152924                              NaN   \n",
       "MOBI_REGIO          0.152100                  moving patterns   \n",
       "LP_STATUS_FEIN      0.149898              social status fine    \n",
       "KBA13_BAUMAX       -0.145598                              NaN   \n",
       "HH_EINKOMMEN_SCORE -0.148534  estimated household_net_income    \n",
       "KBA13_ANTG3        -0.151954                              NaN   \n",
       "\n",
       "                                      Additional notes  \n",
       "Attribute                                               \n",
       "KBA13_ANTG1                                        NaN  \n",
       "MOBI_REGIO                                         NaN  \n",
       "LP_STATUS_FEIN                                     NaN  \n",
       "KBA13_BAUMAX                                       NaN  \n",
       "HH_EINKOMMEN_SCORE  modelled on different AZ DIAS data  \n",
       "KBA13_ANTG3                                        NaN  "
      ]
     },
     "execution_count": 37,
     "metadata": {},
     "output_type": "execute_result"
    }
   ],
   "source": [
    "most_important_features(azdias_pca_feature_importance, azdias_clean, level_att, 0)"
   ]
  },
  {
   "cell_type": "code",
   "execution_count": 38,
   "metadata": {},
   "outputs": [
    {
     "data": {
      "text/html": [
       "<div>\n",
       "<style scoped>\n",
       "    .dataframe tbody tr th:only-of-type {\n",
       "        vertical-align: middle;\n",
       "    }\n",
       "\n",
       "    .dataframe tbody tr th {\n",
       "        vertical-align: top;\n",
       "    }\n",
       "\n",
       "    .dataframe thead th {\n",
       "        text-align: right;\n",
       "    }\n",
       "</style>\n",
       "<table border=\"1\" class=\"dataframe\">\n",
       "  <thead>\n",
       "    <tr style=\"text-align: right;\">\n",
       "      <th></th>\n",
       "      <th>PC1</th>\n",
       "      <th>Description</th>\n",
       "      <th>Additional notes</th>\n",
       "    </tr>\n",
       "    <tr>\n",
       "      <th>Attribute</th>\n",
       "      <th></th>\n",
       "      <th></th>\n",
       "      <th></th>\n",
       "    </tr>\n",
       "  </thead>\n",
       "  <tbody>\n",
       "    <tr>\n",
       "      <th>KBA13_HERST_BMW_BENZ</th>\n",
       "      <td>0.197164</td>\n",
       "      <td>share of BMW &amp; Mercedes Benz within the PLZ8</td>\n",
       "      <td>NaN</td>\n",
       "    </tr>\n",
       "    <tr>\n",
       "      <th>KBA13_SEG_OBEREMITTELKLASSE</th>\n",
       "      <td>0.169697</td>\n",
       "      <td>share of upper middle class cars and upper cla...</td>\n",
       "      <td>NaN</td>\n",
       "    </tr>\n",
       "    <tr>\n",
       "      <th>KBA13_MERCEDES</th>\n",
       "      <td>0.167052</td>\n",
       "      <td>share of MERCEDES within the PLZ8</td>\n",
       "      <td>NaN</td>\n",
       "    </tr>\n",
       "    <tr>\n",
       "      <th>KBA13_KMH_180</th>\n",
       "      <td>-0.129983</td>\n",
       "      <td>share of cars with max speed between 110 km/h ...</td>\n",
       "      <td>NaN</td>\n",
       "    </tr>\n",
       "    <tr>\n",
       "      <th>KBA13_KMH_140_210</th>\n",
       "      <td>-0.140899</td>\n",
       "      <td>share of cars with max speed between 140 and 2...</td>\n",
       "      <td>NaN</td>\n",
       "    </tr>\n",
       "    <tr>\n",
       "      <th>KBA13_SEG_KLEINWAGEN</th>\n",
       "      <td>-0.141554</td>\n",
       "      <td>share of small and very small cars (Ford Fiest...</td>\n",
       "      <td>NaN</td>\n",
       "    </tr>\n",
       "  </tbody>\n",
       "</table>\n",
       "</div>"
      ],
      "text/plain": [
       "                                  PC1  \\\n",
       "Attribute                               \n",
       "KBA13_HERST_BMW_BENZ         0.197164   \n",
       "KBA13_SEG_OBEREMITTELKLASSE  0.169697   \n",
       "KBA13_MERCEDES               0.167052   \n",
       "KBA13_KMH_180               -0.129983   \n",
       "KBA13_KMH_140_210           -0.140899   \n",
       "KBA13_SEG_KLEINWAGEN        -0.141554   \n",
       "\n",
       "                                                                   Description  \\\n",
       "Attribute                                                                        \n",
       "KBA13_HERST_BMW_BENZ              share of BMW & Mercedes Benz within the PLZ8   \n",
       "KBA13_SEG_OBEREMITTELKLASSE  share of upper middle class cars and upper cla...   \n",
       "KBA13_MERCEDES                               share of MERCEDES within the PLZ8   \n",
       "KBA13_KMH_180                share of cars with max speed between 110 km/h ...   \n",
       "KBA13_KMH_140_210            share of cars with max speed between 140 and 2...   \n",
       "KBA13_SEG_KLEINWAGEN         share of small and very small cars (Ford Fiest...   \n",
       "\n",
       "                            Additional notes  \n",
       "Attribute                                     \n",
       "KBA13_HERST_BMW_BENZ                     NaN  \n",
       "KBA13_SEG_OBEREMITTELKLASSE              NaN  \n",
       "KBA13_MERCEDES                           NaN  \n",
       "KBA13_KMH_180                            NaN  \n",
       "KBA13_KMH_140_210                        NaN  \n",
       "KBA13_SEG_KLEINWAGEN                     NaN  "
      ]
     },
     "execution_count": 38,
     "metadata": {},
     "output_type": "execute_result"
    }
   ],
   "source": [
    "most_important_features(azdias_pca_feature_importance, azdias_clean, level_att, 1)"
   ]
  },
  {
   "cell_type": "code",
   "execution_count": 39,
   "metadata": {},
   "outputs": [
    {
     "data": {
      "text/html": [
       "<div>\n",
       "<style scoped>\n",
       "    .dataframe tbody tr th:only-of-type {\n",
       "        vertical-align: middle;\n",
       "    }\n",
       "\n",
       "    .dataframe tbody tr th {\n",
       "        vertical-align: top;\n",
       "    }\n",
       "\n",
       "    .dataframe thead th {\n",
       "        text-align: right;\n",
       "    }\n",
       "</style>\n",
       "<table border=\"1\" class=\"dataframe\">\n",
       "  <thead>\n",
       "    <tr style=\"text-align: right;\">\n",
       "      <th></th>\n",
       "      <th>PC2</th>\n",
       "      <th>Description</th>\n",
       "      <th>Additional notes</th>\n",
       "    </tr>\n",
       "    <tr>\n",
       "      <th>Attribute</th>\n",
       "      <th></th>\n",
       "      <th></th>\n",
       "      <th></th>\n",
       "    </tr>\n",
       "  </thead>\n",
       "  <tbody>\n",
       "    <tr>\n",
       "      <th>PRAEGENDE_JUGENDJAHRE</th>\n",
       "      <td>0.211845</td>\n",
       "      <td>dominating movement in the person's youth (ava...</td>\n",
       "      <td>own typology modelled on different AZ DIAS data</td>\n",
       "    </tr>\n",
       "    <tr>\n",
       "      <th>CJT_TYP_1</th>\n",
       "      <td>0.198174</td>\n",
       "      <td>NaN</td>\n",
       "      <td>NaN</td>\n",
       "    </tr>\n",
       "    <tr>\n",
       "      <th>FINANZ_SPARER</th>\n",
       "      <td>0.194463</td>\n",
       "      <td>financial typology: money saver</td>\n",
       "      <td>NaN</td>\n",
       "    </tr>\n",
       "    <tr>\n",
       "      <th>CJT_TYP_5</th>\n",
       "      <td>-0.181669</td>\n",
       "      <td>NaN</td>\n",
       "      <td>NaN</td>\n",
       "    </tr>\n",
       "    <tr>\n",
       "      <th>CJT_TYP_4</th>\n",
       "      <td>-0.184357</td>\n",
       "      <td>NaN</td>\n",
       "      <td>NaN</td>\n",
       "    </tr>\n",
       "    <tr>\n",
       "      <th>FINANZ_VORSORGER</th>\n",
       "      <td>-0.189756</td>\n",
       "      <td>financial typology: be prepared</td>\n",
       "      <td>NaN</td>\n",
       "    </tr>\n",
       "  </tbody>\n",
       "</table>\n",
       "</div>"
      ],
      "text/plain": [
       "                            PC2  \\\n",
       "Attribute                         \n",
       "PRAEGENDE_JUGENDJAHRE  0.211845   \n",
       "CJT_TYP_1              0.198174   \n",
       "FINANZ_SPARER          0.194463   \n",
       "CJT_TYP_5             -0.181669   \n",
       "CJT_TYP_4             -0.184357   \n",
       "FINANZ_VORSORGER      -0.189756   \n",
       "\n",
       "                                                             Description  \\\n",
       "Attribute                                                                  \n",
       "PRAEGENDE_JUGENDJAHRE  dominating movement in the person's youth (ava...   \n",
       "CJT_TYP_1                                                            NaN   \n",
       "FINANZ_SPARER                            financial typology: money saver   \n",
       "CJT_TYP_5                                                            NaN   \n",
       "CJT_TYP_4                                                            NaN   \n",
       "FINANZ_VORSORGER                         financial typology: be prepared   \n",
       "\n",
       "                                                       Additional notes  \n",
       "Attribute                                                                \n",
       "PRAEGENDE_JUGENDJAHRE  own typology modelled on different AZ DIAS data   \n",
       "CJT_TYP_1                                                           NaN  \n",
       "FINANZ_SPARER                                                       NaN  \n",
       "CJT_TYP_5                                                           NaN  \n",
       "CJT_TYP_4                                                           NaN  \n",
       "FINANZ_VORSORGER                                                    NaN  "
      ]
     },
     "execution_count": 39,
     "metadata": {},
     "output_type": "execute_result"
    }
   ],
   "source": [
    "most_important_features(azdias_pca_feature_importance, azdias_clean, level_att, 2)"
   ]
  },
  {
   "cell_type": "markdown",
   "metadata": {},
   "source": [
    "When we look at the tables above, we can interpret them. We can see most correlated and most uncorrelated features for each principal components. \n",
    "<br>For example, PC1 has positive correlation with luxury cars and negative correlation with regular cars."
   ]
  },
  {
   "cell_type": "markdown",
   "metadata": {},
   "source": [
    "### 1.2. Clustering"
   ]
  },
  {
   "cell_type": "markdown",
   "metadata": {},
   "source": [
    "#### 1.2.1. Elbow method"
   ]
  },
  {
   "cell_type": "markdown",
   "metadata": {},
   "source": [
    "Elbow method is one most known method to find number of clusters in the unsupervised learning. To determine ideal number of clusters, we need to select k at the point that slope of the curve has sharp decrease. That is called \"elbow\"."
   ]
  },
  {
   "cell_type": "code",
   "execution_count": 39,
   "metadata": {},
   "outputs": [],
   "source": [
    "# try different cluster numbers by using for loop\n",
    "Sum_of_squared_distances = []\n",
    "K = range(1,15)\n",
    "for k in K:\n",
    "    km = KMeans(n_clusters=k)\n",
    "    km = km.fit(azdias_reduced)\n",
    "    Sum_of_squared_distances.append(km.inertia_)"
   ]
  },
  {
   "cell_type": "code",
   "execution_count": 43,
   "metadata": {},
   "outputs": [
    {
     "data": {
      "text/plain": [
       "Text(0.5,1,'Elbow Method For Optimal k')"
      ]
     },
     "execution_count": 43,
     "metadata": {},
     "output_type": "execute_result"
    },
    {
     "data": {
      "image/png": "[encoded data removed]",
      "text/plain": [
       "<matplotlib.figure.Figure at 0x7f028949e198>"
      ]
     },
     "metadata": {
      "needs_background": "light"
     },
     "output_type": "display_data"
    }
   ],
   "source": [
    "# plot to see elbow\n",
    "plt.figure(figsize=(20,10))\n",
    "plt.plot(K, Sum_of_squared_distances, 'o--')\n",
    "plt.xlabel('k')\n",
    "plt.ylabel('Sum of squared distances')\n",
    "plt.title('Elbow Method For Optimal k')"
   ]
  },
  {
   "cell_type": "markdown",
   "metadata": {},
   "source": [
    "There is an elbow at k=2. There is also a small elbow at k=7. 2 clusters may be too small so I prefer to use 7 clusters instead of 2."
   ]
  },
  {
   "cell_type": "markdown",
   "metadata": {},
   "source": [
    "#### 1.2.2. Clustering for k=7"
   ]
  },
  {
   "cell_type": "code",
   "execution_count": 40,
   "metadata": {},
   "outputs": [
    {
     "data": {
      "text/plain": [
       "KMeans(algorithm='auto', copy_x=True, init='k-means++', max_iter=300,\n",
       "    n_clusters=7, n_init=10, n_jobs=1, precompute_distances='auto',\n",
       "    random_state=None, tol=0.0001, verbose=0)"
      ]
     },
     "execution_count": 40,
     "metadata": {},
     "output_type": "execute_result"
    }
   ],
   "source": [
    "# kmeans for clustering with n_clusters=7 and fit the model\n",
    "km = KMeans(n_clusters=7)\n",
    "km.fit(azdias_reduced)"
   ]
  },
  {
   "cell_type": "code",
   "execution_count": 41,
   "metadata": {},
   "outputs": [],
   "source": [
    "# predict azdias dataset\n",
    "azdias_predicted = km.predict(azdias_reduced)"
   ]
  },
  {
   "cell_type": "code",
   "execution_count": 42,
   "metadata": {},
   "outputs": [
    {
     "data": {
      "text/plain": [
       "(688741,)"
      ]
     },
     "execution_count": 42,
     "metadata": {},
     "output_type": "execute_result"
    }
   ],
   "source": [
    "azdias_predicted.shape"
   ]
  },
  {
   "cell_type": "code",
   "execution_count": 43,
   "metadata": {},
   "outputs": [],
   "source": [
    "# create dataframe for azdias_predicted\n",
    "azdias_clustered=pd.DataFrame(azdias_predicted, columns=[\"cluster\"])"
   ]
  },
  {
   "cell_type": "code",
   "execution_count": 44,
   "metadata": {},
   "outputs": [],
   "source": [
    "# predict customer dataset\n",
    "customer_predicted = km.predict(customer_reduced)"
   ]
  },
  {
   "cell_type": "code",
   "execution_count": 45,
   "metadata": {},
   "outputs": [
    {
     "data": {
      "text/plain": [
       "(121955,)"
      ]
     },
     "execution_count": 45,
     "metadata": {},
     "output_type": "execute_result"
    }
   ],
   "source": [
    "customer_predicted.shape"
   ]
  },
  {
   "cell_type": "code",
   "execution_count": 46,
   "metadata": {},
   "outputs": [],
   "source": [
    "# create dataframe for customer_predicted\n",
    "customer_clustered=pd.DataFrame(customer_predicted, columns=[\"cluster\"])"
   ]
  },
  {
   "cell_type": "code",
   "execution_count": 260,
   "metadata": {},
   "outputs": [],
   "source": [
    "# create dataframe of proportion of clusters for both dataset\n",
    "clusters=pd.DataFrame(data={'azdias_clusters': (azdias_clustered[\"cluster\"].value_counts().sort_index().values/azdias_clustered.shape[0]), \n",
    " 'customer_clusters': (customer_clustered[\"cluster\"].value_counts().sort_index().values/customer_clustered.shape[0])}, index=range(1,8))"
   ]
  },
  {
   "cell_type": "code",
   "execution_count": 261,
   "metadata": {},
   "outputs": [
    {
     "data": {
      "text/html": [
       "<div>\n",
       "<style scoped>\n",
       "    .dataframe tbody tr th:only-of-type {\n",
       "        vertical-align: middle;\n",
       "    }\n",
       "\n",
       "    .dataframe tbody tr th {\n",
       "        vertical-align: top;\n",
       "    }\n",
       "\n",
       "    .dataframe thead th {\n",
       "        text-align: right;\n",
       "    }\n",
       "</style>\n",
       "<table border=\"1\" class=\"dataframe\">\n",
       "  <thead>\n",
       "    <tr style=\"text-align: right;\">\n",
       "      <th></th>\n",
       "      <th>azdias_clusters</th>\n",
       "      <th>customer_clusters</th>\n",
       "    </tr>\n",
       "  </thead>\n",
       "  <tbody>\n",
       "    <tr>\n",
       "      <th>1</th>\n",
       "      <td>0.106340</td>\n",
       "      <td>0.117035</td>\n",
       "    </tr>\n",
       "    <tr>\n",
       "      <th>2</th>\n",
       "      <td>0.107743</td>\n",
       "      <td>0.120052</td>\n",
       "    </tr>\n",
       "    <tr>\n",
       "      <th>3</th>\n",
       "      <td>0.157370</td>\n",
       "      <td>0.246427</td>\n",
       "    </tr>\n",
       "    <tr>\n",
       "      <th>4</th>\n",
       "      <td>0.144798</td>\n",
       "      <td>0.142897</td>\n",
       "    </tr>\n",
       "    <tr>\n",
       "      <th>5</th>\n",
       "      <td>0.181765</td>\n",
       "      <td>0.167021</td>\n",
       "    </tr>\n",
       "    <tr>\n",
       "      <th>6</th>\n",
       "      <td>0.132963</td>\n",
       "      <td>0.085179</td>\n",
       "    </tr>\n",
       "    <tr>\n",
       "      <th>7</th>\n",
       "      <td>0.169021</td>\n",
       "      <td>0.121389</td>\n",
       "    </tr>\n",
       "  </tbody>\n",
       "</table>\n",
       "</div>"
      ],
      "text/plain": [
       "   azdias_clusters  customer_clusters\n",
       "1         0.106340           0.117035\n",
       "2         0.107743           0.120052\n",
       "3         0.157370           0.246427\n",
       "4         0.144798           0.142897\n",
       "5         0.181765           0.167021\n",
       "6         0.132963           0.085179\n",
       "7         0.169021           0.121389"
      ]
     },
     "execution_count": 261,
     "metadata": {},
     "output_type": "execute_result"
    }
   ],
   "source": [
    "clusters"
   ]
  },
  {
   "cell_type": "code",
   "execution_count": 262,
   "metadata": {
    "scrolled": false
   },
   "outputs": [
    {
     "data": {
      "text/plain": [
       "<matplotlib.axes._subplots.AxesSubplot at 0x7f634fda5dd8>"
      ]
     },
     "execution_count": 262,
     "metadata": {},
     "output_type": "execute_result"
    },
    {
     "data": {
      "image/png": "[encoded data removed]",
      "text/plain": [
       "<matplotlib.figure.Figure at 0x7f634fda57f0>"
      ]
     },
     "metadata": {
      "needs_background": "light"
     },
     "output_type": "display_data"
    }
   ],
   "source": [
    "clusters.plot(kind=\"bar\", figsize=[12,6])"
   ]
  },
  {
   "cell_type": "markdown",
   "metadata": {},
   "source": [
    "***When we look at graph above, cluster 6 and cluster 7 are overrepresented. Cluster 3 is underrepresented.***"
   ]
  },
  {
   "cell_type": "markdown",
   "metadata": {},
   "source": [
    "#### 1.2.2. Avarerage feature values for each cluster"
   ]
  },
  {
   "cell_type": "code",
   "execution_count": 175,
   "metadata": {},
   "outputs": [],
   "source": [
    "# create a dataframe by using inverse transform\n",
    "cluster_clean=pd.DataFrame(azdias_pca.inverse_transform(km.cluster_centers_), \n",
    "                           columns=azdias_clean.columns)"
   ]
  },
  {
   "cell_type": "code",
   "execution_count": 176,
   "metadata": {
    "scrolled": true
   },
   "outputs": [
    {
     "data": {
      "text/html": [
       "<div>\n",
       "<style scoped>\n",
       "    .dataframe tbody tr th:only-of-type {\n",
       "        vertical-align: middle;\n",
       "    }\n",
       "\n",
       "    .dataframe tbody tr th {\n",
       "        vertical-align: top;\n",
       "    }\n",
       "\n",
       "    .dataframe thead th {\n",
       "        text-align: right;\n",
       "    }\n",
       "</style>\n",
       "<table border=\"1\" class=\"dataframe\">\n",
       "  <thead>\n",
       "    <tr style=\"text-align: right;\">\n",
       "      <th></th>\n",
       "      <th>AGER_TYP</th>\n",
       "      <th>AKT_DAT_KL</th>\n",
       "      <th>ALTER_HH</th>\n",
       "      <th>ALTERSKATEGORIE_FEIN</th>\n",
       "      <th>ANZ_HAUSHALTE_AKTIV</th>\n",
       "      <th>ANZ_HH_TITEL</th>\n",
       "      <th>ANZ_KINDER</th>\n",
       "      <th>ANZ_PERSONEN</th>\n",
       "      <th>ANZ_TITEL</th>\n",
       "      <th>ARBEIT</th>\n",
       "      <th>...</th>\n",
       "      <th>VERS_TYP</th>\n",
       "      <th>VHA</th>\n",
       "      <th>VHN</th>\n",
       "      <th>VK_DHT4A</th>\n",
       "      <th>W_KEIT_KIND_HH</th>\n",
       "      <th>WOHNDAUER_2008</th>\n",
       "      <th>WOHNLAGE</th>\n",
       "      <th>ZABEOTYP</th>\n",
       "      <th>ALTERSKATEGORIE_GROB</th>\n",
       "      <th>OST_WEST_KZ_W</th>\n",
       "    </tr>\n",
       "  </thead>\n",
       "  <tbody>\n",
       "    <tr>\n",
       "      <th>0</th>\n",
       "      <td>0.088634</td>\n",
       "      <td>-0.029458</td>\n",
       "      <td>-0.127369</td>\n",
       "      <td>-0.143032</td>\n",
       "      <td>-0.033772</td>\n",
       "      <td>0.209600</td>\n",
       "      <td>-0.086480</td>\n",
       "      <td>-0.098485</td>\n",
       "      <td>1.231623e-16</td>\n",
       "      <td>-0.071590</td>\n",
       "      <td>...</td>\n",
       "      <td>0.069581</td>\n",
       "      <td>-0.081593</td>\n",
       "      <td>0.281869</td>\n",
       "      <td>0.056644</td>\n",
       "      <td>0.092738</td>\n",
       "      <td>-0.028772</td>\n",
       "      <td>-0.639443</td>\n",
       "      <td>-0.158130</td>\n",
       "      <td>0.170236</td>\n",
       "      <td>0.334425</td>\n",
       "    </tr>\n",
       "    <tr>\n",
       "      <th>1</th>\n",
       "      <td>0.110439</td>\n",
       "      <td>-0.005704</td>\n",
       "      <td>-0.095944</td>\n",
       "      <td>-0.073896</td>\n",
       "      <td>0.148858</td>\n",
       "      <td>-0.001465</td>\n",
       "      <td>-0.119236</td>\n",
       "      <td>-0.144869</td>\n",
       "      <td>8.970092e-16</td>\n",
       "      <td>0.871150</td>\n",
       "      <td>...</td>\n",
       "      <td>0.061160</td>\n",
       "      <td>0.061843</td>\n",
       "      <td>-0.185833</td>\n",
       "      <td>0.041254</td>\n",
       "      <td>0.107379</td>\n",
       "      <td>0.025405</td>\n",
       "      <td>0.218555</td>\n",
       "      <td>0.189580</td>\n",
       "      <td>0.129318</td>\n",
       "      <td>-1.881643</td>\n",
       "    </tr>\n",
       "    <tr>\n",
       "      <th>2</th>\n",
       "      <td>0.426376</td>\n",
       "      <td>0.053081</td>\n",
       "      <td>-0.419169</td>\n",
       "      <td>-0.490337</td>\n",
       "      <td>0.452323</td>\n",
       "      <td>0.058096</td>\n",
       "      <td>-0.262490</td>\n",
       "      <td>-0.307940</td>\n",
       "      <td>-5.773759e-16</td>\n",
       "      <td>0.373573</td>\n",
       "      <td>...</td>\n",
       "      <td>-0.004730</td>\n",
       "      <td>-0.101791</td>\n",
       "      <td>0.232844</td>\n",
       "      <td>0.532929</td>\n",
       "      <td>0.408329</td>\n",
       "      <td>0.169896</td>\n",
       "      <td>-0.294537</td>\n",
       "      <td>0.052802</td>\n",
       "      <td>0.599375</td>\n",
       "      <td>0.238124</td>\n",
       "    </tr>\n",
       "    <tr>\n",
       "      <th>3</th>\n",
       "      <td>-0.507568</td>\n",
       "      <td>0.395936</td>\n",
       "      <td>0.137259</td>\n",
       "      <td>0.550373</td>\n",
       "      <td>0.776304</td>\n",
       "      <td>0.147507</td>\n",
       "      <td>0.003810</td>\n",
       "      <td>-0.256154</td>\n",
       "      <td>-1.496136e-16</td>\n",
       "      <td>0.545220</td>\n",
       "      <td>...</td>\n",
       "      <td>-0.044987</td>\n",
       "      <td>-0.256961</td>\n",
       "      <td>0.289580</td>\n",
       "      <td>0.181925</td>\n",
       "      <td>0.043104</td>\n",
       "      <td>-0.353763</td>\n",
       "      <td>-0.215901</td>\n",
       "      <td>0.667943</td>\n",
       "      <td>-0.700945</td>\n",
       "      <td>-0.095171</td>\n",
       "    </tr>\n",
       "    <tr>\n",
       "      <th>4</th>\n",
       "      <td>0.556009</td>\n",
       "      <td>-0.380667</td>\n",
       "      <td>-0.248875</td>\n",
       "      <td>-0.678224</td>\n",
       "      <td>-0.507508</td>\n",
       "      <td>-0.120008</td>\n",
       "      <td>-0.213455</td>\n",
       "      <td>-0.042740</td>\n",
       "      <td>-2.969906e-17</td>\n",
       "      <td>-0.570028</td>\n",
       "      <td>...</td>\n",
       "      <td>0.022681</td>\n",
       "      <td>0.075069</td>\n",
       "      <td>-0.189208</td>\n",
       "      <td>0.103291</td>\n",
       "      <td>0.355057</td>\n",
       "      <td>0.269720</td>\n",
       "      <td>0.358171</td>\n",
       "      <td>-0.485012</td>\n",
       "      <td>0.668494</td>\n",
       "      <td>0.319159</td>\n",
       "    </tr>\n",
       "    <tr>\n",
       "      <th>5</th>\n",
       "      <td>-0.165756</td>\n",
       "      <td>-0.522432</td>\n",
       "      <td>0.696049</td>\n",
       "      <td>0.296923</td>\n",
       "      <td>-0.497965</td>\n",
       "      <td>-0.122165</td>\n",
       "      <td>0.650531</td>\n",
       "      <td>1.123153</td>\n",
       "      <td>4.317808e-16</td>\n",
       "      <td>-0.428272</td>\n",
       "      <td>...</td>\n",
       "      <td>0.048948</td>\n",
       "      <td>0.602226</td>\n",
       "      <td>-0.239003</td>\n",
       "      <td>-1.226780</td>\n",
       "      <td>-0.920928</td>\n",
       "      <td>0.193606</td>\n",
       "      <td>0.230195</td>\n",
       "      <td>-0.612803</td>\n",
       "      <td>-0.118632</td>\n",
       "      <td>0.195866</td>\n",
       "    </tr>\n",
       "    <tr>\n",
       "      <th>6</th>\n",
       "      <td>-0.555874</td>\n",
       "      <td>0.453909</td>\n",
       "      <td>0.134072</td>\n",
       "      <td>0.617935</td>\n",
       "      <td>-0.222248</td>\n",
       "      <td>-0.086207</td>\n",
       "      <td>0.089352</td>\n",
       "      <td>-0.177115</td>\n",
       "      <td>-2.912551e-16</td>\n",
       "      <td>-0.375187</td>\n",
       "      <td>...</td>\n",
       "      <td>-0.102711</td>\n",
       "      <td>-0.227662</td>\n",
       "      <td>-0.132217</td>\n",
       "      <td>0.139998</td>\n",
       "      <td>-0.201274</td>\n",
       "      <td>-0.295585</td>\n",
       "      <td>0.155853</td>\n",
       "      <td>0.360939</td>\n",
       "      <td>-0.772694</td>\n",
       "      <td>0.351546</td>\n",
       "    </tr>\n",
       "  </tbody>\n",
       "</table>\n",
       "<p>7 rows × 311 columns</p>\n",
       "</div>"
      ],
      "text/plain": [
       "   AGER_TYP  AKT_DAT_KL  ALTER_HH  ALTERSKATEGORIE_FEIN  ANZ_HAUSHALTE_AKTIV  \\\n",
       "0  0.088634   -0.029458 -0.127369             -0.143032            -0.033772   \n",
       "1  0.110439   -0.005704 -0.095944             -0.073896             0.148858   \n",
       "2  0.426376    0.053081 -0.419169             -0.490337             0.452323   \n",
       "3 -0.507568    0.395936  0.137259              0.550373             0.776304   \n",
       "4  0.556009   -0.380667 -0.248875             -0.678224            -0.507508   \n",
       "5 -0.165756   -0.522432  0.696049              0.296923            -0.497965   \n",
       "6 -0.555874    0.453909  0.134072              0.617935            -0.222248   \n",
       "\n",
       "   ANZ_HH_TITEL  ANZ_KINDER  ANZ_PERSONEN     ANZ_TITEL    ARBEIT  \\\n",
       "0      0.209600   -0.086480     -0.098485  1.231623e-16 -0.071590   \n",
       "1     -0.001465   -0.119236     -0.144869  8.970092e-16  0.871150   \n",
       "2      0.058096   -0.262490     -0.307940 -5.773759e-16  0.373573   \n",
       "3      0.147507    0.003810     -0.256154 -1.496136e-16  0.545220   \n",
       "4     -0.120008   -0.213455     -0.042740 -2.969906e-17 -0.570028   \n",
       "5     -0.122165    0.650531      1.123153  4.317808e-16 -0.428272   \n",
       "6     -0.086207    0.089352     -0.177115 -2.912551e-16 -0.375187   \n",
       "\n",
       "       ...        VERS_TYP       VHA       VHN  VK_DHT4A  W_KEIT_KIND_HH  \\\n",
       "0      ...        0.069581 -0.081593  0.281869  0.056644        0.092738   \n",
       "1      ...        0.061160  0.061843 -0.185833  0.041254        0.107379   \n",
       "2      ...       -0.004730 -0.101791  0.232844  0.532929        0.408329   \n",
       "3      ...       -0.044987 -0.256961  0.289580  0.181925        0.043104   \n",
       "4      ...        0.022681  0.075069 -0.189208  0.103291        0.355057   \n",
       "5      ...        0.048948  0.602226 -0.239003 -1.226780       -0.920928   \n",
       "6      ...       -0.102711 -0.227662 -0.132217  0.139998       -0.201274   \n",
       "\n",
       "   WOHNDAUER_2008  WOHNLAGE  ZABEOTYP  ALTERSKATEGORIE_GROB  OST_WEST_KZ_W  \n",
       "0       -0.028772 -0.639443 -0.158130              0.170236       0.334425  \n",
       "1        0.025405  0.218555  0.189580              0.129318      -1.881643  \n",
       "2        0.169896 -0.294537  0.052802              0.599375       0.238124  \n",
       "3       -0.353763 -0.215901  0.667943             -0.700945      -0.095171  \n",
       "4        0.269720  0.358171 -0.485012              0.668494       0.319159  \n",
       "5        0.193606  0.230195 -0.612803             -0.118632       0.195866  \n",
       "6       -0.295585  0.155853  0.360939             -0.772694       0.351546  \n",
       "\n",
       "[7 rows x 311 columns]"
      ]
     },
     "execution_count": 176,
     "metadata": {},
     "output_type": "execute_result"
    }
   ],
   "source": [
    "cluster_clean"
   ]
  },
  {
   "cell_type": "markdown",
   "metadata": {},
   "source": [
    "## Part 2: Supervised Learning Model\n",
    "\n",
    "Now that you've found which parts of the population are more likely to be customers of the mail-order company, it's time to build a prediction model. Each of the rows in the \"MAILOUT\" data files represents an individual that was targeted for a mailout campaign. Ideally, we should be able to use the demographic information from each individual to decide whether or not it will be worth it to include that person in the campaign.\n",
    "\n",
    "The \"MAILOUT\" data has been split into two approximately equal parts, each with almost 43 000 data rows. In this part, you can verify your model with the \"TRAIN\" partition, which includes a column, \"RESPONSE\", that states whether or not a person became a customer of the company following the campaign. In the next part, you'll need to create predictions on the \"TEST\" partition, where the \"RESPONSE\" column has been withheld."
   ]
  },
  {
   "cell_type": "markdown",
   "metadata": {},
   "source": [
    "### 2.1. Exploration of the train dataset"
   ]
  },
  {
   "cell_type": "code",
   "execution_count": 182,
   "metadata": {},
   "outputs": [
    {
     "name": "stderr",
     "output_type": "stream",
     "text": [
      "/opt/conda/lib/python3.6/site-packages/IPython/core/interactiveshell.py:2785: DtypeWarning: Columns (18,19) have mixed types. Specify dtype option on import or set low_memory=False.\n",
      "  interactivity=interactivity, compiler=compiler, result=result)\n"
     ]
    }
   ],
   "source": [
    "mailout_train = pd.read_csv('../../data/Term2/capstone/arvato_data/Udacity_MAILOUT_052018_TRAIN.csv', sep=';')"
   ]
  },
  {
   "cell_type": "code",
   "execution_count": 183,
   "metadata": {},
   "outputs": [
    {
     "data": {
      "text/plain": [
       "(42962, 367)"
      ]
     },
     "execution_count": 183,
     "metadata": {},
     "output_type": "execute_result"
    }
   ],
   "source": [
    "mailout_train.shape"
   ]
  },
  {
   "cell_type": "code",
   "execution_count": 184,
   "metadata": {},
   "outputs": [
    {
     "data": {
      "text/html": [
       "<div>\n",
       "<style scoped>\n",
       "    .dataframe tbody tr th:only-of-type {\n",
       "        vertical-align: middle;\n",
       "    }\n",
       "\n",
       "    .dataframe tbody tr th {\n",
       "        vertical-align: top;\n",
       "    }\n",
       "\n",
       "    .dataframe thead th {\n",
       "        text-align: right;\n",
       "    }\n",
       "</style>\n",
       "<table border=\"1\" class=\"dataframe\">\n",
       "  <thead>\n",
       "    <tr style=\"text-align: right;\">\n",
       "      <th></th>\n",
       "      <th>LNR</th>\n",
       "      <th>AGER_TYP</th>\n",
       "      <th>AKT_DAT_KL</th>\n",
       "      <th>ALTER_HH</th>\n",
       "      <th>ALTER_KIND1</th>\n",
       "      <th>ALTER_KIND2</th>\n",
       "      <th>ALTER_KIND3</th>\n",
       "      <th>ALTER_KIND4</th>\n",
       "      <th>ALTERSKATEGORIE_FEIN</th>\n",
       "      <th>ANZ_HAUSHALTE_AKTIV</th>\n",
       "      <th>...</th>\n",
       "      <th>VK_DHT4A</th>\n",
       "      <th>VK_DISTANZ</th>\n",
       "      <th>VK_ZG11</th>\n",
       "      <th>W_KEIT_KIND_HH</th>\n",
       "      <th>WOHNDAUER_2008</th>\n",
       "      <th>WOHNLAGE</th>\n",
       "      <th>ZABEOTYP</th>\n",
       "      <th>RESPONSE</th>\n",
       "      <th>ANREDE_KZ</th>\n",
       "      <th>ALTERSKATEGORIE_GROB</th>\n",
       "    </tr>\n",
       "  </thead>\n",
       "  <tbody>\n",
       "    <tr>\n",
       "      <th>0</th>\n",
       "      <td>1763</td>\n",
       "      <td>2</td>\n",
       "      <td>1.0</td>\n",
       "      <td>8.0</td>\n",
       "      <td>NaN</td>\n",
       "      <td>NaN</td>\n",
       "      <td>NaN</td>\n",
       "      <td>NaN</td>\n",
       "      <td>8.0</td>\n",
       "      <td>15.0</td>\n",
       "      <td>...</td>\n",
       "      <td>5.0</td>\n",
       "      <td>2.0</td>\n",
       "      <td>1.0</td>\n",
       "      <td>6.0</td>\n",
       "      <td>9.0</td>\n",
       "      <td>3.0</td>\n",
       "      <td>3</td>\n",
       "      <td>0</td>\n",
       "      <td>2</td>\n",
       "      <td>4</td>\n",
       "    </tr>\n",
       "    <tr>\n",
       "      <th>1</th>\n",
       "      <td>1771</td>\n",
       "      <td>1</td>\n",
       "      <td>4.0</td>\n",
       "      <td>13.0</td>\n",
       "      <td>NaN</td>\n",
       "      <td>NaN</td>\n",
       "      <td>NaN</td>\n",
       "      <td>NaN</td>\n",
       "      <td>13.0</td>\n",
       "      <td>1.0</td>\n",
       "      <td>...</td>\n",
       "      <td>1.0</td>\n",
       "      <td>2.0</td>\n",
       "      <td>1.0</td>\n",
       "      <td>4.0</td>\n",
       "      <td>9.0</td>\n",
       "      <td>7.0</td>\n",
       "      <td>1</td>\n",
       "      <td>0</td>\n",
       "      <td>2</td>\n",
       "      <td>3</td>\n",
       "    </tr>\n",
       "    <tr>\n",
       "      <th>2</th>\n",
       "      <td>1776</td>\n",
       "      <td>1</td>\n",
       "      <td>1.0</td>\n",
       "      <td>9.0</td>\n",
       "      <td>NaN</td>\n",
       "      <td>NaN</td>\n",
       "      <td>NaN</td>\n",
       "      <td>NaN</td>\n",
       "      <td>7.0</td>\n",
       "      <td>0.0</td>\n",
       "      <td>...</td>\n",
       "      <td>6.0</td>\n",
       "      <td>4.0</td>\n",
       "      <td>2.0</td>\n",
       "      <td>NaN</td>\n",
       "      <td>9.0</td>\n",
       "      <td>2.0</td>\n",
       "      <td>3</td>\n",
       "      <td>0</td>\n",
       "      <td>1</td>\n",
       "      <td>4</td>\n",
       "    </tr>\n",
       "    <tr>\n",
       "      <th>3</th>\n",
       "      <td>1460</td>\n",
       "      <td>2</td>\n",
       "      <td>1.0</td>\n",
       "      <td>6.0</td>\n",
       "      <td>NaN</td>\n",
       "      <td>NaN</td>\n",
       "      <td>NaN</td>\n",
       "      <td>NaN</td>\n",
       "      <td>6.0</td>\n",
       "      <td>4.0</td>\n",
       "      <td>...</td>\n",
       "      <td>8.0</td>\n",
       "      <td>11.0</td>\n",
       "      <td>11.0</td>\n",
       "      <td>6.0</td>\n",
       "      <td>9.0</td>\n",
       "      <td>1.0</td>\n",
       "      <td>3</td>\n",
       "      <td>0</td>\n",
       "      <td>2</td>\n",
       "      <td>4</td>\n",
       "    </tr>\n",
       "    <tr>\n",
       "      <th>4</th>\n",
       "      <td>1783</td>\n",
       "      <td>2</td>\n",
       "      <td>1.0</td>\n",
       "      <td>9.0</td>\n",
       "      <td>NaN</td>\n",
       "      <td>NaN</td>\n",
       "      <td>NaN</td>\n",
       "      <td>NaN</td>\n",
       "      <td>9.0</td>\n",
       "      <td>53.0</td>\n",
       "      <td>...</td>\n",
       "      <td>2.0</td>\n",
       "      <td>2.0</td>\n",
       "      <td>1.0</td>\n",
       "      <td>6.0</td>\n",
       "      <td>9.0</td>\n",
       "      <td>3.0</td>\n",
       "      <td>3</td>\n",
       "      <td>0</td>\n",
       "      <td>1</td>\n",
       "      <td>3</td>\n",
       "    </tr>\n",
       "  </tbody>\n",
       "</table>\n",
       "<p>5 rows × 367 columns</p>\n",
       "</div>"
      ],
      "text/plain": [
       "    LNR  AGER_TYP  AKT_DAT_KL  ALTER_HH  ALTER_KIND1  ALTER_KIND2  \\\n",
       "0  1763         2         1.0       8.0          NaN          NaN   \n",
       "1  1771         1         4.0      13.0          NaN          NaN   \n",
       "2  1776         1         1.0       9.0          NaN          NaN   \n",
       "3  1460         2         1.0       6.0          NaN          NaN   \n",
       "4  1783         2         1.0       9.0          NaN          NaN   \n",
       "\n",
       "   ALTER_KIND3  ALTER_KIND4  ALTERSKATEGORIE_FEIN  ANZ_HAUSHALTE_AKTIV  \\\n",
       "0          NaN          NaN                   8.0                 15.0   \n",
       "1          NaN          NaN                  13.0                  1.0   \n",
       "2          NaN          NaN                   7.0                  0.0   \n",
       "3          NaN          NaN                   6.0                  4.0   \n",
       "4          NaN          NaN                   9.0                 53.0   \n",
       "\n",
       "          ...           VK_DHT4A  VK_DISTANZ  VK_ZG11  W_KEIT_KIND_HH  \\\n",
       "0         ...                5.0         2.0      1.0             6.0   \n",
       "1         ...                1.0         2.0      1.0             4.0   \n",
       "2         ...                6.0         4.0      2.0             NaN   \n",
       "3         ...                8.0        11.0     11.0             6.0   \n",
       "4         ...                2.0         2.0      1.0             6.0   \n",
       "\n",
       "   WOHNDAUER_2008  WOHNLAGE  ZABEOTYP RESPONSE ANREDE_KZ ALTERSKATEGORIE_GROB  \n",
       "0             9.0       3.0         3        0         2                    4  \n",
       "1             9.0       7.0         1        0         2                    3  \n",
       "2             9.0       2.0         3        0         1                    4  \n",
       "3             9.0       1.0         3        0         2                    4  \n",
       "4             9.0       3.0         3        0         1                    3  \n",
       "\n",
       "[5 rows x 367 columns]"
      ]
     },
     "execution_count": 184,
     "metadata": {},
     "output_type": "execute_result"
    }
   ],
   "source": [
    "mailout_train.head()"
   ]
  },
  {
   "cell_type": "code",
   "execution_count": 185,
   "metadata": {},
   "outputs": [
    {
     "data": {
      "text/plain": [
       "0    42430\n",
       "1      532\n",
       "Name: RESPONSE, dtype: int64"
      ]
     },
     "execution_count": 185,
     "metadata": {},
     "output_type": "execute_result"
    }
   ],
   "source": [
    "# number of responses in response column\n",
    "mailout_train['RESPONSE'].value_counts()"
   ]
  },
  {
   "cell_type": "code",
   "execution_count": 186,
   "metadata": {},
   "outputs": [
    {
     "data": {
      "text/plain": [
       "<matplotlib.axes._subplots.AxesSubplot at 0x7f6356cbea90>"
      ]
     },
     "execution_count": 186,
     "metadata": {},
     "output_type": "execute_result"
    },
    {
     "data": {
      "image/png": "[encoded data removed]",
      "text/plain": [
       "<matplotlib.figure.Figure at 0x7f6357048630>"
      ]
     },
     "metadata": {
      "needs_background": "light"
     },
     "output_type": "display_data"
    }
   ],
   "source": [
    "mailout_train['RESPONSE'].value_counts().plot(kind=\"bar\")"
   ]
  },
  {
   "cell_type": "markdown",
   "metadata": {},
   "source": [
    "As we can see bar chart above, there is a huge difference between response and no response. Our dataset is highly imbalanced."
   ]
  },
  {
   "cell_type": "markdown",
   "metadata": {},
   "source": [
    "***data_preprocessing function is modified related to response column. \n",
    "Outliers in response columns are not dropped and response column is not scaled.***"
   ]
  },
  {
   "cell_type": "code",
   "execution_count": 215,
   "metadata": {},
   "outputs": [],
   "source": [
    "def data_preprocessing_2 (df, df_name = None):\n",
    "    \"\"\"\n",
    "    data_preprocessing is modified related to response column. \n",
    "    Outliers in response columns are not dropped and response column is not scaled.\n",
    "    \n",
    "    Perform cleaning of demographics dataset by dropping missing columns and rows, reencoding, \n",
    "    completing missing values, and dropping correlated features\n",
    "    \n",
    "    Input: \n",
    "    df: Demographic dataset (DataFrame)\n",
    "    df_name: Name of dataframe (str)\n",
    "    \n",
    "    Output:\n",
    "    df_clean: Cleaned dataset (DataFrame)\n",
    "    \"\"\"\n",
    "    # Get copy of df\n",
    "    df_clean=df.copy()\n",
    "    \n",
    "    # Drop columns from customer dataset, which are not found in azdias dataset \n",
    "    if df_name=='customers':\n",
    "        df_clean.drop(columns= ['CUSTOMER_GROUP', 'ONLINE_PURCHASE', 'PRODUCT_GROUP'], inplace=True)\n",
    "        \n",
    "    # Drop columns which involve too many missing values\n",
    "    df_clean.drop(columns= ['ALTER_KIND1', 'ALTER_KIND2', 'ALTER_KIND3', 'ALTER_KIND4', 'EXTSEL992','KK_KUNDENTYP'], \n",
    "                  inplace=True)\n",
    "    \n",
    "    # Find the rows that include too many missing values and drop them if ratio of missing values more than 0.5\n",
    "    df_row_nan_mean=df_clean.isnull().mean(axis=1)\n",
    "    rows_to_drop=df_row_nan_mean[df_row_nan_mean>0.5].index\n",
    "    df_clean.drop(rows_to_drop, inplace=True)\n",
    "    \n",
    "    # Remove the columns which involve too many features\n",
    "    df_clean.drop(columns=[\"CAMEO_DEU_2015\", \"CAMEO_INTL_2015\", \"D19_LETZTER_KAUF_BRANCHE\"], inplace=True)\n",
    "    \n",
    "    # Change dtype of EINGEFUEGT_AM column from object to datetime and extract only year\n",
    "    df_clean[\"EINGEFUEGT_AM\"]=pd.to_datetime(df_clean[\"EINGEFUEGT_AM\"])\n",
    "    df_clean[\"EINGEFUEGT_AM\"]=pd.DatetimeIndex(df_clean[\"EINGEFUEGT_AM\"]).year\n",
    "    \n",
    "    # Convert categorical column to encoded\n",
    "    df_clean[\"CAMEO_DEUG_2015\"]=pd.factorize(df_clean[\"CAMEO_DEUG_2015\"])[0]\n",
    "    \n",
    "    # Convert categorical column to encoded\n",
    "    df_clean=pd.get_dummies(df_clean, drop_first=True)\n",
    "        \n",
    "    # Impute missing values with mode value\n",
    "    imputer = Imputer(strategy='most_frequent')\n",
    "    df_clean=pd.DataFrame(imputer.fit_transform(df_clean), columns = df_clean.columns)\n",
    "    \n",
    "    # Identify and remove 45 correlated features\n",
    "    \n",
    "    df_clean.drop(columns=['ANZ_STATISTISCHE_HAUSHALTE', 'CJT_TYP_2', 'D19_BANKEN_ONLINE_DATUM', 'D19_BANKEN_ONLINE_QUOTE_12',\n",
    "    'D19_GESAMT_ANZ_24', 'D19_GESAMT_DATUM', 'D19_GESAMT_ONLINE_DATUM', 'D19_GESAMT_ONLINE_QUOTE_12',\n",
    "    'D19_KONSUMTYP_MAX', 'D19_VERSAND_ANZ_12', 'D19_VERSAND_ANZ_24', 'D19_VERSAND_DATUM', 'D19_VERSAND_ONLINE_DATUM',\n",
    "    'D19_VERSAND_ONLINE_QUOTE_12', 'KBA05_KRSAQUOT', 'KBA05_KRSHERST1', 'KBA05_KRSHERST2', 'KBA05_KRSHERST3',\n",
    "    'KBA05_SEG2', 'KBA05_SEG5', 'KBA05_SEG6', 'KBA05_SEG9', 'KBA05_ZUL4', 'KBA13_HALTER_40', 'KBA13_HALTER_55',\n",
    "    'KBA13_HALTER_66', 'KBA13_HERST_SONST', 'KBA13_KMH_250', 'KBA13_SITZE_5', 'KBA13_VW', 'LP_FAMILIE_GROB',\n",
    "    'LP_LEBENSPHASE_FEIN', 'LP_LEBENSPHASE_GROB', 'LP_STATUS_GROB', 'MIN_GEBAEUDEJAHR', 'ORTSGR_KLS9', 'PLZ8_ANTG1',\n",
    "    'PLZ8_ANTG3', 'PLZ8_ANTG4', 'PLZ8_BAUMAX', 'PLZ8_GBZ', 'PLZ8_HHZ', 'VK_DISTANZ', 'VK_ZG11', 'ANREDE_KZ'], inplace=True)\n",
    "    \n",
    "    if \"RESPONSE\" in df_clean.columns:\n",
    "        \n",
    "        # Remove outliers from dataset by using z score\n",
    "        z = np.abs(stats.zscore(df_clean.drop(columns=['RESPONSE'])))\n",
    "        df_clean = df_clean[(z < 6).all(axis=1)]\n",
    "        df_clean.reset_index(drop=True, inplace=True)\n",
    "        \n",
    "        # Standardization of dataset\n",
    "        lnr=df_clean['LNR']\n",
    "        response=df_clean['RESPONSE']\n",
    "        scaler = StandardScaler()    \n",
    "        df_clean=pd.DataFrame(scaler.fit_transform(df_clean), columns = df_clean.columns)\n",
    "        df_clean['RESPONSE']=response\n",
    "        df_clean['LNR']=lnr\n",
    "        \n",
    "        \n",
    "    else:\n",
    "        # Remove outliers from dataset by using z score\n",
    "        z = np.abs(stats.zscore(df_clean))\n",
    "        df_clean = df_clean[(z < 6).all(axis=1)]\n",
    "        df_clean.reset_index(drop=True, inplace=True)\n",
    "\n",
    "        # Standardization of dataset\n",
    "        lnr=df_clean['LNR']\n",
    "        scaler = StandardScaler()\n",
    "        df_clean=pd.DataFrame(scaler.fit_transform(df_clean), columns = df_clean.columns)\n",
    "        df_clean['LNR']=lnr\n",
    "   \n",
    "    # set index LNR column\n",
    "    df_clean.set_index(\"LNR\", inplace=True)\n",
    "\n",
    "    return df_clean"
   ]
  },
  {
   "cell_type": "code",
   "execution_count": 216,
   "metadata": {},
   "outputs": [],
   "source": [
    "# preprocessing of train dataset\n",
    "mailout_train_clean = data_preprocessing_2(mailout_train)"
   ]
  },
  {
   "cell_type": "code",
   "execution_count": 217,
   "metadata": {},
   "outputs": [
    {
     "data": {
      "text/plain": [
       "(42962, 367)"
      ]
     },
     "execution_count": 217,
     "metadata": {},
     "output_type": "execute_result"
    }
   ],
   "source": [
    "mailout_train.shape"
   ]
  },
  {
   "cell_type": "code",
   "execution_count": 218,
   "metadata": {},
   "outputs": [
    {
     "data": {
      "text/plain": [
       "(30506, 312)"
      ]
     },
     "execution_count": 218,
     "metadata": {},
     "output_type": "execute_result"
    }
   ],
   "source": [
    "mailout_train_clean.shape"
   ]
  },
  {
   "cell_type": "code",
   "execution_count": 219,
   "metadata": {},
   "outputs": [
    {
     "data": {
      "text/plain": [
       "0.0    30126\n",
       "1.0      380\n",
       "Name: RESPONSE, dtype: int64"
      ]
     },
     "execution_count": 219,
     "metadata": {},
     "output_type": "execute_result"
    }
   ],
   "source": [
    "# number of responses in response column in cleaned train data\n",
    "mailout_train_clean[\"RESPONSE\"].value_counts()"
   ]
  },
  {
   "cell_type": "markdown",
   "metadata": {},
   "source": [
    "### 2.2. Modelling"
   ]
  },
  {
   "cell_type": "code",
   "execution_count": 220,
   "metadata": {},
   "outputs": [],
   "source": [
    "X = mailout_train_clean.drop(columns=['RESPONSE'])\n",
    "y= mailout_train_clean['RESPONSE']"
   ]
  },
  {
   "cell_type": "code",
   "execution_count": 221,
   "metadata": {},
   "outputs": [],
   "source": [
    "# spliting dataset as train and validation sets\n",
    "X_train, X_test, y_train, y_test = train_test_split(X, y, test_size=0.3, random_state=0)"
   ]
  },
  {
   "cell_type": "markdown",
   "metadata": {},
   "source": [
    "It is requested to get probabilities rather than labels. So, we will use regression models instead of classification models."
   ]
  },
  {
   "cell_type": "markdown",
   "metadata": {},
   "source": [
    "#### 2.2.1. AUC-ROC XGBRegressor model"
   ]
  },
  {
   "cell_type": "code",
   "execution_count": 266,
   "metadata": {},
   "outputs": [
    {
     "name": "stdout",
     "output_type": "stream",
     "text": [
      "[0]\tvalidation_0-auc:0.80076\tvalidation_1-auc:0.76644\n",
      "[1]\tvalidation_0-auc:0.80082\tvalidation_1-auc:0.76646\n",
      "[2]\tvalidation_0-auc:0.80527\tvalidation_1-auc:0.76670\n",
      "[3]\tvalidation_0-auc:0.81083\tvalidation_1-auc:0.76171\n",
      "[4]\tvalidation_0-auc:0.81090\tvalidation_1-auc:0.76200\n",
      "[5]\tvalidation_0-auc:0.81129\tvalidation_1-auc:0.76162\n",
      "[6]\tvalidation_0-auc:0.81330\tvalidation_1-auc:0.76060\n",
      "[7]\tvalidation_0-auc:0.81228\tvalidation_1-auc:0.76109\n",
      "[8]\tvalidation_0-auc:0.81364\tvalidation_1-auc:0.76078\n",
      "[9]\tvalidation_0-auc:0.81489\tvalidation_1-auc:0.75926\n",
      "[10]\tvalidation_0-auc:0.81683\tvalidation_1-auc:0.75979\n",
      "[11]\tvalidation_0-auc:0.81654\tvalidation_1-auc:0.76045\n",
      "[12]\tvalidation_0-auc:0.81764\tvalidation_1-auc:0.76128\n",
      "[13]\tvalidation_0-auc:0.81900\tvalidation_1-auc:0.76000\n",
      "[14]\tvalidation_0-auc:0.82044\tvalidation_1-auc:0.76032\n",
      "[15]\tvalidation_0-auc:0.82050\tvalidation_1-auc:0.76074\n",
      "[16]\tvalidation_0-auc:0.82135\tvalidation_1-auc:0.76348\n",
      "[17]\tvalidation_0-auc:0.82146\tvalidation_1-auc:0.76284\n",
      "[18]\tvalidation_0-auc:0.82202\tvalidation_1-auc:0.76305\n",
      "[19]\tvalidation_0-auc:0.82432\tvalidation_1-auc:0.76426\n",
      "[20]\tvalidation_0-auc:0.82456\tvalidation_1-auc:0.76501\n",
      "[21]\tvalidation_0-auc:0.82508\tvalidation_1-auc:0.76609\n",
      "[22]\tvalidation_0-auc:0.82537\tvalidation_1-auc:0.76503\n",
      "[23]\tvalidation_0-auc:0.82556\tvalidation_1-auc:0.76633\n",
      "[24]\tvalidation_0-auc:0.82672\tvalidation_1-auc:0.76614\n",
      "[25]\tvalidation_0-auc:0.82690\tvalidation_1-auc:0.76627\n",
      "[26]\tvalidation_0-auc:0.82736\tvalidation_1-auc:0.76724\n",
      "[27]\tvalidation_0-auc:0.82771\tvalidation_1-auc:0.76755\n",
      "[28]\tvalidation_0-auc:0.82782\tvalidation_1-auc:0.76674\n",
      "[29]\tvalidation_0-auc:0.82781\tvalidation_1-auc:0.76705\n",
      "[30]\tvalidation_0-auc:0.82930\tvalidation_1-auc:0.76605\n",
      "[31]\tvalidation_0-auc:0.82949\tvalidation_1-auc:0.76618\n",
      "[32]\tvalidation_0-auc:0.82980\tvalidation_1-auc:0.76644\n",
      "[33]\tvalidation_0-auc:0.83213\tvalidation_1-auc:0.76745\n",
      "[34]\tvalidation_0-auc:0.83194\tvalidation_1-auc:0.76701\n",
      "[35]\tvalidation_0-auc:0.83195\tvalidation_1-auc:0.76708\n",
      "[36]\tvalidation_0-auc:0.83312\tvalidation_1-auc:0.76809\n",
      "[37]\tvalidation_0-auc:0.83372\tvalidation_1-auc:0.76815\n",
      "[38]\tvalidation_0-auc:0.83392\tvalidation_1-auc:0.76845\n",
      "[39]\tvalidation_0-auc:0.83494\tvalidation_1-auc:0.76886\n",
      "[40]\tvalidation_0-auc:0.83586\tvalidation_1-auc:0.77026\n",
      "[41]\tvalidation_0-auc:0.83628\tvalidation_1-auc:0.77097\n",
      "[42]\tvalidation_0-auc:0.83632\tvalidation_1-auc:0.77112\n",
      "[43]\tvalidation_0-auc:0.83660\tvalidation_1-auc:0.77167\n",
      "[44]\tvalidation_0-auc:0.83878\tvalidation_1-auc:0.77242\n",
      "[45]\tvalidation_0-auc:0.83893\tvalidation_1-auc:0.77223\n",
      "[46]\tvalidation_0-auc:0.83945\tvalidation_1-auc:0.77325\n",
      "[47]\tvalidation_0-auc:0.83972\tvalidation_1-auc:0.77361\n",
      "[48]\tvalidation_0-auc:0.84059\tvalidation_1-auc:0.77456\n",
      "[49]\tvalidation_0-auc:0.84075\tvalidation_1-auc:0.77484\n",
      "[50]\tvalidation_0-auc:0.84198\tvalidation_1-auc:0.77465\n",
      "[51]\tvalidation_0-auc:0.84201\tvalidation_1-auc:0.77465\n",
      "[52]\tvalidation_0-auc:0.84309\tvalidation_1-auc:0.77437\n",
      "[53]\tvalidation_0-auc:0.84386\tvalidation_1-auc:0.77404\n",
      "[54]\tvalidation_0-auc:0.84406\tvalidation_1-auc:0.77414\n",
      "[55]\tvalidation_0-auc:0.84452\tvalidation_1-auc:0.77487\n",
      "[56]\tvalidation_0-auc:0.84507\tvalidation_1-auc:0.77481\n",
      "[57]\tvalidation_0-auc:0.84646\tvalidation_1-auc:0.77470\n",
      "[58]\tvalidation_0-auc:0.84706\tvalidation_1-auc:0.77460\n",
      "[59]\tvalidation_0-auc:0.84757\tvalidation_1-auc:0.77462\n",
      "[60]\tvalidation_0-auc:0.84791\tvalidation_1-auc:0.77536\n",
      "[61]\tvalidation_0-auc:0.84787\tvalidation_1-auc:0.77530\n",
      "[62]\tvalidation_0-auc:0.84815\tvalidation_1-auc:0.77523\n",
      "[63]\tvalidation_0-auc:0.84952\tvalidation_1-auc:0.77534\n",
      "[64]\tvalidation_0-auc:0.84961\tvalidation_1-auc:0.77516\n",
      "[65]\tvalidation_0-auc:0.84960\tvalidation_1-auc:0.77514\n",
      "[66]\tvalidation_0-auc:0.85019\tvalidation_1-auc:0.77563\n",
      "[67]\tvalidation_0-auc:0.85124\tvalidation_1-auc:0.77567\n",
      "[68]\tvalidation_0-auc:0.85782\tvalidation_1-auc:0.77701\n",
      "[69]\tvalidation_0-auc:0.86039\tvalidation_1-auc:0.77714\n",
      "[70]\tvalidation_0-auc:0.86365\tvalidation_1-auc:0.77894\n",
      "[71]\tvalidation_0-auc:0.86531\tvalidation_1-auc:0.77918\n",
      "[72]\tvalidation_0-auc:0.87034\tvalidation_1-auc:0.78183\n",
      "[73]\tvalidation_0-auc:0.87216\tvalidation_1-auc:0.78232\n",
      "[74]\tvalidation_0-auc:0.87271\tvalidation_1-auc:0.78248\n",
      "[75]\tvalidation_0-auc:0.87433\tvalidation_1-auc:0.78232\n",
      "[76]\tvalidation_0-auc:0.87526\tvalidation_1-auc:0.78250\n",
      "[77]\tvalidation_0-auc:0.87592\tvalidation_1-auc:0.78264\n",
      "[78]\tvalidation_0-auc:0.87882\tvalidation_1-auc:0.78393\n",
      "[79]\tvalidation_0-auc:0.87912\tvalidation_1-auc:0.78392\n",
      "[80]\tvalidation_0-auc:0.88057\tvalidation_1-auc:0.78479\n",
      "[81]\tvalidation_0-auc:0.88079\tvalidation_1-auc:0.78488\n",
      "[82]\tvalidation_0-auc:0.88130\tvalidation_1-auc:0.78499\n",
      "[83]\tvalidation_0-auc:0.88209\tvalidation_1-auc:0.78507\n",
      "[84]\tvalidation_0-auc:0.88289\tvalidation_1-auc:0.78548\n",
      "[85]\tvalidation_0-auc:0.88422\tvalidation_1-auc:0.78519\n",
      "[86]\tvalidation_0-auc:0.88437\tvalidation_1-auc:0.78504\n",
      "[87]\tvalidation_0-auc:0.89428\tvalidation_1-auc:0.78286\n",
      "[88]\tvalidation_0-auc:0.89462\tvalidation_1-auc:0.78322\n",
      "[89]\tvalidation_0-auc:0.89480\tvalidation_1-auc:0.78357\n",
      "[90]\tvalidation_0-auc:0.89550\tvalidation_1-auc:0.78373\n",
      "[91]\tvalidation_0-auc:0.89650\tvalidation_1-auc:0.78390\n",
      "[92]\tvalidation_0-auc:0.89679\tvalidation_1-auc:0.78400\n",
      "[93]\tvalidation_0-auc:0.89771\tvalidation_1-auc:0.78388\n",
      "[94]\tvalidation_0-auc:0.89929\tvalidation_1-auc:0.78403\n",
      "[95]\tvalidation_0-auc:0.89967\tvalidation_1-auc:0.78372\n",
      "[96]\tvalidation_0-auc:0.90014\tvalidation_1-auc:0.78411\n",
      "[97]\tvalidation_0-auc:0.90023\tvalidation_1-auc:0.78429\n",
      "[98]\tvalidation_0-auc:0.90043\tvalidation_1-auc:0.78459\n",
      "[99]\tvalidation_0-auc:0.90076\tvalidation_1-auc:0.78476\n",
      "[100]\tvalidation_0-auc:0.90603\tvalidation_1-auc:0.78525\n",
      "[101]\tvalidation_0-auc:0.90713\tvalidation_1-auc:0.78656\n",
      "[102]\tvalidation_0-auc:0.90843\tvalidation_1-auc:0.78690\n",
      "[103]\tvalidation_0-auc:0.90890\tvalidation_1-auc:0.78734\n",
      "[104]\tvalidation_0-auc:0.90974\tvalidation_1-auc:0.78772\n",
      "[105]\tvalidation_0-auc:0.91098\tvalidation_1-auc:0.78724\n",
      "[106]\tvalidation_0-auc:0.91205\tvalidation_1-auc:0.78764\n",
      "[107]\tvalidation_0-auc:0.91270\tvalidation_1-auc:0.78814\n",
      "[108]\tvalidation_0-auc:0.91322\tvalidation_1-auc:0.78823\n",
      "[109]\tvalidation_0-auc:0.91390\tvalidation_1-auc:0.78832\n",
      "[110]\tvalidation_0-auc:0.91441\tvalidation_1-auc:0.78857\n",
      "[111]\tvalidation_0-auc:0.91936\tvalidation_1-auc:0.79409\n",
      "[112]\tvalidation_0-auc:0.92016\tvalidation_1-auc:0.79370\n",
      "[113]\tvalidation_0-auc:0.92046\tvalidation_1-auc:0.79357\n",
      "[114]\tvalidation_0-auc:0.92135\tvalidation_1-auc:0.79335\n",
      "[115]\tvalidation_0-auc:0.92183\tvalidation_1-auc:0.79342\n",
      "[116]\tvalidation_0-auc:0.92253\tvalidation_1-auc:0.79342\n",
      "[117]\tvalidation_0-auc:0.92277\tvalidation_1-auc:0.79339\n",
      "[118]\tvalidation_0-auc:0.92348\tvalidation_1-auc:0.79279\n",
      "[119]\tvalidation_0-auc:0.92330\tvalidation_1-auc:0.79084\n",
      "[120]\tvalidation_0-auc:0.92378\tvalidation_1-auc:0.79061\n",
      "[121]\tvalidation_0-auc:0.92406\tvalidation_1-auc:0.79043\n",
      "[122]\tvalidation_0-auc:0.92621\tvalidation_1-auc:0.79056\n",
      "[123]\tvalidation_0-auc:0.92682\tvalidation_1-auc:0.79061\n",
      "[124]\tvalidation_0-auc:0.92731\tvalidation_1-auc:0.79083\n",
      "[125]\tvalidation_0-auc:0.92887\tvalidation_1-auc:0.78997\n",
      "[126]\tvalidation_0-auc:0.93180\tvalidation_1-auc:0.79189\n",
      "[127]\tvalidation_0-auc:0.93259\tvalidation_1-auc:0.79209\n",
      "[128]\tvalidation_0-auc:0.93421\tvalidation_1-auc:0.79235\n",
      "[129]\tvalidation_0-auc:0.93481\tvalidation_1-auc:0.79241\n",
      "[130]\tvalidation_0-auc:0.93452\tvalidation_1-auc:0.79529\n",
      "[131]\tvalidation_0-auc:0.93503\tvalidation_1-auc:0.79515\n",
      "[132]\tvalidation_0-auc:0.93527\tvalidation_1-auc:0.79486\n",
      "[133]\tvalidation_0-auc:0.93623\tvalidation_1-auc:0.79496\n",
      "[134]\tvalidation_0-auc:0.93739\tvalidation_1-auc:0.79308\n",
      "[135]\tvalidation_0-auc:0.93787\tvalidation_1-auc:0.79340\n",
      "[136]\tvalidation_0-auc:0.93992\tvalidation_1-auc:0.79322\n",
      "[137]\tvalidation_0-auc:0.94021\tvalidation_1-auc:0.79191\n",
      "[138]\tvalidation_0-auc:0.94050\tvalidation_1-auc:0.79335\n",
      "[139]\tvalidation_0-auc:0.94110\tvalidation_1-auc:0.79159\n",
      "[140]\tvalidation_0-auc:0.94277\tvalidation_1-auc:0.79405\n",
      "[141]\tvalidation_0-auc:0.94317\tvalidation_1-auc:0.79434\n",
      "[142]\tvalidation_0-auc:0.94342\tvalidation_1-auc:0.79424\n",
      "[143]\tvalidation_0-auc:0.94403\tvalidation_1-auc:0.79558\n",
      "[144]\tvalidation_0-auc:0.94472\tvalidation_1-auc:0.79457\n",
      "[145]\tvalidation_0-auc:0.94612\tvalidation_1-auc:0.79490\n",
      "[146]\tvalidation_0-auc:0.94737\tvalidation_1-auc:0.79478\n",
      "[147]\tvalidation_0-auc:0.94811\tvalidation_1-auc:0.79460\n",
      "[148]\tvalidation_0-auc:0.94881\tvalidation_1-auc:0.79474\n"
     ]
    },
    {
     "name": "stdout",
     "output_type": "stream",
     "text": [
      "[149]\tvalidation_0-auc:0.94997\tvalidation_1-auc:0.79353\n",
      "[150]\tvalidation_0-auc:0.95281\tvalidation_1-auc:0.79734\n",
      "[151]\tvalidation_0-auc:0.95333\tvalidation_1-auc:0.79647\n",
      "[152]\tvalidation_0-auc:0.95476\tvalidation_1-auc:0.79887\n",
      "[153]\tvalidation_0-auc:0.95641\tvalidation_1-auc:0.79898\n",
      "[154]\tvalidation_0-auc:0.95735\tvalidation_1-auc:0.79844\n",
      "[155]\tvalidation_0-auc:0.95840\tvalidation_1-auc:0.79908\n",
      "[156]\tvalidation_0-auc:0.95889\tvalidation_1-auc:0.79911\n",
      "[157]\tvalidation_0-auc:0.95983\tvalidation_1-auc:0.79870\n",
      "[158]\tvalidation_0-auc:0.96035\tvalidation_1-auc:0.79930\n",
      "[159]\tvalidation_0-auc:0.96103\tvalidation_1-auc:0.79909\n",
      "[160]\tvalidation_0-auc:0.96145\tvalidation_1-auc:0.79824\n",
      "[161]\tvalidation_0-auc:0.96200\tvalidation_1-auc:0.79849\n",
      "[162]\tvalidation_0-auc:0.96240\tvalidation_1-auc:0.79791\n",
      "[163]\tvalidation_0-auc:0.96281\tvalidation_1-auc:0.79795\n",
      "[164]\tvalidation_0-auc:0.96320\tvalidation_1-auc:0.79780\n",
      "[165]\tvalidation_0-auc:0.96362\tvalidation_1-auc:0.79795\n",
      "[166]\tvalidation_0-auc:0.96422\tvalidation_1-auc:0.79810\n",
      "[167]\tvalidation_0-auc:0.96449\tvalidation_1-auc:0.79798\n",
      "[168]\tvalidation_0-auc:0.96467\tvalidation_1-auc:0.79753\n",
      "[169]\tvalidation_0-auc:0.96499\tvalidation_1-auc:0.79737\n",
      "[170]\tvalidation_0-auc:0.96537\tvalidation_1-auc:0.79684\n",
      "[171]\tvalidation_0-auc:0.96568\tvalidation_1-auc:0.79682\n",
      "[172]\tvalidation_0-auc:0.96586\tvalidation_1-auc:0.79662\n",
      "[173]\tvalidation_0-auc:0.96598\tvalidation_1-auc:0.79661\n",
      "[174]\tvalidation_0-auc:0.96648\tvalidation_1-auc:0.79708\n",
      "[175]\tvalidation_0-auc:0.96673\tvalidation_1-auc:0.79673\n",
      "[176]\tvalidation_0-auc:0.96757\tvalidation_1-auc:0.79644\n",
      "[177]\tvalidation_0-auc:0.96769\tvalidation_1-auc:0.79614\n",
      "[178]\tvalidation_0-auc:0.96839\tvalidation_1-auc:0.79605\n",
      "[179]\tvalidation_0-auc:0.96849\tvalidation_1-auc:0.79608\n",
      "[180]\tvalidation_0-auc:0.96912\tvalidation_1-auc:0.79574\n",
      "[181]\tvalidation_0-auc:0.96993\tvalidation_1-auc:0.79565\n",
      "[182]\tvalidation_0-auc:0.97042\tvalidation_1-auc:0.79563\n",
      "[183]\tvalidation_0-auc:0.97055\tvalidation_1-auc:0.79518\n",
      "[184]\tvalidation_0-auc:0.97122\tvalidation_1-auc:0.79481\n",
      "[185]\tvalidation_0-auc:0.97133\tvalidation_1-auc:0.79437\n",
      "[186]\tvalidation_0-auc:0.97187\tvalidation_1-auc:0.79441\n",
      "[187]\tvalidation_0-auc:0.97213\tvalidation_1-auc:0.79374\n",
      "[188]\tvalidation_0-auc:0.97253\tvalidation_1-auc:0.79377\n",
      "[189]\tvalidation_0-auc:0.97293\tvalidation_1-auc:0.79482\n",
      "[190]\tvalidation_0-auc:0.97300\tvalidation_1-auc:0.79442\n",
      "[191]\tvalidation_0-auc:0.97335\tvalidation_1-auc:0.79411\n",
      "[192]\tvalidation_0-auc:0.97357\tvalidation_1-auc:0.79371\n",
      "[193]\tvalidation_0-auc:0.97382\tvalidation_1-auc:0.79360\n",
      "[194]\tvalidation_0-auc:0.97420\tvalidation_1-auc:0.79444\n",
      "[195]\tvalidation_0-auc:0.97462\tvalidation_1-auc:0.79479\n",
      "[196]\tvalidation_0-auc:0.97480\tvalidation_1-auc:0.79486\n",
      "[197]\tvalidation_0-auc:0.97522\tvalidation_1-auc:0.79527\n",
      "[198]\tvalidation_0-auc:0.97601\tvalidation_1-auc:0.79458\n",
      "[199]\tvalidation_0-auc:0.97629\tvalidation_1-auc:0.79453\n"
     ]
    },
    {
     "data": {
      "text/plain": [
       "XGBRegressor(base_score=0.5, booster='gbtree', colsample_bylevel=1,\n",
       "       colsample_bynode=1, colsample_bytree=1, gamma=0, gpu_id=-1,\n",
       "       importance_type='gain', interaction_constraints='',\n",
       "       learning_rate=0.01, max_delta_step=0, max_depth=6,\n",
       "       min_child_weight=1, missing=nan, monotone_constraints='()',\n",
       "       n_estimators=200, n_jobs=1, num_parallel_tree=1,\n",
       "       objective='reg:squarederror', random_state=0, reg_alpha=0,\n",
       "       reg_lambda=1, scale_pos_weight=1, subsample=1, tree_method='exact',\n",
       "       validate_parameters=1, verbosity=None)"
      ]
     },
     "execution_count": 266,
     "metadata": {},
     "output_type": "execute_result"
    }
   ],
   "source": [
    "# fitting XGBRegressor model with train dataset\n",
    "eval_set = [(X_train, y_train), (X_test, y_test)]\n",
    "clf_reg = xgb.XGBRegressor(n_estimators=200, learning_rate=0.01)\n",
    "clf_reg.fit(X_train, y_train, eval_set=eval_set,\n",
    "          eval_metric=\"auc\", verbose=True, early_stopping_rounds=100)"
   ]
  },
  {
   "cell_type": "code",
   "execution_count": 267,
   "metadata": {},
   "outputs": [
    {
     "data": {
      "text/plain": [
       "0.96034761053022244"
      ]
     },
     "execution_count": 267,
     "metadata": {},
     "output_type": "execute_result"
    }
   ],
   "source": [
    "# roc_auc score for train data\n",
    "roc_auc_score(y_train, clf_reg.predict(X_train))"
   ]
  },
  {
   "cell_type": "code",
   "execution_count": 268,
   "metadata": {},
   "outputs": [
    {
     "data": {
      "text/plain": [
       "0.7992981921197827"
      ]
     },
     "execution_count": 268,
     "metadata": {},
     "output_type": "execute_result"
    }
   ],
   "source": [
    "# roc_auc score for test data\n",
    "roc_auc_score(y_test, clf_reg.predict(X_test))"
   ]
  },
  {
   "cell_type": "markdown",
   "metadata": {},
   "source": [
    "#### 2.2.2. AUC-ROC Curve"
   ]
  },
  {
   "cell_type": "code",
   "execution_count": 225,
   "metadata": {},
   "outputs": [],
   "source": [
    "def plot_roc_curve(classifier, X_train, X_test, y_train, y_test):\n",
    "    \"\"\"\n",
    "    Plot train and test roc curve for the classifier \n",
    "    \n",
    "    Input: \n",
    "    X_train, X_test: Train and test dataset (DataFrame)\n",
    "    y_train, y_test: Train and test labels (array)\n",
    "    \n",
    "    Output:\n",
    "    return None\n",
    "    \"\"\"\n",
    "    # predicted values for train and test datasets\n",
    "    y_pred_train = classifier.predict(X_train)\n",
    "    y_pred_test = classifier.predict(X_test)\n",
    "    \n",
    "    # False positive and true positive rates calculation for predicted values\n",
    "    fpr_train, tpr_train, _train = roc_curve(y_train,  y_pred_train)\n",
    "    fpr_test, tpr_test, _test = roc_curve(y_test,  y_pred_test)\n",
    "    \n",
    "    # calculation of auc scores\n",
    "    auc_train = round(roc_auc_score(y_train, y_pred_train),2)\n",
    "    auc_test = round(roc_auc_score(y_test, y_pred_test),2)\n",
    "      \n",
    "    # plot\n",
    "    plt.plot(fpr_train, tpr_train, label=\"Train ROC curve area = \"+ str(auc_train))\n",
    "    plt.plot(fpr_test, tpr_test, label=\"Test ROC curve area = \"+ str(auc_test))\n",
    "    \n",
    "    plt.title(\"ROC Curve\")\n",
    "    plt.legend(loc=\"lower right\")\n",
    "    plt.xlabel('False Positive Rate (FPR)')\n",
    "    plt.ylabel('True Positive Rate (TPR)')"
   ]
  },
  {
   "cell_type": "code",
   "execution_count": 226,
   "metadata": {},
   "outputs": [
    {
     "data": {
      "image/png": "[encoded data removed]",
      "text/plain": [
       "<matplotlib.figure.Figure at 0x7f6356c8e278>"
      ]
     },
     "metadata": {
      "needs_background": "light"
     },
     "output_type": "display_data"
    }
   ],
   "source": [
    "plot_roc_curve(clf_reg, X_train, X_test, y_train, y_test)"
   ]
  },
  {
   "cell_type": "markdown",
   "metadata": {},
   "source": [
    "#### 2.2.3. Feature importance"
   ]
  },
  {
   "cell_type": "markdown",
   "metadata": {},
   "source": [
    "We can see most important features by using plot_importance of xgboost. First 20 features are plotted in bar graph."
   ]
  },
  {
   "cell_type": "code",
   "execution_count": 227,
   "metadata": {},
   "outputs": [
    {
     "data": {
      "text/plain": [
       "<matplotlib.axes._subplots.AxesSubplot at 0x7f634feefcf8>"
      ]
     },
     "execution_count": 227,
     "metadata": {},
     "output_type": "execute_result"
    },
    {
     "data": {
      "image/png": "[encoded data removed]",
      "text/plain": [
       "<matplotlib.figure.Figure at 0x7f6356cba240>"
      ]
     },
     "metadata": {
      "needs_background": "light"
     },
     "output_type": "display_data"
    }
   ],
   "source": [
    "fig, ax = plt.subplots(figsize=(20, 10))\n",
    "plot_importance(clf_reg, ax=ax, importance_type=\"gain\", max_num_features=20, show_values=False, grid=True) \n",
    "#importance_type=[‘weight’, ‘gain’, ‘cover’, ‘total_gain’, ‘total_cover’]"
   ]
  },
  {
   "cell_type": "markdown",
   "metadata": {},
   "source": [
    "#### 2.2.4. Fine tunning by using random search"
   ]
  },
  {
   "cell_type": "markdown",
   "metadata": {},
   "source": [
    "RandomizedSearchCV from sklearn selects random combinations and mostly it finds best parameters in shorter time than grid search which is exhaustive search over specified parameters."
   ]
  },
  {
   "cell_type": "code",
   "execution_count": 104,
   "metadata": {},
   "outputs": [],
   "source": [
    "# A parameter grid for XGBoost\n",
    "params = {\n",
    "        'min_child_weight': [1, 5, 10],\n",
    "        'gamma': [0.5, 1, 1.5, 2, 5],\n",
    "        'subsample': [0.6, 0.8, 1.0],\n",
    "        'colsample_bytree': [0.6, 0.8, 1.0],\n",
    "        'max_depth': [3, 4, 5]\n",
    "        }"
   ]
  },
  {
   "cell_type": "code",
   "execution_count": 79,
   "metadata": {},
   "outputs": [],
   "source": [
    "# create model with certain parameters\n",
    "xgb_reg2 = xgb.XGBRegressor(learning_rate=0.02, n_estimators=600, objective='binary:logistic',\n",
    "                    silent=True, nthread=1)"
   ]
  },
  {
   "cell_type": "code",
   "execution_count": 269,
   "metadata": {},
   "outputs": [],
   "source": [
    "# create random search with the model in roc auc score and wtih 4-fold cross validation\n",
    "random_search = RandomizedSearchCV(xgb_reg2, params, scoring='roc_auc', cv=4)\n",
    "\n",
    "# fitting model\n",
    "random_search.fit(X, y, eval_set=eval_set, eval_metric=\"auc\", verbose=True, early_stopping_rounds=30)"
   ]
  },
  {
   "cell_type": "code",
   "execution_count": 114,
   "metadata": {},
   "outputs": [
    {
     "data": {
      "text/plain": [
       "{'subsample': 0.6,\n",
       " 'min_child_weight': 1,\n",
       " 'max_depth': 4,\n",
       " 'gamma': 2,\n",
       " 'colsample_bytree': 0.8}"
      ]
     },
     "execution_count": 114,
     "metadata": {},
     "output_type": "execute_result"
    }
   ],
   "source": [
    "# best parameters for our model\n",
    "random_search.best_params_"
   ]
  },
  {
   "cell_type": "code",
   "execution_count": 116,
   "metadata": {},
   "outputs": [],
   "source": [
    "# the model got from random search with best result\n",
    "rs_model=random_search.best_estimator_"
   ]
  },
  {
   "cell_type": "code",
   "execution_count": 126,
   "metadata": {},
   "outputs": [
    {
     "data": {
      "text/plain": [
       "XGBRegressor(base_score=0.5, booster='gbtree', colsample_bylevel=1,\n",
       "             colsample_bynode=1, colsample_bytree=0.8, gamma=2, gpu_id=-1,\n",
       "             importance_type='gain', interaction_constraints='',\n",
       "             learning_rate=0.02, max_delta_step=0, max_depth=4,\n",
       "             min_child_weight=1, missing=nan, monotone_constraints='()',\n",
       "             n_estimators=600, n_jobs=1, nthread=1, num_parallel_tree=1,\n",
       "             objective='binary:logistic', random_state=0, reg_alpha=0,\n",
       "             reg_lambda=1, scale_pos_weight=1, silent=True, subsample=0.6,\n",
       "             tree_method='exact', validate_parameters=1, verbosity=None)"
      ]
     },
     "execution_count": 126,
     "metadata": {},
     "output_type": "execute_result"
    }
   ],
   "source": [
    "rs_model"
   ]
  },
  {
   "cell_type": "code",
   "execution_count": 119,
   "metadata": {},
   "outputs": [
    {
     "data": {
      "image/png": "[encoded data removed]",
      "text/plain": [
       "<matplotlib.figure.Figure at 0x7f27b8a846a0>"
      ]
     },
     "metadata": {
      "needs_background": "light"
     },
     "output_type": "display_data"
    }
   ],
   "source": [
    "# roc curve for best estimator\n",
    "plot_roc_curve(rs_model, X_train, X_test, y_train, y_test)"
   ]
  },
  {
   "cell_type": "markdown",
   "metadata": {},
   "source": [
    "It looks pretty good. However, this result for our validation dataset. So, prediction in the final test set the important one."
   ]
  },
  {
   "cell_type": "markdown",
   "metadata": {},
   "source": [
    "## Part 3: Kaggle Competition\n",
    "\n",
    "Now that you've created a model to predict which individuals are most likely to respond to a mailout campaign, it's time to test that model in competition through Kaggle. If you click on the link [here](http://www.kaggle.com/t/21e6d45d4c574c7fa2d868f0e8c83140), you'll be taken to the competition page where, if you have a Kaggle account, you can enter. If you're one of the top performers, you may have the chance to be contacted by a hiring manager from Arvato or Bertelsmann for an interview!\n",
    "\n",
    "Your entry to the competition should be a CSV file with two columns. The first column should be a copy of \"LNR\", which acts as an ID number for each individual in the \"TEST\" partition. The second column, \"RESPONSE\", should be some measure of how likely each individual became a customer – this might not be a straightforward probability. As you should have found in Part 2, there is a large output class imbalance, where most individuals did not respond to the mailout. Thus, predicting individual classes and using accuracy does not seem to be an appropriate performance evaluation method. Instead, the competition will be using AUC to evaluate performance. The exact values of the \"RESPONSE\" column do not matter as much: only that the higher values try to capture as many of the actual customers as possible, early in the ROC curve sweep."
   ]
  },
  {
   "cell_type": "code",
   "execution_count": 202,
   "metadata": {},
   "outputs": [
    {
     "name": "stderr",
     "output_type": "stream",
     "text": [
      "/opt/conda/lib/python3.6/site-packages/IPython/core/interactiveshell.py:2785: DtypeWarning: Columns (18,19) have mixed types. Specify dtype option on import or set low_memory=False.\n",
      "  interactivity=interactivity, compiler=compiler, result=result)\n"
     ]
    }
   ],
   "source": [
    "mailout_test = pd.read_csv('../../data/Term2/capstone/arvato_data/Udacity_MAILOUT_052018_TEST.csv', sep=';')"
   ]
  },
  {
   "cell_type": "code",
   "execution_count": 203,
   "metadata": {},
   "outputs": [
    {
     "data": {
      "text/plain": [
       "(42833, 366)"
      ]
     },
     "execution_count": 203,
     "metadata": {},
     "output_type": "execute_result"
    }
   ],
   "source": [
    "mailout_test.shape"
   ]
  },
  {
   "cell_type": "code",
   "execution_count": 204,
   "metadata": {},
   "outputs": [
    {
     "data": {
      "text/html": [
       "<div>\n",
       "<style scoped>\n",
       "    .dataframe tbody tr th:only-of-type {\n",
       "        vertical-align: middle;\n",
       "    }\n",
       "\n",
       "    .dataframe tbody tr th {\n",
       "        vertical-align: top;\n",
       "    }\n",
       "\n",
       "    .dataframe thead th {\n",
       "        text-align: right;\n",
       "    }\n",
       "</style>\n",
       "<table border=\"1\" class=\"dataframe\">\n",
       "  <thead>\n",
       "    <tr style=\"text-align: right;\">\n",
       "      <th></th>\n",
       "      <th>LNR</th>\n",
       "      <th>AGER_TYP</th>\n",
       "      <th>AKT_DAT_KL</th>\n",
       "      <th>ALTER_HH</th>\n",
       "      <th>ALTER_KIND1</th>\n",
       "      <th>ALTER_KIND2</th>\n",
       "      <th>ALTER_KIND3</th>\n",
       "      <th>ALTER_KIND4</th>\n",
       "      <th>ALTERSKATEGORIE_FEIN</th>\n",
       "      <th>ANZ_HAUSHALTE_AKTIV</th>\n",
       "      <th>...</th>\n",
       "      <th>VHN</th>\n",
       "      <th>VK_DHT4A</th>\n",
       "      <th>VK_DISTANZ</th>\n",
       "      <th>VK_ZG11</th>\n",
       "      <th>W_KEIT_KIND_HH</th>\n",
       "      <th>WOHNDAUER_2008</th>\n",
       "      <th>WOHNLAGE</th>\n",
       "      <th>ZABEOTYP</th>\n",
       "      <th>ANREDE_KZ</th>\n",
       "      <th>ALTERSKATEGORIE_GROB</th>\n",
       "    </tr>\n",
       "  </thead>\n",
       "  <tbody>\n",
       "    <tr>\n",
       "      <th>0</th>\n",
       "      <td>1754</td>\n",
       "      <td>2</td>\n",
       "      <td>1.0</td>\n",
       "      <td>7.0</td>\n",
       "      <td>NaN</td>\n",
       "      <td>NaN</td>\n",
       "      <td>NaN</td>\n",
       "      <td>NaN</td>\n",
       "      <td>6.0</td>\n",
       "      <td>2.0</td>\n",
       "      <td>...</td>\n",
       "      <td>4.0</td>\n",
       "      <td>5.0</td>\n",
       "      <td>6.0</td>\n",
       "      <td>3.0</td>\n",
       "      <td>6.0</td>\n",
       "      <td>9.0</td>\n",
       "      <td>3.0</td>\n",
       "      <td>3</td>\n",
       "      <td>1</td>\n",
       "      <td>4</td>\n",
       "    </tr>\n",
       "    <tr>\n",
       "      <th>1</th>\n",
       "      <td>1770</td>\n",
       "      <td>-1</td>\n",
       "      <td>1.0</td>\n",
       "      <td>0.0</td>\n",
       "      <td>NaN</td>\n",
       "      <td>NaN</td>\n",
       "      <td>NaN</td>\n",
       "      <td>NaN</td>\n",
       "      <td>0.0</td>\n",
       "      <td>20.0</td>\n",
       "      <td>...</td>\n",
       "      <td>1.0</td>\n",
       "      <td>5.0</td>\n",
       "      <td>2.0</td>\n",
       "      <td>1.0</td>\n",
       "      <td>6.0</td>\n",
       "      <td>9.0</td>\n",
       "      <td>5.0</td>\n",
       "      <td>3</td>\n",
       "      <td>1</td>\n",
       "      <td>4</td>\n",
       "    </tr>\n",
       "    <tr>\n",
       "      <th>2</th>\n",
       "      <td>1465</td>\n",
       "      <td>2</td>\n",
       "      <td>9.0</td>\n",
       "      <td>16.0</td>\n",
       "      <td>NaN</td>\n",
       "      <td>NaN</td>\n",
       "      <td>NaN</td>\n",
       "      <td>NaN</td>\n",
       "      <td>11.0</td>\n",
       "      <td>2.0</td>\n",
       "      <td>...</td>\n",
       "      <td>3.0</td>\n",
       "      <td>9.0</td>\n",
       "      <td>6.0</td>\n",
       "      <td>3.0</td>\n",
       "      <td>2.0</td>\n",
       "      <td>9.0</td>\n",
       "      <td>4.0</td>\n",
       "      <td>3</td>\n",
       "      <td>2</td>\n",
       "      <td>4</td>\n",
       "    </tr>\n",
       "    <tr>\n",
       "      <th>3</th>\n",
       "      <td>1470</td>\n",
       "      <td>-1</td>\n",
       "      <td>7.0</td>\n",
       "      <td>0.0</td>\n",
       "      <td>NaN</td>\n",
       "      <td>NaN</td>\n",
       "      <td>NaN</td>\n",
       "      <td>NaN</td>\n",
       "      <td>0.0</td>\n",
       "      <td>1.0</td>\n",
       "      <td>...</td>\n",
       "      <td>2.0</td>\n",
       "      <td>6.0</td>\n",
       "      <td>6.0</td>\n",
       "      <td>3.0</td>\n",
       "      <td>NaN</td>\n",
       "      <td>9.0</td>\n",
       "      <td>2.0</td>\n",
       "      <td>3</td>\n",
       "      <td>2</td>\n",
       "      <td>4</td>\n",
       "    </tr>\n",
       "    <tr>\n",
       "      <th>4</th>\n",
       "      <td>1478</td>\n",
       "      <td>1</td>\n",
       "      <td>1.0</td>\n",
       "      <td>21.0</td>\n",
       "      <td>NaN</td>\n",
       "      <td>NaN</td>\n",
       "      <td>NaN</td>\n",
       "      <td>NaN</td>\n",
       "      <td>13.0</td>\n",
       "      <td>1.0</td>\n",
       "      <td>...</td>\n",
       "      <td>1.0</td>\n",
       "      <td>2.0</td>\n",
       "      <td>4.0</td>\n",
       "      <td>3.0</td>\n",
       "      <td>3.0</td>\n",
       "      <td>9.0</td>\n",
       "      <td>7.0</td>\n",
       "      <td>4</td>\n",
       "      <td>2</td>\n",
       "      <td>4</td>\n",
       "    </tr>\n",
       "  </tbody>\n",
       "</table>\n",
       "<p>5 rows × 366 columns</p>\n",
       "</div>"
      ],
      "text/plain": [
       "    LNR  AGER_TYP  AKT_DAT_KL  ALTER_HH  ALTER_KIND1  ALTER_KIND2  \\\n",
       "0  1754         2         1.0       7.0          NaN          NaN   \n",
       "1  1770        -1         1.0       0.0          NaN          NaN   \n",
       "2  1465         2         9.0      16.0          NaN          NaN   \n",
       "3  1470        -1         7.0       0.0          NaN          NaN   \n",
       "4  1478         1         1.0      21.0          NaN          NaN   \n",
       "\n",
       "   ALTER_KIND3  ALTER_KIND4  ALTERSKATEGORIE_FEIN  ANZ_HAUSHALTE_AKTIV  \\\n",
       "0          NaN          NaN                   6.0                  2.0   \n",
       "1          NaN          NaN                   0.0                 20.0   \n",
       "2          NaN          NaN                  11.0                  2.0   \n",
       "3          NaN          NaN                   0.0                  1.0   \n",
       "4          NaN          NaN                  13.0                  1.0   \n",
       "\n",
       "          ...           VHN  VK_DHT4A  VK_DISTANZ  VK_ZG11  W_KEIT_KIND_HH  \\\n",
       "0         ...           4.0       5.0         6.0      3.0             6.0   \n",
       "1         ...           1.0       5.0         2.0      1.0             6.0   \n",
       "2         ...           3.0       9.0         6.0      3.0             2.0   \n",
       "3         ...           2.0       6.0         6.0      3.0             NaN   \n",
       "4         ...           1.0       2.0         4.0      3.0             3.0   \n",
       "\n",
       "   WOHNDAUER_2008  WOHNLAGE ZABEOTYP ANREDE_KZ ALTERSKATEGORIE_GROB  \n",
       "0             9.0       3.0        3         1                    4  \n",
       "1             9.0       5.0        3         1                    4  \n",
       "2             9.0       4.0        3         2                    4  \n",
       "3             9.0       2.0        3         2                    4  \n",
       "4             9.0       7.0        4         2                    4  \n",
       "\n",
       "[5 rows x 366 columns]"
      ]
     },
     "execution_count": 204,
     "metadata": {},
     "output_type": "execute_result"
    }
   ],
   "source": [
    "mailout_test.head()"
   ]
  },
  {
   "cell_type": "code",
   "execution_count": 205,
   "metadata": {},
   "outputs": [
    {
     "data": {
      "text/plain": [
       "<matplotlib.axes._subplots.AxesSubplot at 0x7f635405eb38>"
      ]
     },
     "execution_count": 205,
     "metadata": {},
     "output_type": "execute_result"
    },
    {
     "data": {
      "image/png": "[encoded data removed]",
      "text/plain": [
       "<matplotlib.figure.Figure at 0x7f635405e4a8>"
      ]
     },
     "metadata": {
      "needs_background": "light"
     },
     "output_type": "display_data"
    }
   ],
   "source": [
    "# null values in test dataset\n",
    "mailout_test.isnull().mean().sort_values(ascending=False)[:50].plot(kind=\"bar\", figsize=[16,8])"
   ]
  },
  {
   "cell_type": "markdown",
   "metadata": {},
   "source": [
    "### 3.1. Preprocess of final test dataset"
   ]
  },
  {
   "cell_type": "markdown",
   "metadata": {},
   "source": [
    "***This data prepocess function is for only final test dataset. \n",
    "We need to keep all rows for final test dataset. So, we don't drop any row.***"
   ]
  },
  {
   "cell_type": "code",
   "execution_count": 206,
   "metadata": {},
   "outputs": [],
   "source": [
    "def data_preprocessing_3 (df):\n",
    "    \"\"\"\n",
    "    ***This data prepocess function is for only final test dataset. \n",
    "    We need to keep all rows for final test dataset. So, we don't drop any row.\n",
    "    \n",
    "    Perform cleaning of demographics dataset by dropping missing columns only, reencoding, \n",
    "    completing missing values, and dropping correlated features\n",
    "    \n",
    "    Input: \n",
    "    df: Demographic dataset (DataFrame)\n",
    "    df_name: Name of dataframe (str)\n",
    "    \n",
    "    Output:\n",
    "    df_clean: Cleaned dataset (DataFrame)\n",
    "    \"\"\"\n",
    "    # Get copy of df\n",
    "    df_clean=df.copy()\n",
    "    \n",
    "      \n",
    "    # Drop columns which involve too many missing values\n",
    "    df_clean.drop(columns= ['ALTER_KIND1', 'ALTER_KIND2', 'ALTER_KIND3', 'ALTER_KIND4', 'EXTSEL992','KK_KUNDENTYP'], \n",
    "                  inplace=True)\n",
    "    \n",
    "    # Remove the columns which involve too many features\n",
    "    df_clean.drop(columns=[\"CAMEO_DEU_2015\", \"CAMEO_INTL_2015\", \"D19_LETZTER_KAUF_BRANCHE\"], inplace=True)\n",
    "    \n",
    "    # Change dtype of EINGEFUEGT_AM column from object to datetime and extract only year\n",
    "    df_clean[\"EINGEFUEGT_AM\"]=pd.to_datetime(df_clean[\"EINGEFUEGT_AM\"])\n",
    "    df_clean[\"EINGEFUEGT_AM\"]=pd.DatetimeIndex(df_clean[\"EINGEFUEGT_AM\"]).year\n",
    "    \n",
    "    # Convert categorical column to encoded\n",
    "    df_clean[\"CAMEO_DEUG_2015\"]=pd.factorize(df_clean[\"CAMEO_DEUG_2015\"])[0]\n",
    "    \n",
    "    # Convert categorical column to encoded\n",
    "    df_clean=pd.get_dummies(df_clean, drop_first=True)\n",
    "        \n",
    "    # Impute missing values with mode value\n",
    "    imputer = Imputer(strategy='most_frequent')\n",
    "    df_clean=pd.DataFrame(imputer.fit_transform(df_clean), columns = df_clean.columns)\n",
    "    \n",
    "    # Identify and remove 45 correlated features\n",
    "    \n",
    "    df_clean.drop(columns=['ANZ_STATISTISCHE_HAUSHALTE', 'CJT_TYP_2', 'D19_BANKEN_ONLINE_DATUM', 'D19_BANKEN_ONLINE_QUOTE_12',\n",
    "    'D19_GESAMT_ANZ_24', 'D19_GESAMT_DATUM', 'D19_GESAMT_ONLINE_DATUM', 'D19_GESAMT_ONLINE_QUOTE_12',\n",
    "    'D19_KONSUMTYP_MAX', 'D19_VERSAND_ANZ_12', 'D19_VERSAND_ANZ_24', 'D19_VERSAND_DATUM', 'D19_VERSAND_ONLINE_DATUM',\n",
    "    'D19_VERSAND_ONLINE_QUOTE_12', 'KBA05_KRSAQUOT', 'KBA05_KRSHERST1', 'KBA05_KRSHERST2', 'KBA05_KRSHERST3',\n",
    "    'KBA05_SEG2', 'KBA05_SEG5', 'KBA05_SEG6', 'KBA05_SEG9', 'KBA05_ZUL4', 'KBA13_HALTER_40', 'KBA13_HALTER_55',\n",
    "    'KBA13_HALTER_66', 'KBA13_HERST_SONST', 'KBA13_KMH_250', 'KBA13_SITZE_5', 'KBA13_VW', 'LP_FAMILIE_GROB',\n",
    "    'LP_LEBENSPHASE_FEIN', 'LP_LEBENSPHASE_GROB', 'LP_STATUS_GROB', 'MIN_GEBAEUDEJAHR', 'ORTSGR_KLS9', 'PLZ8_ANTG1',\n",
    "    'PLZ8_ANTG3', 'PLZ8_ANTG4', 'PLZ8_BAUMAX', 'PLZ8_GBZ', 'PLZ8_HHZ', 'VK_DISTANZ', 'VK_ZG11', 'ANREDE_KZ'], inplace=True)\n",
    "    \n",
    "\n",
    "    # Standardization of dataset\n",
    "    lnr=df_clean['LNR']\n",
    "    scaler = StandardScaler()\n",
    "    df_clean=pd.DataFrame(scaler.fit_transform(df_clean), columns = df_clean.columns)\n",
    "    df_clean['LNR']=lnr\n",
    "    \n",
    "    # set index LNR column\n",
    "    df_clean.set_index(\"LNR\", inplace=True)\n",
    "\n",
    "    return df_clean"
   ]
  },
  {
   "cell_type": "code",
   "execution_count": 207,
   "metadata": {},
   "outputs": [],
   "source": [
    "mailout_test_clean=data_preprocessing_3(mailout_test)"
   ]
  },
  {
   "cell_type": "code",
   "execution_count": 228,
   "metadata": {},
   "outputs": [
    {
     "data": {
      "text/plain": [
       "(42833, 311)"
      ]
     },
     "execution_count": 228,
     "metadata": {},
     "output_type": "execute_result"
    }
   ],
   "source": [
    "mailout_test_clean.shape"
   ]
  },
  {
   "cell_type": "code",
   "execution_count": 229,
   "metadata": {},
   "outputs": [
    {
     "data": {
      "text/html": [
       "<div>\n",
       "<style scoped>\n",
       "    .dataframe tbody tr th:only-of-type {\n",
       "        vertical-align: middle;\n",
       "    }\n",
       "\n",
       "    .dataframe tbody tr th {\n",
       "        vertical-align: top;\n",
       "    }\n",
       "\n",
       "    .dataframe thead th {\n",
       "        text-align: right;\n",
       "    }\n",
       "</style>\n",
       "<table border=\"1\" class=\"dataframe\">\n",
       "  <thead>\n",
       "    <tr style=\"text-align: right;\">\n",
       "      <th></th>\n",
       "      <th>AGER_TYP</th>\n",
       "      <th>AKT_DAT_KL</th>\n",
       "      <th>ALTER_HH</th>\n",
       "      <th>ALTERSKATEGORIE_FEIN</th>\n",
       "      <th>ANZ_HAUSHALTE_AKTIV</th>\n",
       "      <th>ANZ_HH_TITEL</th>\n",
       "      <th>ANZ_KINDER</th>\n",
       "      <th>ANZ_PERSONEN</th>\n",
       "      <th>ANZ_TITEL</th>\n",
       "      <th>ARBEIT</th>\n",
       "      <th>...</th>\n",
       "      <th>VERS_TYP</th>\n",
       "      <th>VHA</th>\n",
       "      <th>VHN</th>\n",
       "      <th>VK_DHT4A</th>\n",
       "      <th>W_KEIT_KIND_HH</th>\n",
       "      <th>WOHNDAUER_2008</th>\n",
       "      <th>WOHNLAGE</th>\n",
       "      <th>ZABEOTYP</th>\n",
       "      <th>ALTERSKATEGORIE_GROB</th>\n",
       "      <th>OST_WEST_KZ_W</th>\n",
       "    </tr>\n",
       "    <tr>\n",
       "      <th>LNR</th>\n",
       "      <th></th>\n",
       "      <th></th>\n",
       "      <th></th>\n",
       "      <th></th>\n",
       "      <th></th>\n",
       "      <th></th>\n",
       "      <th></th>\n",
       "      <th></th>\n",
       "      <th></th>\n",
       "      <th></th>\n",
       "      <th></th>\n",
       "      <th></th>\n",
       "      <th></th>\n",
       "      <th></th>\n",
       "      <th></th>\n",
       "      <th></th>\n",
       "      <th></th>\n",
       "      <th></th>\n",
       "      <th></th>\n",
       "      <th></th>\n",
       "      <th></th>\n",
       "    </tr>\n",
       "  </thead>\n",
       "  <tbody>\n",
       "    <tr>\n",
       "      <th>1754.0</th>\n",
       "      <td>1.033789</td>\n",
       "      <td>-0.271646</td>\n",
       "      <td>-0.236176</td>\n",
       "      <td>-0.920349</td>\n",
       "      <td>-0.273330</td>\n",
       "      <td>-0.120872</td>\n",
       "      <td>-0.206929</td>\n",
       "      <td>0.108587</td>\n",
       "      <td>-0.088595</td>\n",
       "      <td>-0.211076</td>\n",
       "      <td>...</td>\n",
       "      <td>-0.052842</td>\n",
       "      <td>0.033727</td>\n",
       "      <td>1.627638</td>\n",
       "      <td>0.396115</td>\n",
       "      <td>0.659184</td>\n",
       "      <td>0.244893</td>\n",
       "      <td>-0.468790</td>\n",
       "      <td>0.178441</td>\n",
       "      <td>0.728696</td>\n",
       "      <td>0.774505</td>\n",
       "    </tr>\n",
       "    <tr>\n",
       "      <th>1770.0</th>\n",
       "      <td>-1.086712</td>\n",
       "      <td>-0.271646</td>\n",
       "      <td>-1.274215</td>\n",
       "      <td>-2.426369</td>\n",
       "      <td>1.047062</td>\n",
       "      <td>-0.120872</td>\n",
       "      <td>-0.206929</td>\n",
       "      <td>-0.660824</td>\n",
       "      <td>-0.088595</td>\n",
       "      <td>0.774537</td>\n",
       "      <td>...</td>\n",
       "      <td>-0.052842</td>\n",
       "      <td>0.033727</td>\n",
       "      <td>-1.245023</td>\n",
       "      <td>0.396115</td>\n",
       "      <td>0.659184</td>\n",
       "      <td>0.244893</td>\n",
       "      <td>0.579374</td>\n",
       "      <td>0.178441</td>\n",
       "      <td>0.728696</td>\n",
       "      <td>0.774505</td>\n",
       "    </tr>\n",
       "    <tr>\n",
       "      <th>1465.0</th>\n",
       "      <td>1.033789</td>\n",
       "      <td>4.719141</td>\n",
       "      <td>1.098445</td>\n",
       "      <td>0.334667</td>\n",
       "      <td>-0.273330</td>\n",
       "      <td>-0.120872</td>\n",
       "      <td>-0.206929</td>\n",
       "      <td>1.647408</td>\n",
       "      <td>-0.088595</td>\n",
       "      <td>0.774537</td>\n",
       "      <td>...</td>\n",
       "      <td>-0.052842</td>\n",
       "      <td>0.033727</td>\n",
       "      <td>0.670084</td>\n",
       "      <td>1.668202</td>\n",
       "      <td>-1.591635</td>\n",
       "      <td>0.244893</td>\n",
       "      <td>0.055292</td>\n",
       "      <td>0.178441</td>\n",
       "      <td>0.728696</td>\n",
       "      <td>0.774505</td>\n",
       "    </tr>\n",
       "    <tr>\n",
       "      <th>1470.0</th>\n",
       "      <td>-1.086712</td>\n",
       "      <td>3.471445</td>\n",
       "      <td>-1.274215</td>\n",
       "      <td>-2.426369</td>\n",
       "      <td>-0.346685</td>\n",
       "      <td>-0.120872</td>\n",
       "      <td>-0.206929</td>\n",
       "      <td>-1.430235</td>\n",
       "      <td>-0.088595</td>\n",
       "      <td>0.774537</td>\n",
       "      <td>...</td>\n",
       "      <td>0.909884</td>\n",
       "      <td>0.033727</td>\n",
       "      <td>-0.287470</td>\n",
       "      <td>0.714136</td>\n",
       "      <td>0.659184</td>\n",
       "      <td>0.244893</td>\n",
       "      <td>-0.992871</td>\n",
       "      <td>0.178441</td>\n",
       "      <td>0.728696</td>\n",
       "      <td>-1.291147</td>\n",
       "    </tr>\n",
       "    <tr>\n",
       "      <th>1478.0</th>\n",
       "      <td>0.326956</td>\n",
       "      <td>-0.271646</td>\n",
       "      <td>1.839902</td>\n",
       "      <td>0.836674</td>\n",
       "      <td>-0.346685</td>\n",
       "      <td>-0.120872</td>\n",
       "      <td>-0.206929</td>\n",
       "      <td>1.647408</td>\n",
       "      <td>-0.088595</td>\n",
       "      <td>-0.211076</td>\n",
       "      <td>...</td>\n",
       "      <td>-0.052842</td>\n",
       "      <td>0.033727</td>\n",
       "      <td>-1.245023</td>\n",
       "      <td>-0.557951</td>\n",
       "      <td>-1.028930</td>\n",
       "      <td>0.244893</td>\n",
       "      <td>1.627537</td>\n",
       "      <td>1.070811</td>\n",
       "      <td>0.728696</td>\n",
       "      <td>0.774505</td>\n",
       "    </tr>\n",
       "  </tbody>\n",
       "</table>\n",
       "<p>5 rows × 311 columns</p>\n",
       "</div>"
      ],
      "text/plain": [
       "        AGER_TYP  AKT_DAT_KL  ALTER_HH  ALTERSKATEGORIE_FEIN  \\\n",
       "LNR                                                            \n",
       "1754.0  1.033789   -0.271646 -0.236176             -0.920349   \n",
       "1770.0 -1.086712   -0.271646 -1.274215             -2.426369   \n",
       "1465.0  1.033789    4.719141  1.098445              0.334667   \n",
       "1470.0 -1.086712    3.471445 -1.274215             -2.426369   \n",
       "1478.0  0.326956   -0.271646  1.839902              0.836674   \n",
       "\n",
       "        ANZ_HAUSHALTE_AKTIV  ANZ_HH_TITEL  ANZ_KINDER  ANZ_PERSONEN  \\\n",
       "LNR                                                                   \n",
       "1754.0            -0.273330     -0.120872   -0.206929      0.108587   \n",
       "1770.0             1.047062     -0.120872   -0.206929     -0.660824   \n",
       "1465.0            -0.273330     -0.120872   -0.206929      1.647408   \n",
       "1470.0            -0.346685     -0.120872   -0.206929     -1.430235   \n",
       "1478.0            -0.346685     -0.120872   -0.206929      1.647408   \n",
       "\n",
       "        ANZ_TITEL    ARBEIT      ...        VERS_TYP       VHA       VHN  \\\n",
       "LNR                              ...                                       \n",
       "1754.0  -0.088595 -0.211076      ...       -0.052842  0.033727  1.627638   \n",
       "1770.0  -0.088595  0.774537      ...       -0.052842  0.033727 -1.245023   \n",
       "1465.0  -0.088595  0.774537      ...       -0.052842  0.033727  0.670084   \n",
       "1470.0  -0.088595  0.774537      ...        0.909884  0.033727 -0.287470   \n",
       "1478.0  -0.088595 -0.211076      ...       -0.052842  0.033727 -1.245023   \n",
       "\n",
       "        VK_DHT4A  W_KEIT_KIND_HH  WOHNDAUER_2008  WOHNLAGE  ZABEOTYP  \\\n",
       "LNR                                                                    \n",
       "1754.0  0.396115        0.659184        0.244893 -0.468790  0.178441   \n",
       "1770.0  0.396115        0.659184        0.244893  0.579374  0.178441   \n",
       "1465.0  1.668202       -1.591635        0.244893  0.055292  0.178441   \n",
       "1470.0  0.714136        0.659184        0.244893 -0.992871  0.178441   \n",
       "1478.0 -0.557951       -1.028930        0.244893  1.627537  1.070811   \n",
       "\n",
       "        ALTERSKATEGORIE_GROB  OST_WEST_KZ_W  \n",
       "LNR                                          \n",
       "1754.0              0.728696       0.774505  \n",
       "1770.0              0.728696       0.774505  \n",
       "1465.0              0.728696       0.774505  \n",
       "1470.0              0.728696      -1.291147  \n",
       "1478.0              0.728696       0.774505  \n",
       "\n",
       "[5 rows x 311 columns]"
      ]
     },
     "execution_count": 229,
     "metadata": {},
     "output_type": "execute_result"
    }
   ],
   "source": [
    "mailout_test_clean.head()"
   ]
  },
  {
   "cell_type": "code",
   "execution_count": 231,
   "metadata": {},
   "outputs": [],
   "source": [
    "# prediction by using previous model\n",
    "y_test_pred=rs_model.predict(mailout_test_clean)"
   ]
  },
  {
   "cell_type": "code",
   "execution_count": 232,
   "metadata": {},
   "outputs": [
    {
     "data": {
      "text/plain": [
       "array([ 0.12584868,  0.13262419,  0.10235318, ...,  0.10826494,\n",
       "        0.12451632,  0.12213261], dtype=float32)"
      ]
     },
     "execution_count": 232,
     "metadata": {},
     "output_type": "execute_result"
    }
   ],
   "source": [
    "y_test_pred"
   ]
  },
  {
   "cell_type": "code",
   "execution_count": 233,
   "metadata": {},
   "outputs": [
    {
     "data": {
      "text/plain": [
       "(42833,)"
      ]
     },
     "execution_count": 233,
     "metadata": {},
     "output_type": "execute_result"
    }
   ],
   "source": [
    "y_test_pred.shape"
   ]
  },
  {
   "cell_type": "code",
   "execution_count": 234,
   "metadata": {},
   "outputs": [],
   "source": [
    "# create dataframe by using LNR column and predictions\n",
    "df_kaggle=pd.DataFrame({\"RESPONSE\": y_test_pred},index= mailout_test_clean.index.astype(int))"
   ]
  },
  {
   "cell_type": "code",
   "execution_count": 235,
   "metadata": {},
   "outputs": [
    {
     "data": {
      "text/plain": [
       "(42833, 1)"
      ]
     },
     "execution_count": 235,
     "metadata": {},
     "output_type": "execute_result"
    }
   ],
   "source": [
    "df_kaggle.shape"
   ]
  },
  {
   "cell_type": "code",
   "execution_count": 236,
   "metadata": {},
   "outputs": [
    {
     "data": {
      "text/html": [
       "<div>\n",
       "<style scoped>\n",
       "    .dataframe tbody tr th:only-of-type {\n",
       "        vertical-align: middle;\n",
       "    }\n",
       "\n",
       "    .dataframe tbody tr th {\n",
       "        vertical-align: top;\n",
       "    }\n",
       "\n",
       "    .dataframe thead th {\n",
       "        text-align: right;\n",
       "    }\n",
       "</style>\n",
       "<table border=\"1\" class=\"dataframe\">\n",
       "  <thead>\n",
       "    <tr style=\"text-align: right;\">\n",
       "      <th></th>\n",
       "      <th>RESPONSE</th>\n",
       "    </tr>\n",
       "    <tr>\n",
       "      <th>LNR</th>\n",
       "      <th></th>\n",
       "    </tr>\n",
       "  </thead>\n",
       "  <tbody>\n",
       "    <tr>\n",
       "      <th>1754</th>\n",
       "      <td>0.125849</td>\n",
       "    </tr>\n",
       "    <tr>\n",
       "      <th>1770</th>\n",
       "      <td>0.132624</td>\n",
       "    </tr>\n",
       "    <tr>\n",
       "      <th>1465</th>\n",
       "      <td>0.102353</td>\n",
       "    </tr>\n",
       "    <tr>\n",
       "      <th>1470</th>\n",
       "      <td>0.102383</td>\n",
       "    </tr>\n",
       "    <tr>\n",
       "      <th>1478</th>\n",
       "      <td>0.108291</td>\n",
       "    </tr>\n",
       "  </tbody>\n",
       "</table>\n",
       "</div>"
      ],
      "text/plain": [
       "      RESPONSE\n",
       "LNR           \n",
       "1754  0.125849\n",
       "1770  0.132624\n",
       "1465  0.102353\n",
       "1470  0.102383\n",
       "1478  0.108291"
      ]
     },
     "execution_count": 236,
     "metadata": {},
     "output_type": "execute_result"
    }
   ],
   "source": [
    "df_kaggle.head()"
   ]
  },
  {
   "cell_type": "code",
   "execution_count": 237,
   "metadata": {},
   "outputs": [],
   "source": [
    "df_kaggle.to_csv('kaggle_submission.csv')"
   ]
  },
  {
   "cell_type": "code",
   "execution_count": null,
   "metadata": {},
   "outputs": [],
   "source": []
  }
 ],
 "metadata": {
  "kernelspec": {
   "display_name": "Python 3",
   "language": "python",
   "name": "python3"
  },
  "language_info": {
   "codemirror_mode": {
    "name": "ipython",
    "version": 3
   },
   "file_extension": ".py",
   "mimetype": "text/x-python",
   "name": "python",
   "nbconvert_exporter": "python",
   "pygments_lexer": "ipython3",
   "version": "3.6.3"
  }
 },
 "nbformat": 4,
 "nbformat_minor": 2
}
